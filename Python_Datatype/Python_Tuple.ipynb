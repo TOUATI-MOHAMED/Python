{
  "nbformat": 4,
  "nbformat_minor": 0,
  "metadata": {
    "colab": {
      "provenance": [],
      "authorship_tag": "ABX9TyP1izoEmCcCMDrtzCaluSzO",
      "include_colab_link": true
    },
    "kernelspec": {
      "name": "python3",
      "display_name": "Python 3"
    }
  },
  "cells": [
    {
      "cell_type": "markdown",
      "metadata": {
        "id": "view-in-github",
        "colab_type": "text"
      },
      "source": [
        "<a href=\"https://colab.research.google.com/github/TOUATI-MOHAMED/Python/blob/master/Python_Datatype/Python_Tuple.ipynb\" target=\"_parent\"><img src=\"https://colab.research.google.com/assets/colab-badge.svg\" alt=\"Open In Colab\"/></a>"
      ]
    },
    {
      "cell_type": "markdown",
      "metadata": {
        "id": "nl412rXCHqaa"
      },
      "source": [
        "# **Python Tuple**\n",
        "In this part, you'll learn everything about Python tuples. More specifically, what are tuples, how to create them, when to use them and various methods you should be familiar with.\n",
        "\n",
        "A tuple in Python is similar to a list. The difference between the two is that we cannot change the elements of a tuple once it is assigned whereas, in a list, elements can be changed.\n",
        "\n",
        "# **Creating a Tuple**\n",
        "A tuple is created by placing all the items (elements) inside parentheses (), separated by commas. The parentheses are optional, however, it is a good practice to use them.\n",
        "\n",
        "A tuple can have any number of items and they may be of different types (integer, float, list, string, etc.).\n",
        "\n"
      ]
    },
    {
      "cell_type": "code",
      "metadata": {
        "id": "9a2NKffOHg4F"
      },
      "source": [
        "# Empty tuple\n",
        "my_tuple = ()\n",
        "print(my_tuple)  # Output: ()\n",
        "\n",
        "# Tuple having integers\n",
        "my_tuple = (1, 2, 3)\n",
        "print(my_tuple)  # Output: (1, 2, 3) \n",
        "\n",
        "# tuple with mixed datatypes\n",
        "my_tuple = (1, \"Hello\", 3.4)\n",
        "print(my_tuple)  # Output: (1, \"Hello\", 3.4)  \n",
        "\n",
        "# nested tuple\n",
        "my_tuple = (\"mouse\", [8, 4, 6], (1, 2, 3))\n",
        "\n",
        "# Output: (\"mouse\", [8, 4, 6], (1, 2, 3)) \n",
        "print(my_tuple)"
      ],
      "execution_count": null,
      "outputs": []
    },
    {
      "cell_type": "markdown",
      "metadata": {
        "id": "nWNHHuASV4uz"
      },
      "source": [
        "A tuple can also be created without using parentheses. This is known as tuple packing.\n",
        "\n"
      ]
    },
    {
      "cell_type": "code",
      "metadata": {
        "id": "lUnluki6V6xL",
        "colab": {
          "base_uri": "https://localhost:8080/",
          "height": 85
        },
        "outputId": "01ac2a2a-49ca-4c45-cac7-146bd2e26842"
      },
      "source": [
        "my_tuple = 3, 4.6, \"dog\"\n",
        "print(my_tuple)   # Output: 3, 4.6, \"dog\" \n",
        "\n",
        "# tuple unpacking is also possible\n",
        "a, b, c = my_tuple\n",
        "\n",
        "print(a)      # 3\n",
        "print(b)      # 4.6 \n",
        "print(c)      # dog "
      ],
      "execution_count": null,
      "outputs": [
        {
          "output_type": "stream",
          "text": [
            "(3, 4.6, 'dog')\n",
            "3\n",
            "4.6\n",
            "dog\n"
          ],
          "name": "stdout"
        }
      ]
    },
    {
      "cell_type": "markdown",
      "metadata": {
        "id": "0pXDw6sLWsLP"
      },
      "source": [
        "Creating a tuple with one element is a bit tricky.\n",
        "\n",
        "Having one element within parentheses is not enough. We will need a trailing comma to indicate that it is, in fact, a tuple.\n",
        "\n"
      ]
    },
    {
      "cell_type": "code",
      "metadata": {
        "id": "vsufDgT3Wy-j"
      },
      "source": [
        "my_tuple = (\"hello\")\n",
        "print(type(my_tuple))  # <class 'str'>\n",
        "\n",
        "# Creating a tuple having one element\n",
        "my_tuple = (\"hello\",)  \n",
        "print(type(my_tuple))  # <class 'tuple'> \n",
        "\n",
        "# Parentheses is optional\n",
        "my_tuple = \"hello\",\n",
        "print(type(my_tuple))  # <class 'tuple'> "
      ],
      "execution_count": null,
      "outputs": []
    },
    {
      "cell_type": "markdown",
      "metadata": {
        "id": "AZASjJx9W7Jv"
      },
      "source": [
        "# **Access Tuple Elements**\n",
        "There are various ways in which we can access the elements of a tuple.\n",
        "\n",
        "**1. Indexing**\n",
        "\n",
        "We can use the index operator [] to access an item in a tuple where the index starts from 0.\n",
        "\n",
        "So, a tuple having 6 elements will have indices from 0 to 5. Trying to access an element outside of tuple (for example, 6, 7,...) will raise an IndexError.\n",
        "\n",
        "The index must be an integer; so we cannot use float or other types. This will result in TypeError.\n",
        "\n",
        "Likewise, nested tuples are accessed using nested indexing, as shown in the example below."
      ]
    },
    {
      "cell_type": "code",
      "metadata": {
        "id": "0Uum2oapWBc9"
      },
      "source": [
        "my_tuple = ('p','e','r','m','i','t')\n",
        "\n",
        "print(my_tuple[0])   # 'p' \n",
        "print(my_tuple[5])   # 't'\n",
        "\n",
        "# IndexError: list index out of range\n",
        "# print(my_tuple[6])\n",
        "\n",
        "# Index must be an integer\n",
        "# TypeError: list indices must be integers, not float\n",
        "# my_tuple[2.0]\n",
        "\n",
        "# nested tuple\n",
        "n_tuple = (\"mouse\", [8, 4, 6], (1, 2, 3))\n",
        "\n",
        "# nested index\n",
        "print(n_tuple[0][3])       # 's'\n",
        "print(n_tuple[1][1])       # 4"
      ],
      "execution_count": null,
      "outputs": []
    },
    {
      "cell_type": "markdown",
      "metadata": {
        "id": "xIBEwEu6XQHD"
      },
      "source": [
        "Python allows negative indexing for its sequences.\n",
        "\n",
        "The index of -1 refers to the last item, -2 to the second last item and so on."
      ]
    },
    {
      "cell_type": "code",
      "metadata": {
        "id": "2itrtLUiXR0q"
      },
      "source": [
        "my_tuple = ('p','e','r','m','i','t')\n",
        "\n",
        "# Output: 't'\n",
        "print(my_tuple[-1])\n",
        "\n",
        "# Output: 'p'\n",
        "print(my_tuple[-6])"
      ],
      "execution_count": null,
      "outputs": []
    },
    {
      "cell_type": "markdown",
      "metadata": {
        "id": "aNY-YRIZXVaE"
      },
      "source": [
        "**3. Slicing**\n",
        "\n",
        "We can access a range of items in a tuple by using the slicing operator - colon \":\".\n",
        "\n"
      ]
    },
    {
      "cell_type": "code",
      "metadata": {
        "id": "5BJikPiSXZZw"
      },
      "source": [
        "my_tuple = ('p','r','o','g','r','a','m','i','z')\n",
        "\n",
        "# elements 2nd to 4th\n",
        "# Output: ('r', 'o', 'g')\n",
        "print(my_tuple[1:4])\n",
        "\n",
        "# elements beginning to 2nd\n",
        "# Output: ('p', 'r')\n",
        "print(my_tuple[:-7])\n",
        "\n",
        "# elements 8th to end\n",
        "# Output: ('i', 'z')\n",
        "print(my_tuple[7:])\n",
        "\n",
        "# elements beginning to end\n",
        "# Output: ('p', 'r', 'o', 'g', 'r', 'a', 'm', 'i', 'z')\n",
        "print(my_tuple[:])"
      ],
      "execution_count": null,
      "outputs": []
    },
    {
      "cell_type": "markdown",
      "metadata": {
        "id": "zkefOFkmXb0a"
      },
      "source": [
        "Slicing can be best visualized by considering the index to be between the elements as shown below. So if we want to access a range, we need the index that will slice the portion from the tuple.\n",
        "\n",
        "\n",
        "![image.png](data:image/png;base64,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)"
      ]
    },
    {
      "cell_type": "markdown",
      "metadata": {
        "id": "mZucOQiAXhOl"
      },
      "source": [
        "# **Changing a Tuple**\n",
        "Unlike lists, tuples are immutable.\n",
        "\n",
        "This means that elements of a tuple cannot be changed once it has been assigned. But, if the element is itself a mutable datatype like list, its nested items can be changed.\n",
        "\n",
        "We can also assign a tuple to different values (reassignment)."
      ]
    },
    {
      "cell_type": "code",
      "metadata": {
        "id": "W1Nnh2D4Xlhi"
      },
      "source": [
        "my_tuple = (4, 2, 3, [6, 5])\n",
        "\n",
        "\n",
        "# TypeError: 'tuple' object does not support item assignment\n",
        "# my_tuple[1] = 9\n",
        "\n",
        "# However, item of mutable element can be changed\n",
        "my_tuple[3][0] = 9    # Output: (4, 2, 3, [9, 5])\n",
        "print(my_tuple)\n",
        "\n",
        "# Tuples can be reassigned\n",
        "my_tuple = ('p','r','o','g','r','a','m','i','z')\n",
        "\n",
        "# Output: ('p', 'r', 'o', 'g', 'r', 'a', 'm', 'i', 'z')\n",
        "print(my_tuple)"
      ],
      "execution_count": null,
      "outputs": []
    },
    {
      "cell_type": "markdown",
      "metadata": {
        "id": "ugTYuCi7XoA8"
      },
      "source": [
        "We can use + operator to combine two tuples. This is also called concatenation.\n",
        "\n",
        "We can also repeat the elements in a tuple for a given number of times using the * operator.\n",
        "\n",
        "Both + and * operations result in a new tuple."
      ]
    },
    {
      "cell_type": "code",
      "metadata": {
        "id": "K368meuGXqG7"
      },
      "source": [
        "# Concatenation\n",
        "# Output: (1, 2, 3, 4, 5, 6)\n",
        "print((1, 2, 3) + (4, 5, 6))\n",
        "\n",
        "# Repeat\n",
        "# Output: ('Repeat', 'Repeat', 'Repeat')\n",
        "print((\"Repeat\",) * 3)"
      ],
      "execution_count": null,
      "outputs": []
    },
    {
      "cell_type": "markdown",
      "metadata": {
        "id": "4dfJ-rihXsXd"
      },
      "source": [
        "# **Deleting a Tuple**\n",
        "As discussed above, we cannot change the elements in a tuple. That also means we cannot delete or remove items from a tuple.\n",
        "\n",
        "But deleting a tuple entirely is possible using the keyword del.\n",
        "\n"
      ]
    },
    {
      "cell_type": "code",
      "metadata": {
        "id": "sgyyBz1tXxan"
      },
      "source": [
        "my_tuple = ('p','r','o','g','r','a','m','i','z')\n",
        "\n",
        "# can't delete items\n",
        "# TypeError: 'tuple' object doesn't support item deletion\n",
        "# del my_tuple[3]\n",
        "\n",
        "# Can delete an entire tuple\n",
        "del my_tuple\n",
        "\n",
        "# NameError: name 'my_tuple' is not defined\n",
        "print(my_tuple)"
      ],
      "execution_count": null,
      "outputs": []
    },
    {
      "cell_type": "markdown",
      "metadata": {
        "id": "na8-mYZ7Xzu2"
      },
      "source": [
        "# **Tuple Methods**\n",
        "Methods that add items or remove items are not available with tuple. Only the following two methods are available.\n",
        "\n",
        "![image.png](data:image/png;base64,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)"
      ]
    },
    {
      "cell_type": "markdown",
      "metadata": {
        "id": "lM9trMMtX8u8"
      },
      "source": [
        "Some examples of Python tuple methods:\n",
        "\n"
      ]
    },
    {
      "cell_type": "code",
      "metadata": {
        "id": "dFFB8UqOX-XP"
      },
      "source": [
        "my_tuple = ('a','p','p','l','e',)\n",
        "\n",
        "print(my_tuple.count('p'))  # Output: 2\n",
        "print(my_tuple.index('l'))  # Output: 3"
      ],
      "execution_count": null,
      "outputs": []
    },
    {
      "cell_type": "markdown",
      "metadata": {
        "id": "TYARZvshYIFe"
      },
      "source": [
        "# **Other Tuple Operations**\n",
        "**1. Tuple Membership Test**\n",
        "\n",
        "We can test if an item exists in a tuple or not, using the keyword in."
      ]
    },
    {
      "cell_type": "code",
      "metadata": {
        "id": "AY0cEePTYPEL"
      },
      "source": [
        "my_tuple = ('a','p','p','l','e',)\n",
        "\n",
        "# In operation\n",
        "# Output: True\n",
        "print('a' in my_tuple)\n",
        "\n",
        "# Output: False\n",
        "print('b' in my_tuple)\n",
        "\n",
        "# Not in operation\n",
        "# Output: True\n",
        "print('g' not in my_tuple)"
      ],
      "execution_count": null,
      "outputs": []
    },
    {
      "cell_type": "markdown",
      "metadata": {
        "id": "KoMGbUt9YSjX"
      },
      "source": [
        "**2. Iterating Through a Tuple**\n",
        "\n",
        "Using a for loop we can iterate through each item in a tuple."
      ]
    },
    {
      "cell_type": "code",
      "metadata": {
        "id": "j-UKok-tYWqI"
      },
      "source": [
        "# Output: \n",
        "# Hello John\n",
        "# Hello Kate\n",
        "for name in ('John','Kate'):\n",
        "     print(\"Hello\",name)    "
      ],
      "execution_count": null,
      "outputs": []
    },
    {
      "cell_type": "markdown",
      "metadata": {
        "id": "bSM9GyqYYZh5"
      },
      "source": [
        "# **Advantages of Tuple over List**\n",
        "Since tuples are quite similar to lists, both of them are used in similar situations as well.\n",
        "\n",
        "However, there are certain advantages of implementing a tuple over a list. Below listed are some of the main advantages:\n",
        "\n",
        "\n",
        "*   We generally use tuple for heterogeneous (different) datatypes and list for homogeneous (similar) datatypes. \n",
        "\n",
        "\n",
        "*   Since tuples are immutable, iterating through tuple is faster than with list. So there is a slight performance boost.\n",
        "\n",
        "*   \n",
        "Tuples that contain immutable elements can be used as a key for a dictionary. With lists, this is not possible.\n",
        "*  \n",
        "If you have data that doesn't change, implementing it as tuple will guarantee that it remains write-protected. \n",
        "\n",
        "\n",
        "\n",
        "\n",
        "\n",
        "\n"
      ]
    }
  ]
}