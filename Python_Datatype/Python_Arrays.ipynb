{
  "nbformat": 4,
  "nbformat_minor": 0,
  "metadata": {
    "colab": {
      "provenance": [],
      "authorship_tag": "ABX9TyPscTRVUa9MpZgBh89EpXir",
      "include_colab_link": true
    },
    "kernelspec": {
      "name": "python3",
      "display_name": "Python 3"
    }
  },
  "cells": [
    {
      "cell_type": "markdown",
      "metadata": {
        "id": "view-in-github",
        "colab_type": "text"
      },
      "source": [
        "<a href=\"https://colab.research.google.com/github/TOUATI-MOHAMED/Python/blob/master/Python_Datatype/Python_Arrays.ipynb\" target=\"_parent\"><img src=\"https://colab.research.google.com/assets/colab-badge.svg\" alt=\"Open In Colab\"/></a>"
      ]
    },
    {
      "cell_type": "markdown",
      "metadata": {
        "id": "cI6lFquUPrsf"
      },
      "source": [
        "#**Python Arrays**\n",
        "In this article, you’ll learn about Python arrays, difference between arrays and lists, and how and when to use them with the help of examples.\n",
        "\n",
        "In programming, an array is a collection of elements of the same type.\n",
        "\n",
        "Arrays are popular in most programming languages like Java, C/C++, JavaScript and so on. However, in Python, they are not that common. When people talk about Python arrays, more often than not, they are talking about Python lists. If you don't know what lists are, you should definitely check Python list article.\n",
        "\n",
        "That being said, array of numeric values are supported in Python by the array module.\n",
        "\n",
        "##**Python Lists Vs array Module as Arrays**\n",
        "We can treat lists as arrays. However, we cannot constrain the type of elements stored in a list. For example:\n",
        "\n",
        "    a = [1, 3.5, \"Hello\"] \n",
        "If you create arrays using the array module, all elements of the array must be of the same numeric type.\n",
        "\n",
        "##**import array as array**\n",
        "\n",
        "    a = arr.array('d', [1, 3.5, \"Hello\"])   // Error\t\n",
        "How to create arrays?\n",
        "As you might have guessed from the above example, we need to import array module to create arrays. For example:\n",
        "\n",
        "import array as arr\n",
        "        a = arr.array('d', [1.1, 3.5, 4.5])\n",
        "    print(a)\n",
        "Here, we created an array of float type. The letter 'd' is a type code. This determines the type of the array during creation.\n",
        "\n",
        "Commonly used type codes:"
      ]
    },
    {
      "cell_type": "markdown",
      "metadata": {
        "id": "SymL_yGSQ5Wm"
      },
      "source": [
        "\n",
        "\n",
        "*   Élément de liste\n",
        "*   Élément de liste\n",
        "\n",
        "![image.png](data:image/png;base64,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)"
      ]
    },
    {
      "cell_type": "markdown",
      "metadata": {
        "id": "DRzC-cCVPTlo"
      },
      "source": [
        "We will not discuss about different C types in this article. We will use two type codes in this entire article: 'i' for integers and 'd' for floats.\n",
        "\n",
        "Note: The 'u' type code for Unicode characters is deprecated since version 3.3. Avoid using it when possible."
      ]
    },
    {
      "cell_type": "markdown",
      "metadata": {
        "id": "aBo-leiNRNiB"
      },
      "source": [
        "##**How to access array elements?**\n",
        "We use indices to access elements of an array:"
      ]
    },
    {
      "cell_type": "code",
      "metadata": {
        "id": "cMg4GCBgRRPB"
      },
      "source": [
        "import array as arr\n",
        "a = arr.array('i', [2, 4, 6, 8])\n",
        "print(\"First element:\", a[0])\n",
        "print(\"Second element:\", a[1])\n",
        "print(\"Last element:\", a[-1])"
      ],
      "execution_count": null,
      "outputs": []
    },
    {
      "cell_type": "markdown",
      "metadata": {
        "id": "LlQXxCv1RWDy"
      },
      "source": [
        "Remember, the index starts from 0 (not 1) similar to lists.\n",
        "\n",
        "How to slice arrays?\n",
        "\n",
        "We can access a range of items in an array by using the slicing operator :."
      ]
    },
    {
      "cell_type": "code",
      "metadata": {
        "id": "tYG1cC1mRZZ5"
      },
      "source": [
        "import array as arr\n",
        "numbers_list = [2, 5, 62, 5, 42, 52, 48, 5]\n",
        "numbers_array = arr.array('i', numbers_list)\n",
        "print(numbers_array[2:5]) # 3rd to 5th\n",
        "print(numbers_array[:-5]) # beginning to 4th\n",
        "print(numbers_array[5:])  # 6th to end\n",
        "print(numbers_array[:])   # beginning to end"
      ],
      "execution_count": null,
      "outputs": []
    },
    {
      "cell_type": "markdown",
      "metadata": {
        "id": "IaF1hR00Rdlh"
      },
      "source": [
        "##**How to change or add elements?**\n",
        "Arrays are mutable; their elements can be changed in a similar way like lists."
      ]
    },
    {
      "cell_type": "code",
      "metadata": {
        "id": "Mmm2WE8GRixu"
      },
      "source": [
        "import array as arr\n",
        "numbers = arr.array('i', [1, 2, 3, 5, 7, 10])\n",
        "# changing first element\n",
        "numbers[0] = 0    \n",
        "print(numbers)     # Output: array('i', [0, 2, 3, 5, 7, 10])\n",
        "# changing 3rd to 5th element\n",
        "numbers[2:5] = arr.array('i', [4, 6, 8])   \n",
        "print(numbers)     # Output: array('i', [0, 2, 4, 6, 8, 10])"
      ],
      "execution_count": null,
      "outputs": []
    },
    {
      "cell_type": "markdown",
      "metadata": {
        "id": "bzzjAE21RkyR"
      },
      "source": [
        "We can add one item to a list using the append() method, or add several items using extend() method."
      ]
    },
    {
      "cell_type": "code",
      "metadata": {
        "id": "s0WSJagXRwbm",
        "colab": {
          "base_uri": "https://localhost:8080/",
          "height": 51
        },
        "outputId": "aa0bf385-2764-4a14-9265-b4125f102337"
      },
      "source": [
        "import array as arr\n",
        "numbers = arr.array('i', [1, 2, 3])\n",
        "numbers.append(4)\n",
        "print(numbers)     # Output: array('i', [1, 2, 3, 4])\n",
        "# extend() appends iterable to the end of the array\n",
        "numbers.extend([5, 6, 7]) \n",
        "print(numbers)     # Output: array('i', [1, 2, 3, 4, 5, 6, 7])"
      ],
      "execution_count": null,
      "outputs": [
        {
          "output_type": "stream",
          "text": [
            "array('i', [1, 2, 3, 4])\n",
            "array('i', [1, 2, 3, 4, 5, 6, 7])\n"
          ],
          "name": "stdout"
        }
      ]
    },
    {
      "cell_type": "code",
      "metadata": {
        "id": "JW_XPu7BQcYF"
      },
      "source": [],
      "execution_count": null,
      "outputs": []
    },
    {
      "cell_type": "markdown",
      "metadata": {
        "id": "tPE2x6zURzjQ"
      },
      "source": [
        "We can concatenate two arrays using + operator.\n",
        "\n"
      ]
    },
    {
      "cell_type": "code",
      "metadata": {
        "id": "I90Spv3BR7lH"
      },
      "source": [
        "import array as arr\n",
        "odd = arr.array('i', [1, 3, 5])\n",
        "even = arr.array('i', [2, 4, 6])\n",
        "numbers = arr.array('i')   # creating empty array of integer\n",
        "numbers = odd + even\n",
        "print(numbers) "
      ],
      "execution_count": null,
      "outputs": []
    },
    {
      "cell_type": "markdown",
      "metadata": {
        "id": "BBRJ_xskSAlJ"
      },
      "source": [
        "##**How to remove/delete elements?**\n",
        "We can delete one or more items from an array using Python's del statement."
      ]
    },
    {
      "cell_type": "code",
      "metadata": {
        "id": "xeANCIfwSIBh",
        "colab": {
          "base_uri": "https://localhost:8080/",
          "height": 214
        },
        "outputId": "71fb9191-722a-43d3-cf58-5c1d917258ac"
      },
      "source": [
        "import array as arr\n",
        "number = arr.array('i', [1, 2, 3, 3, 4])\n",
        "del number[2] # removing third element\n",
        "print(number) # Output: array('i', [1, 2, 3, 4])\n",
        "del number # deleting entire array\n",
        "print(number) # Error: array is not defined"
      ],
      "execution_count": null,
      "outputs": [
        {
          "output_type": "stream",
          "text": [
            "array('i', [1, 2, 3, 4])\n"
          ],
          "name": "stdout"
        },
        {
          "output_type": "error",
          "ename": "NameError",
          "evalue": "ignored",
          "traceback": [
            "\u001b[0;31m---------------------------------------------------------------------------\u001b[0m",
            "\u001b[0;31mNameError\u001b[0m                                 Traceback (most recent call last)",
            "\u001b[0;32m<ipython-input-2-6c7a67cf30f4>\u001b[0m in \u001b[0;36m<module>\u001b[0;34m()\u001b[0m\n\u001b[1;32m      4\u001b[0m \u001b[0mprint\u001b[0m\u001b[0;34m(\u001b[0m\u001b[0mnumber\u001b[0m\u001b[0;34m)\u001b[0m \u001b[0;31m# Output: array('i', [1, 2, 3, 4])\u001b[0m\u001b[0;34m\u001b[0m\u001b[0;34m\u001b[0m\u001b[0m\n\u001b[1;32m      5\u001b[0m \u001b[0;32mdel\u001b[0m \u001b[0mnumber\u001b[0m \u001b[0;31m# deleting entire array\u001b[0m\u001b[0;34m\u001b[0m\u001b[0;34m\u001b[0m\u001b[0m\n\u001b[0;32m----> 6\u001b[0;31m \u001b[0mprint\u001b[0m\u001b[0;34m(\u001b[0m\u001b[0mnumber\u001b[0m\u001b[0;34m)\u001b[0m \u001b[0;31m# Error: array is not defined\u001b[0m\u001b[0;34m\u001b[0m\u001b[0;34m\u001b[0m\u001b[0m\n\u001b[0m",
            "\u001b[0;31mNameError\u001b[0m: name 'number' is not defined"
          ]
        }
      ]
    },
    {
      "cell_type": "markdown",
      "metadata": {
        "id": "YYqkdZlpSMTc"
      },
      "source": [
        "We can use the remove() method to remove the given item, and pop() method to remove an item at the given index."
      ]
    },
    {
      "cell_type": "code",
      "metadata": {
        "id": "ePp7CAlqSJql",
        "colab": {
          "base_uri": "https://localhost:8080/",
          "height": 68
        },
        "outputId": "3a1517d7-f5bf-4838-bead-efc5717609b8"
      },
      "source": [
        "import array as arr\n",
        "numbers = arr.array('i', [10, 11, 12, 12, 13])\n",
        "numbers.remove(12)\n",
        "print(numbers)   # Output: array('i', [10, 11, 12, 13])\n",
        "print(numbers.pop(2))   # Output: 12\n",
        "print(numbers)   # Output: array('i', [10, 11, 13])"
      ],
      "execution_count": null,
      "outputs": [
        {
          "output_type": "stream",
          "text": [
            "array('i', [10, 11, 12, 13])\n",
            "12\n",
            "array('i', [10, 11, 13])\n"
          ],
          "name": "stdout"
        }
      ]
    },
    {
      "cell_type": "markdown",
      "metadata": {
        "id": "5xQIhjJ_SaCJ"
      },
      "source": [
        "\n",
        "##**When to use arrays?**\n",
        "Lists are much more flexible than arrays. They can store elements of different data types including string. Also, lists are faster than arrays. And, if you need to do mathematical computation on arrays and matrices, you are much better off using something like NumPy library.\n",
        "\n",
        "Unless you don't really need arrays (array module may be needed to interface with C code), don't use them."
      ]
    },
    {
      "cell_type": "code",
      "metadata": {
        "id": "iabiS6A8SUFs"
      },
      "source": [],
      "execution_count": null,
      "outputs": []
    }
  ]
}