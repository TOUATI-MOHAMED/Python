{
  "nbformat": 4,
  "nbformat_minor": 0,
  "metadata": {
    "colab": {
      "provenance": [],
      "authorship_tag": "ABX9TyM6LyQLEsOegv6B2AeunIbL",
      "include_colab_link": true
    },
    "kernelspec": {
      "name": "python3",
      "display_name": "Python 3"
    }
  },
  "cells": [
    {
      "cell_type": "markdown",
      "metadata": {
        "id": "view-in-github",
        "colab_type": "text"
      },
      "source": [
        "<a href=\"https://colab.research.google.com/github/TOUATI-MOHAMED/Python/blob/master/Python_Datatype/Python_Nested_Dictionary.ipynb\" target=\"_parent\"><img src=\"https://colab.research.google.com/assets/colab-badge.svg\" alt=\"Open In Colab\"/></a>"
      ]
    },
    {
      "cell_type": "markdown",
      "metadata": {
        "id": "ooeqsh-7JTNs"
      },
      "source": [
        "# **Python Nested Dictionary**\n",
        "In this article, you’ll learn about nested dictionary in Python. More specifically, you’ll learn to create nested dictionary, access elements, modify them and so on with the help of examples.\n",
        "\n",
        "In Python, a dictionary is an unordered collection of items. For example:\n",
        "\n",
        "        dictionary = {'key' : 'value',\n",
        "        'key_2': 'value_2'}\n",
        "Here, dictionary has a key:value pair enclosed within curly brackets {}.\n",
        "\n",
        "To learn more about dictionary, please visit Python Dictionary.\n",
        "\n",
        "**What is Nested Dictionary in Python?**\n",
        "\n",
        "In Python, a nested dictionary is a dictionary inside a dictionary. It's a collection of dictionaries into one single dictionary.\n",
        "\n",
        "    nested_dict = { 'dictA': {'key_1': 'value_1'},\n",
        "                    'dictB': {'key_2': 'value_2'}}\n",
        "Here, the nested_dict is a nested dictionary with the dictionary dictA and dictB. They are two dictionary each having own key and value.\n",
        "\n",
        "**Create a Nested Dictionary**\n",
        "\n",
        "We're going to create dictionary of people within a dictionary.\n",
        "\n",
        "Example 1: How to create a nested dictionary"
      ]
    },
    {
      "cell_type": "code",
      "metadata": {
        "id": "7A5n9RefJNJ9"
      },
      "source": [
        "people = {1: {'name': 'John', 'age': '27', 'sex': 'Male'},\n",
        "          2: {'name': 'Marie', 'age': '22', 'sex': 'Female'}}\n",
        "\n",
        "print(people)"
      ],
      "execution_count": null,
      "outputs": []
    },
    {
      "cell_type": "markdown",
      "metadata": {
        "id": "8cOCV83FLNB6"
      },
      "source": [
        "When we run above program, it will output:\n",
        "\n",
        "    {1: {'name': 'John', 'age': '27', 'sex': 'Male'}, 2: {'name': 'Marie', 'age': '22', 'sex': 'Female'}}\n",
        "\n",
        "    \n",
        "In the above program, people is a nested dictionary. The internal dictionary 1 and 2 is assigned to people. Here, both the dictionary have key name, age , sex with different values. Now, we print the result of people.\n",
        "\n"
      ]
    },
    {
      "cell_type": "markdown",
      "metadata": {
        "id": "tpPzdfkBLU7b"
      },
      "source": [
        "Access elements of a Nested Dictionary\n",
        "To access element of a nested dictionary, we use indexing [] syntax in Python.\n",
        "\n",
        "Example 2: Access the elements using the [] syntax"
      ]
    },
    {
      "cell_type": "code",
      "metadata": {
        "id": "V-QmCCkGLeTX"
      },
      "source": [
        "people = {1: {'name': 'John', 'age': '27', 'sex': 'Male'},\n",
        "          2: {'name': 'Marie', 'age': '22', 'sex': 'Female'}}\n",
        "\n",
        "print(people[1]['name'])\n",
        "print(people[1]['age'])\n",
        "print(people[1]['sex'])"
      ],
      "execution_count": null,
      "outputs": []
    },
    {
      "cell_type": "markdown",
      "metadata": {
        "id": "dgGc6PF7LjCB"
      },
      "source": [
        "When we run above program, it will output:\n",
        "\n",
        "    John\n",
        "    27\n",
        "    Male\n",
        "In the above program, we print the value of key name using i.e. people[1]['name'] from internal dictionary 1. Similarly, we print the value of age and sex one by one.\n",
        "\n"
      ]
    },
    {
      "cell_type": "markdown",
      "metadata": {
        "id": "N5a5UIAtLrGA"
      },
      "source": [
        "Add element to a Nested Dictionary\n",
        "Example 3: How to change or add elements in a nested dictionary?"
      ]
    },
    {
      "cell_type": "code",
      "metadata": {
        "id": "SYgh50U_LuQd"
      },
      "source": [
        "people = {1: {'name': 'John', 'age': '27', 'sex': 'Male'},\n",
        "          2: {'name': 'Marie', 'age': '22', 'sex': 'Female'}}\n",
        "\n",
        "people[3] = {}\n",
        "\n",
        "people[3]['name'] = 'Luna'\n",
        "people[3]['age'] = '24'\n",
        "people[3]['sex'] = 'Female'\n",
        "people[3]['married'] = 'No'\n",
        "\n",
        "print(people[3])"
      ],
      "execution_count": null,
      "outputs": []
    },
    {
      "cell_type": "markdown",
      "metadata": {
        "id": "AdLvdMXFL7aR"
      },
      "source": [
        "When we run above program, it will output:\n",
        "\n",
        "{'name': 'Luna', 'age': '24', 'sex': 'Female', 'married': 'No'}\n",
        "\n",
        "\n",
        "In the above program, we create an empty dictionary 3 inside the dictionary people.\n",
        "\n",
        "\n",
        "Then, we add the key:value pair i.e people[3]['Name'] = 'Luna' inside the dictionary 3. Similarly, we do this for key age, sex and married one by one. When we print the people[3], we get key:value pairs of dictionary 3.\n",
        "\n",
        "**Example 4: Add another dictionary to the nested dictionary**"
      ]
    },
    {
      "cell_type": "code",
      "metadata": {
        "id": "YpClwMmYMVph"
      },
      "source": [
        "people = {1: {'name': 'John', 'age': '27', 'sex': 'Male'},\n",
        "          2: {'name': 'Marie', 'age': '22', 'sex': 'Female'},\n",
        "          3: {'name': 'Luna', 'age': '24', 'sex': 'Female', 'married': 'No'}}\n",
        "\n",
        "people[4] = {'name': 'Peter', 'age': '29', 'sex': 'Male', 'married': 'Yes'}\n",
        "print(people[4])"
      ],
      "execution_count": null,
      "outputs": []
    },
    {
      "cell_type": "markdown",
      "metadata": {
        "id": "vIIFnSIvLbUP"
      },
      "source": [
        "In the above program, we assign a dictionary literal to people[4]. The literal have keys name, age and sex with respective values. Then we print the people[4], to see that the dictionary 4 is added in nested dictionary people.\n",
        "\n",
        "# **Delete elements from a Nested Dictionary**\n",
        "\n",
        "In Python, we use “ del “ statement to delete elements from nested dictionary.\n",
        "\n",
        "**Example 5: How to delete elements from a nested dictionary?**\n"
      ]
    },
    {
      "cell_type": "code",
      "metadata": {
        "id": "B78LFyQQN2-c"
      },
      "source": [
        "people = {1: {'name': 'John', 'age': '27', 'sex': 'Male'},\n",
        "          2: {'name': 'Marie', 'age': '22', 'sex': 'Female'},\n",
        "          3: {'name': 'Luna', 'age': '24', 'sex': 'Female', 'married': 'No'},\n",
        "          4: {'name': 'Peter', 'age': '29', 'sex': 'Male', 'married': 'Yes'}}\n",
        "\n",
        "del people[3]['married']\n",
        "del people[4]['married']\n",
        "\n",
        "print(people[3])\n",
        "print(people[4])"
      ],
      "execution_count": null,
      "outputs": []
    },
    {
      "cell_type": "markdown",
      "metadata": {
        "id": "7enHAs5vN6e8"
      },
      "source": [
        "In the above program, we delete the key:value pairs of married from internal dictionary 3 and 4. Then, we print the people[3] and people[4] to confirm changes.\n",
        "\n",
        "**Example 6: How to delete dictionary from a nested dictionary?**\n"
      ]
    },
    {
      "cell_type": "code",
      "metadata": {
        "id": "QEyuIKxrOGFP"
      },
      "source": [
        "people = {1: {'name': 'John', 'age': '27', 'sex': 'Male'},\n",
        "          2: {'name': 'Marie', 'age': '22', 'sex': 'Female'},\n",
        "          3: {'name': 'Luna', 'age': '24', 'sex': 'Female'},\n",
        "          4: {'name': 'Peter', 'age': '29', 'sex': 'Male'}}\n",
        "\n",
        "del people[3], people[4]\n",
        "print(people)"
      ],
      "execution_count": null,
      "outputs": []
    },
    {
      "cell_type": "markdown",
      "metadata": {
        "id": "3YdqB9emOKQ9"
      },
      "source": [
        "In the above program, we delete both the internal dictionary 3 and 4 using del from the nested dictionary people. Then, we print the nested dictionary people to confirm changes.\n",
        "\n",
        "#**Iterating Through a Nested Dictionary**\n",
        "Using the for loops, we can iterate through each elements in a nested dictionary.\n",
        "\n",
        "**Example 7: How to iterate through a Nested dictionary?**"
      ]
    },
    {
      "cell_type": "code",
      "metadata": {
        "id": "tN73VYBMORG6"
      },
      "source": [
        "people = {1: {'Name': 'John', 'Age': '27', 'Sex': 'Male'},\n",
        "          2: {'Name': 'Marie', 'Age': '22', 'Sex': 'Female'}}\n",
        "\n",
        "for p_id, p_info in people.items():\n",
        "    print(\"\\nPerson ID:\", p_id)\n",
        "    \n",
        "    for key in p_info:\n",
        "        print(key + ':', p_info[key])"
      ],
      "execution_count": null,
      "outputs": []
    },
    {
      "cell_type": "markdown",
      "metadata": {
        "id": "iGUFOiCxOVVc"
      },
      "source": [
        "In the above program, the first loop returns all the keys in the nested dictionary people. It consist of the IDs  p_id   of each person. We use these IDs to unpack the information p_info of each person.\n",
        "\n",
        "The second loop goes through the information of each person. Then, it returns all of the keys name, age, sex of each person's dictionary.\n",
        "\n",
        "Now, we print the key of the person’s information and the value for that key.\n",
        "\n",
        "##**Key Points to Remember:**\n",
        "\n",
        "\n",
        "\n",
        "*   \n",
        "Nested dictionary is an unordered collection of dictionary\n",
        "\n",
        "\n",
        "*   \n",
        "Slicing Nested Dictionary is not possible.\n",
        "\n",
        "*  We can shrink or grow nested dictionary as need.\n",
        "\n",
        "* Like Dictionary, it also has key and value. \n",
        "\n",
        "\n",
        "*  \n",
        "Dictionary are accessed using key.\n",
        "\n"
      ]
    }
  ]
}