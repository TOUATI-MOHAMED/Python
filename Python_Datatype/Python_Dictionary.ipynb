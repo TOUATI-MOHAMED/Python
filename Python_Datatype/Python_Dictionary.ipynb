{
  "nbformat": 4,
  "nbformat_minor": 0,
  "metadata": {
    "colab": {
      "provenance": [],
      "authorship_tag": "ABX9TyOcR7S/JXVS91TmS8erbXW/",
      "include_colab_link": true
    },
    "kernelspec": {
      "name": "python3",
      "display_name": "Python 3"
    }
  },
  "cells": [
    {
      "cell_type": "markdown",
      "metadata": {
        "id": "view-in-github",
        "colab_type": "text"
      },
      "source": [
        "<a href=\"https://colab.research.google.com/github/TOUATI-MOHAMED/Python/blob/master/Python_Datatype/Python_Dictionary.ipynb\" target=\"_parent\"><img src=\"https://colab.research.google.com/assets/colab-badge.svg\" alt=\"Open In Colab\"/></a>"
      ]
    },
    {
      "cell_type": "markdown",
      "metadata": {
        "id": "53-ZHlpMHEg4"
      },
      "source": [
        "# **Python Dictionary**\n",
        "about Python dictionary; how they are created, accessing, adding and removing elements from them and, various built-in methods.\n",
        "\n",
        "**What is dictionary in Python?**\n",
        "\n",
        "Python dictionary is an unordered collection of items. While other compound data types have only value as an element, a dictionary has a key: value pair.\n",
        "\n",
        "Dictionaries are optimized to retrieve values when the key is known.\n",
        "\n",
        "**How to create a dictionary?**\n",
        "\n",
        "Creating a dictionary is as simple as placing items inside curly braces {} separated by comma.\n",
        "\n",
        "An item has a key and the corresponding value expressed as a pair, key: value.\n",
        "\n",
        "While values can be of any data type and can repeat, keys must be of immutable type (string, number or tuple with immutable elements) and must be unique. "
      ]
    },
    {
      "cell_type": "code",
      "metadata": {
        "id": "QY5ITC0MG8z9"
      },
      "source": [
        "# empty dictionary\n",
        "my_dict = {}\n",
        "# dictionary with integer keys\n",
        "my_dict = {1: 'apple', 2: 'ball'}\n",
        "# dictionary with mixed keys\n",
        "my_dict = {'name': 'John', 1: [2, 4, 3]}\n",
        "# using dict()\n",
        "my_dict = dict({1:'apple', 2:'ball'})\n",
        "# from sequence having each item as a pair\n",
        "my_dict = dict([(1,'apple'), (2,'ball')])"
      ],
      "execution_count": null,
      "outputs": []
    },
    {
      "cell_type": "markdown",
      "metadata": {
        "id": "-5_bhl4RHZjc"
      },
      "source": [
        "As you can see above, we can also create a dictionary using the built-in function **dict**().\n",
        "\n"
      ]
    },
    {
      "cell_type": "markdown",
      "metadata": {
        "id": "-0ptb7AYHdwS"
      },
      "source": [
        "**How to access elements from a dictionary?**\n",
        "While indexing is used with other container types to access values, dictionary uses keys. Key can be used either inside square brackets or with the **get**() method.\n",
        "\n",
        "The difference while using **get**() is that it returns None instead of KeyError, if the key is not found."
      ]
    },
    {
      "cell_type": "code",
      "metadata": {
        "id": "_NSDDOtwHlrt",
        "outputId": "13cb897b-4127-47e4-b033-aabe396c73fb",
        "colab": {
          "base_uri": "https://localhost:8080/",
          "height": 51
        }
      },
      "source": [
        "my_dict = {'name':'Jack', 'age': 26}\n",
        "\n",
        "# Output: Jack\n",
        "print(my_dict['name'])\n",
        "\n",
        "# Output: 26\n",
        "print(my_dict.get('age'))\n",
        "\n",
        "# Trying to access keys which doesn't exist throws error\n",
        "# my_dict.get('address')\n",
        "# my_dict['address']"
      ],
      "execution_count": null,
      "outputs": [
        {
          "output_type": "stream",
          "text": [
            "Jack\n",
            "26\n"
          ],
          "name": "stdout"
        }
      ]
    },
    {
      "cell_type": "markdown",
      "metadata": {
        "id": "5fhjjt8xH4Nc"
      },
      "source": [
        "**How to change or add elements in a dictionary?**\n",
        "Dictionary are mutable. We can add new items or change the value of existing items using assignment operator.\n",
        "\n",
        "If the key is already present, value gets updated, else a new key: value pair is added to the dictionary."
      ]
    },
    {
      "cell_type": "code",
      "metadata": {
        "id": "5WgS5DK2H9zZ",
        "outputId": "93fa0dbe-a700-4030-e8d1-4839de1467ee",
        "colab": {
          "base_uri": "https://localhost:8080/",
          "height": 51
        }
      },
      "source": [
        "my_dict = {'name':'Jack', 'age': 26}\n",
        "\n",
        "# update value\n",
        "my_dict['age'] = 27\n",
        "\n",
        "#Output: {'age': 27, 'name': 'Jack'}\n",
        "print(my_dict)\n",
        "\n",
        "# add item\n",
        "my_dict['address'] = 'Downtown'  \n",
        "\n",
        "# Output: {'address': 'Downtown', 'age': 27, 'name': 'Jack'}\n",
        "print(my_dict)"
      ],
      "execution_count": null,
      "outputs": [
        {
          "output_type": "stream",
          "text": [
            "{'name': 'Jack', 'age': 27}\n",
            "{'name': 'Jack', 'age': 27, 'address': 'Downtown'}\n"
          ],
          "name": "stdout"
        }
      ]
    },
    {
      "cell_type": "markdown",
      "metadata": {
        "id": "UsVAQIaLINMy"
      },
      "source": [
        "**How to delete or remove elements from a dictionary?**\n",
        "\n",
        "We can remove a particular item in a dictionary by using the method **pop**(). This method removes as item with the provided key and returns the value.\n",
        "\n",
        "The method, **popitem**() can be used to remove and return an arbitrary item (key, value) form the dictionary. All the items can be removed at once using the **clear**() method.\n",
        "\n",
        "We can also use the del keyword to remove individual items or the entire dictionary itself."
      ]
    },
    {
      "cell_type": "code",
      "metadata": {
        "id": "wNBg7oFhIW8k",
        "outputId": "cd1c58be-5e41-4573-fffc-8c0460751194",
        "colab": {
          "base_uri": "https://localhost:8080/",
          "height": 299
        }
      },
      "source": [
        "# create a dictionary\n",
        "squares = {1:1, 2:4, 3:9, 4:16, 5:25}  \n",
        "\n",
        "# remove a particular item\n",
        "# Output: 16\n",
        "print(squares.pop(4))  \n",
        "\n",
        "# Output: {1: 1, 2: 4, 3: 9, 5: 25}\n",
        "print(squares)\n",
        "\n",
        "# remove an arbitrary item\n",
        "# Output: (1, 1)\n",
        "print(squares.popitem())\n",
        "\n",
        "# Output: {2: 4, 3: 9, 5: 25}\n",
        "print(squares)\n",
        "\n",
        "# delete a particular item   item 5 doesn't exist\n",
        "del squares[5]  \n",
        "\n",
        "\n",
        "# Output: {2: 4, 3: 9}\n",
        "print(squares)\n",
        "\n",
        "# remove all items\n",
        "squares.clear()\n",
        "\n",
        "# Output: {}\n",
        "print(squares)\n",
        "\n",
        "# delete the dictionary itself\n",
        "del squares\n",
        "\n",
        "# Throws Error\n",
        "# print(squares)"
      ],
      "execution_count": null,
      "outputs": [
        {
          "output_type": "stream",
          "text": [
            "16\n",
            "{1: 1, 2: 4, 3: 9, 5: 25}\n",
            "(5, 25)\n",
            "{1: 1, 2: 4, 3: 9}\n"
          ],
          "name": "stdout"
        },
        {
          "output_type": "error",
          "ename": "KeyError",
          "evalue": "ignored",
          "traceback": [
            "\u001b[0;31m---------------------------------------------------------------------------\u001b[0m",
            "\u001b[0;31mKeyError\u001b[0m                                  Traceback (most recent call last)",
            "\u001b[0;32m<ipython-input-6-1735dc07dc32>\u001b[0m in \u001b[0;36m<module>\u001b[0;34m()\u001b[0m\n\u001b[1;32m     16\u001b[0m \u001b[0;34m\u001b[0m\u001b[0m\n\u001b[1;32m     17\u001b[0m \u001b[0;31m# delete a particular item\u001b[0m\u001b[0;34m\u001b[0m\u001b[0;34m\u001b[0m\u001b[0;34m\u001b[0m\u001b[0m\n\u001b[0;32m---> 18\u001b[0;31m \u001b[0;32mdel\u001b[0m \u001b[0msquares\u001b[0m\u001b[0;34m[\u001b[0m\u001b[0;36m5\u001b[0m\u001b[0;34m]\u001b[0m\u001b[0;34m\u001b[0m\u001b[0;34m\u001b[0m\u001b[0m\n\u001b[0m\u001b[1;32m     19\u001b[0m \u001b[0;34m\u001b[0m\u001b[0m\n\u001b[1;32m     20\u001b[0m \u001b[0;34m\u001b[0m\u001b[0m\n",
            "\u001b[0;31mKeyError\u001b[0m: 5"
          ]
        }
      ]
    },
    {
      "cell_type": "markdown",
      "metadata": {
        "id": "y6dF7f_IJ2cy"
      },
      "source": [
        " **Python Dictionary Methods**\n",
        " \n",
        "Methods that are available with dictionary are tabulated below. Some of them have already been used in the above examples."
      ]
    },
    {
      "cell_type": "markdown",
      "metadata": {
        "id": "p7U9eTN0KMFk"
      },
      "source": [
        "Python Dictionary Methods\n",
        "Methods that are available with dictionary are tabulated below. Some of them have already been used in the above examples.![image.png](data:image/png;base64,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)"
      ]
    },
    {
      "cell_type": "markdown",
      "metadata": {
        "id": "370ShZ0aKYIG"
      },
      "source": [
        "Here are a few example use of these methods.\n",
        "\n"
      ]
    },
    {
      "cell_type": "code",
      "metadata": {
        "id": "tUP8A_kMKcku",
        "outputId": "cf625631-7b13-4168-e0ac-cfc062945906",
        "colab": {
          "base_uri": "https://localhost:8080/",
          "height": 102
        }
      },
      "source": [
        "marks = {}.fromkeys(['Math','English','Science'], 0)\n",
        "\n",
        "# Output: {'English': 0, 'Math': 0, 'Science': 0}\n",
        "print(marks)\n",
        "\n",
        "for item in marks.items():\n",
        "    print(item)\n",
        "\n",
        "# Output: ['English', 'Math', 'Science']\n",
        "list(sorted(marks.keys()))"
      ],
      "execution_count": null,
      "outputs": [
        {
          "output_type": "stream",
          "text": [
            "{'Math': 0, 'English': 0, 'Science': 0}\n",
            "('Math', 0)\n",
            "('English', 0)\n",
            "('Science', 0)\n"
          ],
          "name": "stdout"
        },
        {
          "output_type": "execute_result",
          "data": {
            "text/plain": [
              "['English', 'Math', 'Science']"
            ]
          },
          "metadata": {
            "tags": []
          },
          "execution_count": 7
        }
      ]
    },
    {
      "cell_type": "markdown",
      "metadata": {
        "id": "iwGZ59HcKx4K"
      },
      "source": [
        "## **Python Dictionary Comprehension**\n",
        "Dictionary comprehension is an elegant and concise way to create new dictionary from an iterable in Python.\n",
        "\n",
        "Dictionary comprehension consists of an expression pair (key: value) followed by for statement inside curly braces {}.\n",
        "\n",
        "Here is an example to make a dictionary with each item being a pair of a number and its square."
      ]
    },
    {
      "cell_type": "code",
      "metadata": {
        "id": "Q389YWkZHl_G",
        "outputId": "7e9956de-4ca0-4651-b86b-71d0e3afc8ab",
        "colab": {
          "base_uri": "https://localhost:8080/",
          "height": 34
        }
      },
      "source": [
        "squares = {x: x*x for x in range(6)}\n",
        "\n",
        "# Output: {0: 0, 1: 1, 2: 4, 3: 9, 4: 16, 5: 25}\n",
        "print(squares)"
      ],
      "execution_count": null,
      "outputs": [
        {
          "output_type": "stream",
          "text": [
            "{0: 0, 1: 1, 2: 4, 3: 9, 4: 16, 5: 25}\n"
          ],
          "name": "stdout"
        }
      ]
    },
    {
      "cell_type": "markdown",
      "metadata": {
        "id": "t8uwtoClLUOq"
      },
      "source": [
        "***This code is equivalent to***\n",
        "\n"
      ]
    },
    {
      "cell_type": "code",
      "metadata": {
        "id": "RsanrzsHLZJY",
        "outputId": "3318f3ba-4dae-40af-b12f-12cf6892990e",
        "colab": {
          "base_uri": "https://localhost:8080/",
          "height": 34
        }
      },
      "source": [
        "odd_squares = {x: x*x for x in range(11) if x%2 == 1}\n",
        "\n",
        "# Output: {1: 1, 3: 9, 5: 25, 7: 49, 9: 81}\n",
        "print(odd_squares)"
      ],
      "execution_count": null,
      "outputs": [
        {
          "output_type": "stream",
          "text": [
            "{1: 1, 3: 9, 5: 25, 7: 49, 9: 81}\n"
          ],
          "name": "stdout"
        }
      ]
    },
    {
      "cell_type": "markdown",
      "metadata": {
        "id": "bMKVBXIDLg9k"
      },
      "source": [
        "# **Other Dictionary Operations**\n",
        "**Dictionary Membership Test**\n",
        "\n",
        "We can test if a key is in a dictionary or not using the keyword in. Notice that membership test is for keys only, not for values."
      ]
    },
    {
      "cell_type": "code",
      "metadata": {
        "id": "jHKAcv4bLbVi",
        "outputId": "4564d774-ff1c-4c15-bb09-1786cdde94f6",
        "colab": {
          "base_uri": "https://localhost:8080/",
          "height": 68
        }
      },
      "source": [
        "squares = {1: 1, 3: 9, 5: 25, 7: 49, 9: 81}\n",
        "\n",
        "# Output: True\n",
        "print(1 in squares)\n",
        "\n",
        "# Output: True\n",
        "print(2 not in squares)\n",
        "\n",
        "# membership tests for key only not value\n",
        "# Output: False\n",
        "print(49 in squares)"
      ],
      "execution_count": null,
      "outputs": [
        {
          "output_type": "stream",
          "text": [
            "True\n",
            "True\n",
            "False\n"
          ],
          "name": "stdout"
        }
      ]
    },
    {
      "cell_type": "markdown",
      "metadata": {
        "id": "Pq6XtEccMuKE"
      },
      "source": [
        "**Iterating Through a Dictionary**\n",
        "\n",
        "Using a for loop we can iterate though each key in a dictionary.\n",
        "\n"
      ]
    },
    {
      "cell_type": "code",
      "metadata": {
        "id": "PIcRvf20M0e5",
        "outputId": "a5025f11-4b60-40ad-a6e5-e16a9d7e86ac",
        "colab": {
          "base_uri": "https://localhost:8080/",
          "height": 102
        }
      },
      "source": [
        "squares = {1: 1, 3: 9, 5: 25, 7: 49, 9: 81}\n",
        "for i in squares:\n",
        "    print(squares[i])"
      ],
      "execution_count": null,
      "outputs": [
        {
          "output_type": "stream",
          "text": [
            "1\n",
            "9\n",
            "25\n",
            "49\n",
            "81\n"
          ],
          "name": "stdout"
        }
      ]
    },
    {
      "cell_type": "markdown",
      "metadata": {
        "id": "xOJHga8QM5-H"
      },
      "source": [
        "**Built-in Functions with Dictionary**\n",
        "\n",
        "Built-in functions like **all**(), **any**(), **len**(), **cmp**(), s**orted**() etc. are commonly used with dictionary to perform different tasks."
      ]
    },
    {
      "cell_type": "markdown",
      "metadata": {
        "id": "6ZNfau0eIUdV"
      },
      "source": [
        "![image.png](data:image/png;base64,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)"
      ]
    },
    {
      "cell_type": "markdown",
      "metadata": {
        "id": "SZUAA7hyIXWF"
      },
      "source": [
        "Here are some examples that uses built-in functions to work with dictionary.\n",
        "\n"
      ]
    },
    {
      "cell_type": "code",
      "metadata": {
        "id": "InuvC1fdMqnW",
        "outputId": "e5ab8d62-ef3a-4cbc-abaa-ec69cd3a6b79",
        "colab": {
          "base_uri": "https://localhost:8080/",
          "height": 51
        }
      },
      "source": [
        "squares = {1: 1, 3: 9, 5: 25, 7: 49, 9: 81}\n",
        "\n",
        "# Output: 5\n",
        "print(len(squares))\n",
        "\n",
        "# Output: [1, 3, 5, 7, 9]\n",
        "print(sorted(squares))"
      ],
      "execution_count": null,
      "outputs": [
        {
          "output_type": "stream",
          "text": [
            "5\n",
            "[1, 3, 5, 7, 9]\n"
          ],
          "name": "stdout"
        }
      ]
    },
    {
      "cell_type": "code",
      "metadata": {
        "id": "ceYbaFgmMdt0"
      },
      "source": [],
      "execution_count": null,
      "outputs": []
    }
  ]
}