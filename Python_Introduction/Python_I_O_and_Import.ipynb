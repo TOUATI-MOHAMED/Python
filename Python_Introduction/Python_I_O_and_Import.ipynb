{
  "nbformat": 4,
  "nbformat_minor": 0,
  "metadata": {
    "colab": {
      "provenance": [],
      "authorship_tag": "ABX9TyNzE8KmPhBzvdSVaSxZby8W",
      "include_colab_link": true
    },
    "kernelspec": {
      "name": "python3",
      "display_name": "Python 3"
    }
  },
  "cells": [
    {
      "cell_type": "markdown",
      "metadata": {
        "id": "view-in-github",
        "colab_type": "text"
      },
      "source": [
        "<a href=\"https://colab.research.google.com/github/TOUATI-MOHAMED/Python/blob/master/Python_Introduction/Python_I_O_and_Import.ipynb\" target=\"_parent\"><img src=\"https://colab.research.google.com/assets/colab-badge.svg\" alt=\"Open In Colab\"/></a>"
      ]
    },
    {
      "cell_type": "markdown",
      "metadata": {
        "id": "j4nP6klwmqwK"
      },
      "source": [
        "# **Python Input, Output and Import**\n",
        "This  notebook focuses on two built-in functions **print**() and **input**() to perform I/O task in Python. Also, you will learn to import modules and use them in your program.\n",
        "\n",
        "Python provides numerous built-in functions that are readily available to us at the Python prompt.\n",
        "\n",
        "Some of the functions like **input**() and **print**() are widely used for standard input and output operations respectively. Let us see the output section first.\n"
      ]
    },
    {
      "cell_type": "markdown",
      "metadata": {
        "id": "RPxkbY-LnFV1"
      },
      "source": [
        "# **Python Output Using print() function**\n",
        "We use the print() function to output data to the standard output device (screen).\n",
        "\n",
        "We can also output data to a file, but this will be discussed later. An example use is given below.\n",
        "\n"
      ]
    },
    {
      "cell_type": "code",
      "metadata": {
        "id": "9OJr19gOnN7_",
        "colab": {
          "base_uri": "https://localhost:8080/",
          "height": 51
        },
        "outputId": "84c2caf8-b634-4055-ca28-e2138e4c4fb2"
      },
      "source": [
        "print('This sentence is output to the screen')\n",
        "# Output: This sentence is output to the screen\n",
        "\n",
        "a = 5\n",
        "\n",
        "print('The value of a is', a)\n",
        "# Output: The value of a is 5"
      ],
      "execution_count": null,
      "outputs": [
        {
          "output_type": "stream",
          "text": [
            "This sentence is output to the screen\n",
            "The value of a is 5\n"
          ],
          "name": "stdout"
        }
      ]
    },
    {
      "cell_type": "markdown",
      "metadata": {
        "id": "G0XZS1pMngIb"
      },
      "source": [
        "In the second **print**() statement, we can notice that a space was added between the string and the value of variable a.This is by default, but we can change it.\n",
        "\n",
        "The actual syntax of the **print**() function is\n",
        "\n",
        "## print(*objects, sep=' ', end='\\n', file=sys.stdout, flush=False)\n",
        "\n",
        "Here, objects is the value(s) to be printed.\n",
        "\n",
        "The sep separator is used between the values. It defaults into a space character.\n",
        "\n",
        "After all values are printed, end is printed. It defaults into a new line.\n",
        "\n",
        "The file is the object where the values are printed and its default value is sys.stdout (screen). Here are an example to illustrate this."
      ]
    },
    {
      "cell_type": "code",
      "metadata": {
        "id": "bX93BkAYoUxN",
        "colab": {
          "base_uri": "https://localhost:8080/",
          "height": 68
        },
        "outputId": "50bcce2d-215f-491d-f3e1-e94dbd1ad316"
      },
      "source": [
        "print(1,2,3,4)\n",
        "# Output: 1 2 3 4\n",
        "\n",
        "print(1,2,3,4,sep='*')\n",
        "# Output: 1*2*3*4\n",
        "\n",
        "print(1,2,3,4,sep='#',end='&')\n",
        "# Output: 1#2#3#4&"
      ],
      "execution_count": null,
      "outputs": [
        {
          "output_type": "stream",
          "text": [
            "1 2 3 4\n",
            "1*2*3*4\n",
            "1#2#3#4&"
          ],
          "name": "stdout"
        }
      ]
    },
    {
      "cell_type": "markdown",
      "metadata": {
        "id": "qhk55VCLoh-5"
      },
      "source": [
        "# **Output formatting**\n",
        "Sometimes we would like to format our output to make it look attractive. This can be done by using the **str.format**() method. This method is visible to any string object."
      ]
    },
    {
      "cell_type": "markdown",
      "metadata": {
        "id": "cgbhWbEMovb1"
      },
      "source": [
        "    >>> x = 5; y = 10\n",
        "    >>> print('The value of x is {} and y is {}'.format(x,y))\n",
        "The value of x is 5 and y is 10"
      ]
    },
    {
      "cell_type": "markdown",
      "metadata": {
        "id": "7G6kv9Udo6IG"
      },
      "source": [
        "Here the curly braces {} are used as placeholders. We can specify the order in which it is printed by using numbers (tuple index)."
      ]
    },
    {
      "cell_type": "code",
      "metadata": {
        "id": "uksoJN4yoz4j"
      },
      "source": [
        "print('I love {0} and {1}'.format('bread','butter'))\n",
        "# Output: I love bread and butter\n",
        "\n",
        "print('I love {1} and {0}'.format('bread','butter'))\n",
        "# Output: I love butter and bread"
      ],
      "execution_count": null,
      "outputs": []
    },
    {
      "cell_type": "markdown",
      "metadata": {
        "id": "FzjN3VaxpCN_"
      },
      "source": [
        "We can even use keyword arguments to format the string.\n",
        "\n",
        "    >>> print('Hello {name}, {greeting}'.format(greeting = 'Goodmorning', name = 'John'))\n",
        "\n",
        "Hello John, Goodmorning\n",
        "\n"
      ]
    },
    {
      "cell_type": "markdown",
      "metadata": {
        "id": "VVRg-CzFpZ55"
      },
      "source": [
        "We can even format strings like the old sprintf() style used in C programming language. We use the % operator to accomplish this."
      ]
    },
    {
      "cell_type": "code",
      "metadata": {
        "id": "7afwZMaTpadk",
        "colab": {
          "base_uri": "https://localhost:8080/",
          "height": 34
        },
        "outputId": "c9bd1d41-e973-4246-82fd-9147e7cb2e36"
      },
      "source": [
        "x = 12.3456789\n",
        "print('The value of x is %3.2f' %x)\n"
      ],
      "execution_count": null,
      "outputs": [
        {
          "output_type": "stream",
          "text": [
            "The value of x is 12.35\n"
          ],
          "name": "stdout"
        }
      ]
    },
    {
      "cell_type": "code",
      "metadata": {
        "id": "Yqlm_nTPpm9e",
        "colab": {
          "base_uri": "https://localhost:8080/",
          "height": 34
        },
        "outputId": "f0e1d29d-74a3-4e48-bb74-af0b6a154542"
      },
      "source": [
        "print('The value of x is %3.4f' %x)\n"
      ],
      "execution_count": null,
      "outputs": [
        {
          "output_type": "stream",
          "text": [
            "The value of x is 12.3457\n"
          ],
          "name": "stdout"
        }
      ]
    },
    {
      "cell_type": "markdown",
      "metadata": {
        "id": "l1KEEU37p2Zq"
      },
      "source": [
        "# **Python Input**\n",
        "Up till now, our programs were static. The value of variables were defined or hard coded into the source code.\n",
        "\n",
        "To allow flexibility we might want to take the input from the user. In Python, we have the **input**() function to allow this. The syntax for **input**() is\n",
        "\n",
        "input([prompt])\n",
        "\n",
        "where prompt is the string we wish to display on the screen. It is optional."
      ]
    },
    {
      "cell_type": "markdown",
      "metadata": {
        "id": "y5wPao-KqBHW"
      },
      "source": [
        "where prompt is the string we wish to display on the screen. It is optional.\n",
        "\n"
      ]
    },
    {
      "cell_type": "code",
      "metadata": {
        "id": "UrCO5gUJqKXW",
        "colab": {
          "base_uri": "https://localhost:8080/",
          "height": 34
        },
        "outputId": "8f700384-804d-4bf4-f8e7-b7742ee32d21"
      },
      "source": [
        "  num = input('Enter a number: ')\n"
      ],
      "execution_count": null,
      "outputs": [
        {
          "output_type": "stream",
          "text": [
            "Enter a number: 5\n"
          ],
          "name": "stdout"
        }
      ]
    },
    {
      "cell_type": "code",
      "metadata": {
        "id": "o17Rn403qSrW",
        "colab": {
          "base_uri": "https://localhost:8080/",
          "height": 34
        },
        "outputId": "7a469707-3ec7-4d06-ffef-3dc99f2c3391"
      },
      "source": [
        " num"
      ],
      "execution_count": null,
      "outputs": [
        {
          "output_type": "execute_result",
          "data": {
            "text/plain": [
              "'5'"
            ]
          },
          "metadata": {
            "tags": []
          },
          "execution_count": 8
        }
      ]
    },
    {
      "cell_type": "markdown",
      "metadata": {
        "id": "RawgoxCZqajR"
      },
      "source": [
        "Here, we can see that the entered value 10 is a string, not a number. To convert this into a number we can use **int**() or **float**() functions."
      ]
    },
    {
      "cell_type": "code",
      "metadata": {
        "id": "v5QvtPVWqoLg",
        "colab": {
          "base_uri": "https://localhost:8080/",
          "height": 34
        },
        "outputId": "92ca0026-8f16-4687-d01e-2701f3ba53cc"
      },
      "source": [
        "int('10')"
      ],
      "execution_count": null,
      "outputs": [
        {
          "output_type": "execute_result",
          "data": {
            "text/plain": [
              "10"
            ]
          },
          "metadata": {
            "tags": []
          },
          "execution_count": 11
        }
      ]
    },
    {
      "cell_type": "code",
      "metadata": {
        "id": "vBS0UZLGquQ3",
        "colab": {
          "base_uri": "https://localhost:8080/",
          "height": 34
        },
        "outputId": "fd6babc2-cb4f-4542-aa73-b79596e1e8e2"
      },
      "source": [
        "float('10')"
      ],
      "execution_count": null,
      "outputs": [
        {
          "output_type": "execute_result",
          "data": {
            "text/plain": [
              "10.0"
            ]
          },
          "metadata": {
            "tags": []
          },
          "execution_count": 12
        }
      ]
    },
    {
      "cell_type": "markdown",
      "metadata": {
        "id": "bNH1aYRZq1JN"
      },
      "source": [
        "This same operation can be performed using the **eval**() function. But it takes it further. It can evaluate even expressions, provided the input is a string"
      ]
    },
    {
      "cell_type": "code",
      "metadata": {
        "id": "pM7K8oifq7BH",
        "colab": {
          "base_uri": "https://localhost:8080/",
          "height": 163
        },
        "outputId": "16c2581c-3c1b-4242-c752-3c4920b223f7"
      },
      "source": [
        "int('2+3')"
      ],
      "execution_count": null,
      "outputs": [
        {
          "output_type": "error",
          "ename": "ValueError",
          "evalue": "ignored",
          "traceback": [
            "\u001b[0;31m---------------------------------------------------------------------------\u001b[0m",
            "\u001b[0;31mValueError\u001b[0m                                Traceback (most recent call last)",
            "\u001b[0;32m<ipython-input-13-7dc57dc68b93>\u001b[0m in \u001b[0;36m<module>\u001b[0;34m()\u001b[0m\n\u001b[0;32m----> 1\u001b[0;31m \u001b[0mint\u001b[0m\u001b[0;34m(\u001b[0m\u001b[0;34m'2+3'\u001b[0m\u001b[0;34m)\u001b[0m\u001b[0;34m\u001b[0m\u001b[0;34m\u001b[0m\u001b[0m\n\u001b[0m",
            "\u001b[0;31mValueError\u001b[0m: invalid literal for int() with base 10: '2+3'"
          ]
        }
      ]
    },
    {
      "cell_type": "code",
      "metadata": {
        "id": "LD3qdMX3q7ZL",
        "colab": {
          "base_uri": "https://localhost:8080/",
          "height": 34
        },
        "outputId": "0504711d-3dce-4424-c3ec-67483fa8760f"
      },
      "source": [
        "eval('2+3')"
      ],
      "execution_count": null,
      "outputs": [
        {
          "output_type": "execute_result",
          "data": {
            "text/plain": [
              "5"
            ]
          },
          "metadata": {
            "tags": []
          },
          "execution_count": 14
        }
      ]
    },
    {
      "cell_type": "markdown",
      "metadata": {
        "id": "JCsKNzoDrWW5"
      },
      "source": [
        "# **Python Import**\n",
        "When our program grows bigger, it is a good idea to break it into different modules.\n",
        "\n",
        "A module is a file containing Python definitions and statements. Python modules have a filename and end with the extension **.py.**\n",
        "\n",
        "Definitions inside a module can be imported to another module or the interactive interpreter in Python. We use the import keyword to do this.\n",
        "\n",
        "For example, we can import the math module by typing in import math."
      ]
    },
    {
      "cell_type": "code",
      "metadata": {
        "id": "X1RZ2wmYq95e",
        "colab": {
          "base_uri": "https://localhost:8080/",
          "height": 34
        },
        "outputId": "1beaac85-6959-47ee-d230-052c269ae201"
      },
      "source": [
        "import math\n",
        "print(math.pi)"
      ],
      "execution_count": null,
      "outputs": [
        {
          "output_type": "stream",
          "text": [
            "3.141592653589793\n"
          ],
          "name": "stdout"
        }
      ]
    },
    {
      "cell_type": "markdown",
      "metadata": {
        "id": "Fmy-ntrarjhA"
      },
      "source": [
        "Now all the definitions inside math module are available in our scope. We can also import some specific attributes and functions only, using the from keyword. For example:"
      ]
    },
    {
      "cell_type": "code",
      "metadata": {
        "id": "MS2S-mZXrngw",
        "colab": {
          "base_uri": "https://localhost:8080/",
          "height": 34
        },
        "outputId": "8a87eb96-b637-4ac1-d848-1c54ec1d6e2c"
      },
      "source": [
        "from math import pi\n",
        "pi"
      ],
      "execution_count": null,
      "outputs": [
        {
          "output_type": "execute_result",
          "data": {
            "text/plain": [
              "3.141592653589793"
            ]
          },
          "metadata": {
            "tags": []
          },
          "execution_count": 16
        }
      ]
    },
    {
      "cell_type": "markdown",
      "metadata": {
        "id": "_Br6xJsqrtgq"
      },
      "source": [
        "While importing a module, Python looks at several places defined in sys.path. It is a list of directory locations."
      ]
    },
    {
      "cell_type": "code",
      "metadata": {
        "id": "U2lj31nIrxDU",
        "colab": {
          "base_uri": "https://localhost:8080/",
          "height": 170
        },
        "outputId": "cc4d5221-1df5-442c-ac9d-60a7e99573c8"
      },
      "source": [
        "import sys\n",
        "sys.path"
      ],
      "execution_count": null,
      "outputs": [
        {
          "output_type": "execute_result",
          "data": {
            "text/plain": [
              "['',\n",
              " '/env/python',\n",
              " '/usr/lib/python36.zip',\n",
              " '/usr/lib/python3.6',\n",
              " '/usr/lib/python3.6/lib-dynload',\n",
              " '/usr/local/lib/python3.6/dist-packages',\n",
              " '/usr/lib/python3/dist-packages',\n",
              " '/usr/local/lib/python3.6/dist-packages/IPython/extensions',\n",
              " '/root/.ipython']"
            ]
          },
          "metadata": {
            "tags": []
          },
          "execution_count": 17
        }
      ]
    },
    {
      "cell_type": "markdown",
      "metadata": {
        "id": "s2EBWjlNr3Cy"
      },
      "source": [
        "We can add our own location to this list as well.\n",
        "\n"
      ]
    },
    {
      "cell_type": "code",
      "metadata": {
        "id": "KXJJpEPQrfS7"
      },
      "source": [],
      "execution_count": null,
      "outputs": []
    }
  ]
}