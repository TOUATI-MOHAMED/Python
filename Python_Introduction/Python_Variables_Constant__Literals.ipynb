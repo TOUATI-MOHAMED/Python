{
  "nbformat": 4,
  "nbformat_minor": 0,
  "metadata": {
    "colab": {
      "provenance": [],
      "authorship_tag": "ABX9TyPPgZXPeUViW+4YDsCv1I22",
      "include_colab_link": true
    },
    "kernelspec": {
      "name": "python3",
      "display_name": "Python 3"
    },
    "accelerator": "GPU"
  },
  "cells": [
    {
      "cell_type": "markdown",
      "metadata": {
        "id": "view-in-github",
        "colab_type": "text"
      },
      "source": [
        "<a href=\"https://colab.research.google.com/github/TOUATI-MOHAMED/Python/blob/master/Python_Introduction/Python_Variables_Constant__Literals.ipynb\" target=\"_parent\"><img src=\"https://colab.research.google.com/assets/colab-badge.svg\" alt=\"Open In Colab\"/></a>"
      ]
    },
    {
      "cell_type": "markdown",
      "metadata": {
        "id": "q3LVS52h-n30"
      },
      "source": [
        "# **Python Variables**\n",
        "A variable is a named location used to store data in the memory. It is helpful to think of variables as a container that holds data which can be changed later throughout programming. For example,"
      ]
    },
    {
      "cell_type": "code",
      "metadata": {
        "id": "fByUvSsmBfg5"
      },
      "source": [
        "number = 10"
      ],
      "execution_count": null,
      "outputs": []
    },
    {
      "cell_type": "code",
      "metadata": {
        "id": "Ga7-Gu-UB2fu"
      },
      "source": [
        "number = 10\n",
        "number = 1.1"
      ],
      "execution_count": null,
      "outputs": []
    },
    {
      "cell_type": "markdown",
      "metadata": {
        "id": "vF3tm13cB8AI"
      },
      "source": [
        "# **Assigning a value to a Variable in Python**\n",
        "As you can see from the above example, you can use the assignment operator = to assign a value to a variable.\n",
        "\n",
        "**Example 1: Declaring and assigning a value to a variable**\n",
        "\n"
      ]
    },
    {
      "cell_type": "code",
      "metadata": {
        "id": "EvCBTKFeCIWU",
        "colab": {
          "base_uri": "https://localhost:8080/"
        },
        "outputId": "b50f5b50-bc0d-40e2-8826-b92900e31063"
      },
      "source": [
        "website = \"apple.com\"\n",
        "print(website)"
      ],
      "execution_count": null,
      "outputs": [
        {
          "output_type": "stream",
          "name": "stdout",
          "text": [
            "apple.com\n"
          ]
        }
      ]
    },
    {
      "cell_type": "markdown",
      "metadata": {
        "id": "YF2V5HXACSPB"
      },
      "source": [
        "**Example 2: Changing the value of a variable**"
      ]
    },
    {
      "cell_type": "code",
      "metadata": {
        "id": "5rmC16l5CWHA",
        "colab": {
          "base_uri": "https://localhost:8080/",
          "height": 51
        },
        "outputId": "bef7e965-4f6d-4053-f8f4-640db157aa54"
      },
      "source": [
        "website = \"apple.com\"\n",
        "print(website)\n",
        "\n",
        "# assigning a new variable to website\n",
        "website = \"programiz.com\"\n",
        "\n",
        "print(website)"
      ],
      "execution_count": null,
      "outputs": [
        {
          "output_type": "stream",
          "text": [
            "apple.com\n",
            "programiz.com\n"
          ],
          "name": "stdout"
        }
      ]
    },
    {
      "cell_type": "markdown",
      "metadata": {
        "id": "c-iTyZVzCcg-"
      },
      "source": [
        "**Example 3: Assigning multiple values to multiple variables**"
      ]
    },
    {
      "cell_type": "code",
      "metadata": {
        "id": "5oHtrzdPCe_J",
        "colab": {
          "base_uri": "https://localhost:8080/",
          "height": 68
        },
        "outputId": "02d8c86d-442d-4527-85bb-3b18ba123ae0"
      },
      "source": [
        "a, b, c = 5, 3.2, \"Hello\"\n",
        "\n",
        "print (a)\n",
        "print (b)\n",
        "print (c)"
      ],
      "execution_count": null,
      "outputs": [
        {
          "output_type": "stream",
          "text": [
            "5\n",
            "3.2\n",
            "Hello\n"
          ],
          "name": "stdout"
        }
      ]
    },
    {
      "cell_type": "markdown",
      "metadata": {
        "id": "XqgJv526CpMr"
      },
      "source": [
        "If we want to assign the same value to multiple variables at once, we can do this as\n",
        "\n"
      ]
    },
    {
      "cell_type": "code",
      "metadata": {
        "id": "V2ya-pqICqCS",
        "colab": {
          "base_uri": "https://localhost:8080/"
        },
        "outputId": "7edffed6-85dd-49a8-d557-fe859c79cafc"
      },
      "source": [
        "x = y = z = \"the same\"\n",
        "\n",
        "print (x)\n",
        "print (y)\n",
        "print (z)"
      ],
      "execution_count": null,
      "outputs": [
        {
          "output_type": "stream",
          "name": "stdout",
          "text": [
            "the same\n",
            "the same\n",
            "the same\n"
          ]
        }
      ]
    },
    {
      "cell_type": "markdown",
      "metadata": {
        "id": "GpXS-jVKCtLS"
      },
      "source": [
        "**Example 3: Declaring and assigning value to a constant**\n"
      ]
    },
    {
      "cell_type": "code",
      "metadata": {
        "id": "Xxh-a6IqCzqM"
      },
      "source": [
        "#Create a constant.py\n",
        "PI = 3.14\n",
        "GRAVITY = 9.8\n"
      ],
      "execution_count": null,
      "outputs": []
    },
    {
      "cell_type": "code",
      "metadata": {
        "id": "x_JMMxbRDABi",
        "colab": {
          "base_uri": "https://localhost:8080/",
          "height": 339
        },
        "outputId": "bfbe08db-7611-43dc-b4a8-b257b4bb056a"
      },
      "source": [
        "#Create a main.py\n",
        "\n",
        "import constant\n",
        "print(constant.PI)\n",
        "print(constant.GRAVITY)"
      ],
      "execution_count": null,
      "outputs": [
        {
          "output_type": "error",
          "ename": "ModuleNotFoundError",
          "evalue": "ignored",
          "traceback": [
            "\u001b[0;31m---------------------------------------------------------------------------\u001b[0m",
            "\u001b[0;31mModuleNotFoundError\u001b[0m                       Traceback (most recent call last)",
            "\u001b[0;32m<ipython-input-19-1704c51f7ecc>\u001b[0m in \u001b[0;36m<module>\u001b[0;34m\u001b[0m\n\u001b[1;32m      1\u001b[0m \u001b[0;31m#Create a main.py\u001b[0m\u001b[0;34m\u001b[0m\u001b[0;34m\u001b[0m\u001b[0;34m\u001b[0m\u001b[0m\n\u001b[1;32m      2\u001b[0m \u001b[0;34m\u001b[0m\u001b[0m\n\u001b[0;32m----> 3\u001b[0;31m \u001b[0;32mimport\u001b[0m \u001b[0mconstant\u001b[0m\u001b[0;34m\u001b[0m\u001b[0;34m\u001b[0m\u001b[0m\n\u001b[0m",
            "\u001b[0;31mModuleNotFoundError\u001b[0m: No module named 'constant'",
            "",
            "\u001b[0;31m---------------------------------------------------------------------------\u001b[0;32m\nNOTE: If your import is failing due to a missing package, you can\nmanually install dependencies using either !pip or !apt.\n\nTo view examples of installing some common dependencies, click the\n\"Open Examples\" button below.\n\u001b[0;31m---------------------------------------------------------------------------\u001b[0m\n"
          ],
          "errorDetails": {
            "actions": [
              {
                "action": "open_url",
                "actionText": "Open Examples",
                "url": "/notebooks/snippets/importing_libraries.ipynb"
              }
            ]
          }
        }
      ]
    },
    {
      "cell_type": "markdown",
      "metadata": {
        "id": "klgcpIKBDyOZ"
      },
      "source": [
        "# **Rules and Naming Convention for Variables and constants**\n",
        "\n",
        "Constant and variable names should have a combination of letters in lowercase (a to z) or uppercase (A to Z) or digits (0 to 9) or an underscore (_). For example:\n",
        "\n",
        "snake_case\n",
        "\n",
        "MACRO_CASE\n",
        "\n",
        "camelCase\n",
        "\n",
        "CapWords\n",
        "\n",
        "Create a name that makes sense. For example, vowel makes more sense than v.\n",
        "If you want to create a variable name having two words, use underscore to separate them. For example:\n",
        "\n",
        "my_name\n",
        "\n",
        "current_salary\n",
        "\n",
        "\n",
        "Use capital letters possible to declare a constant. For example:\n",
        "\n",
        "PI\n",
        "\n",
        "G\n",
        "\n",
        "MASS\n",
        "SPEED_OF_LIGHT\n",
        "\n",
        "TEMP\n",
        "\n",
        "Never use special symbols like !, @, #, $, %, etc.\n",
        "Don't start a variable name with a digit.\n",
        "\n",
        "**Literals**\n",
        "\n",
        "Literal is a raw data given in a variable or constant. In Python, there are various types of literals they are as follows:\n",
        "\n",
        "**Numeric Literals**\n",
        "\n",
        "Numeric Literals are immutable (unchangeable). Numeric literals can belong to 3 different numerical types Integer, Float, and Complex."
      ]
    },
    {
      "cell_type": "markdown",
      "metadata": {
        "id": "zXu1rbmzEbDn"
      },
      "source": [
        "# **Example 4: How to use Numeric literals in Python?**\n"
      ]
    },
    {
      "cell_type": "code",
      "metadata": {
        "id": "8HxBhkhOEfZX",
        "colab": {
          "base_uri": "https://localhost:8080/",
          "height": 68
        },
        "outputId": "6ff0df17-247f-44d0-c361-9dece985cba3"
      },
      "source": [
        "a = 0b1010 #Binary Literals\n",
        "b = 100 #Decimal Literal \n",
        "c = 0o310 #Octal Literal\n",
        "d = 0x12c #Hexadecimal Literal\n",
        "\n",
        "#Float Literal\n",
        "float_1 = 10.5 \n",
        "float_2 = 1.5e2\n",
        "\n",
        "#Complex Literal \n",
        "x = 3.14j\n",
        "\n",
        "print(a, b, c, d)\n",
        "print(float_1, float_2)\n",
        "print(x, x.imag, x.real)"
      ],
      "execution_count": null,
      "outputs": [
        {
          "output_type": "stream",
          "text": [
            "10 100 200 300\n",
            "10.5 150.0\n",
            "3.14j 3.14 0.0\n"
          ],
          "name": "stdout"
        }
      ]
    },
    {
      "cell_type": "markdown",
      "metadata": {
        "id": "kd6eqbtcEdBS"
      },
      "source": [
        "# **String literals**\n",
        "\n",
        "A string literal is a sequence of characters surrounded by quotes. We can use both single, double or triple quotes for a string. And, a character literal is a single character surrounded by single or double quotes."
      ]
    },
    {
      "cell_type": "markdown",
      "metadata": {
        "id": "cLcOB7LsE-ny"
      },
      "source": [
        "# **Example 7: How to use string literals in Python?**\n"
      ]
    },
    {
      "cell_type": "code",
      "metadata": {
        "id": "r3c5RL9sFA0j",
        "colab": {
          "base_uri": "https://localhost:8080/"
        },
        "outputId": "7162afb3-9678-4d24-f30c-18959aa473df"
      },
      "source": [
        "strings = \"This is Python\"\n",
        "char = \"C\"\n",
        "multiline_str = \"\"\"This is a multiline string with more than one line code.\"\"\"\n",
        "unicode = u\"\\u00dcnic\\u00f6de\"\n",
        "raw_str = r\"raw \\n string\"\n",
        "\n",
        "print(strings)\n",
        "print(char)\n",
        "print(multiline_str)\n",
        "print(unicode)\n",
        "print(raw_str)"
      ],
      "execution_count": null,
      "outputs": [
        {
          "output_type": "stream",
          "name": "stdout",
          "text": [
            "This is Python\n",
            "C\n",
            "This is a multiline string with more than one line code.\n",
            "Ünicöde\n",
            "raw \\string\n"
          ]
        }
      ]
    },
    {
      "cell_type": "markdown",
      "metadata": {
        "id": "CFEIcBaDFVwk"
      },
      "source": [
        "In the above program, This is Python is a string literal and **C** is a character literal. The value with triple-quote \" \" \" assigned in the multiline_str is multi-line string literal. The **u\"\\u00dcnic\\u00f6de\"** is a unicode literal which supports characters other than English and **r\"raw \\n string\"** is a raw string literal.\n",
        "\n"
      ]
    },
    {
      "cell_type": "markdown",
      "metadata": {
        "id": "2PTwd85SF8cQ"
      },
      "source": [
        "# **Boolean  literals**\n",
        "A Boolean literal can have any of the two values: True or False.\n",
        "\n",
        "**Example 8: How to use boolean literals in Python?** "
      ]
    },
    {
      "cell_type": "code",
      "metadata": {
        "id": "tMfAW9KKGDru",
        "colab": {
          "base_uri": "https://localhost:8080/",
          "height": 85
        },
        "outputId": "c411611d-3181-4c39-c1bd-3cf7b8324ec4"
      },
      "source": [
        "x = (1 == True)\n",
        "y = (1 == False)\n",
        "a = True + 4\n",
        "b = False + 10\n",
        "\n",
        "print(\"x is\", x)\n",
        "print(\"y is\", y)\n",
        "print(\"a:\", a)\n",
        "print(\"b:\", b)"
      ],
      "execution_count": null,
      "outputs": [
        {
          "output_type": "stream",
          "text": [
            "x is True\n",
            "y is False\n",
            "a: 5\n",
            "b: 10\n"
          ],
          "name": "stdout"
        }
      ]
    },
    {
      "cell_type": "markdown",
      "metadata": {
        "id": "3hZ0ej57GQal"
      },
      "source": [
        "# **Special literals**\n",
        "Python contains one special literal i.e. None. We use it to specify to that field that is not created.\n",
        "\n",
        "**Example 9: How to use special literals in Python?**"
      ]
    },
    {
      "cell_type": "code",
      "metadata": {
        "id": "Cmcimyi5GTuI",
        "colab": {
          "base_uri": "https://localhost:8080/"
        },
        "outputId": "15809ae7-6004-4e73-b6d8-9efd2033a0fc"
      },
      "source": [
        "drink = \"Available\"\n",
        "food = None\n",
        "\n",
        "def menu(x):\n",
        "    if x == drink:\n",
        "        print(drink)\n",
        "    else:\n",
        "        print(food)\n",
        "\n",
        "menu(drink)\n",
        "menu(food)"
      ],
      "execution_count": null,
      "outputs": [
        {
          "output_type": "stream",
          "name": "stdout",
          "text": [
            "Available\n",
            "None\n"
          ]
        }
      ]
    },
    {
      "cell_type": "markdown",
      "metadata": {
        "id": "ZB3cZ-7TGeHT"
      },
      "source": [
        "# **Literal Collections**\n",
        "There are four different literal collections List literals, Tuple literals, Dict literals, and Set literals.\n",
        "\n",
        "**Example 10: How to use literals collections in Python?**"
      ]
    },
    {
      "cell_type": "code",
      "metadata": {
        "id": "IJubGBa6GiZd",
        "colab": {
          "base_uri": "https://localhost:8080/"
        },
        "outputId": "2db3bf11-5c1d-4a95-b116-66548da586fa"
      },
      "source": [
        "fruits = [\"apple\", \"mango\", \"orange\"] #list\n",
        "numbers = (1, 2, 3) #tuple\n",
        "alphabets = {'a':'apple', 'b':'ball', 'c':'cat'} #dictionary\n",
        "vowels = {'a', 'e', 'i' , 'o', 'u'} #set\n",
        "\n",
        "print(fruits)\n",
        "print(numbers)\n",
        "print(alphabets)\n",
        "print(vowels)"
      ],
      "execution_count": null,
      "outputs": [
        {
          "output_type": "stream",
          "name": "stdout",
          "text": [
            "['apple', 'mango', 'orange']\n",
            "(1, 'apple', 3)\n",
            "{'a': 'apple', 'b': 'ball', 'c': 'cat'}\n",
            "{'e', 'i', 'a', 'u', 'o'}\n"
          ]
        }
      ]
    },
    {
      "cell_type": "code",
      "source": [],
      "metadata": {
        "id": "vAmkRZR-9arO"
      },
      "execution_count": null,
      "outputs": []
    }
  ]
}