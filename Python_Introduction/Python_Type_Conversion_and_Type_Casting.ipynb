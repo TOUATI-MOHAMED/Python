{
  "nbformat": 4,
  "nbformat_minor": 0,
  "metadata": {
    "colab": {
      "provenance": [],
      "authorship_tag": "ABX9TyNWgk2bZ0bYA5WnLhnoXgfl",
      "include_colab_link": true
    },
    "kernelspec": {
      "name": "python3",
      "display_name": "Python 3"
    },
    "accelerator": "GPU"
  },
  "cells": [
    {
      "cell_type": "markdown",
      "metadata": {
        "id": "view-in-github",
        "colab_type": "text"
      },
      "source": [
        "<a href=\"https://colab.research.google.com/github/TOUATI-MOHAMED/Python/blob/master/Python_Introduction/Python_Type_Conversion_and_Type_Casting.ipynb\" target=\"_parent\"><img src=\"https://colab.research.google.com/assets/colab-badge.svg\" alt=\"Open In Colab\"/></a>"
      ]
    },
    {
      "cell_type": "markdown",
      "metadata": {
        "id": "iPgEQS6qewM8"
      },
      "source": [
        "\n",
        "# **Type Conversion:**\n",
        "\n",
        "The process of converting the value of one data type (integer, string, float, etc.) to another data type is called type conversion. Python has two types of type conversion.\n",
        "\n",
        "**1)Implicit Type Conversion**\n",
        "\n",
        "**2)Explicit Type Conversion**\n",
        "\n",
        "\n",
        "# **Implicit Type Conversion:**\n",
        "\n",
        "In Implicit type conversion, Python automatically converts one data type to another data type. This process doesn't need any user involvement.\n",
        "\n",
        "Let's see an example where Python promotes conversion of lower datatype (integer) to higher data type (float) to avoid data loss.\n",
        "\n",
        "\n",
        "\n",
        "\n"
      ]
    },
    {
      "cell_type": "markdown",
      "metadata": {
        "id": "gAQJfK1fhEQC"
      },
      "source": [
        "**Example 1:  Converting integer to float**\n",
        "\n",
        "\n",
        "\n"
      ]
    },
    {
      "cell_type": "code",
      "metadata": {
        "id": "P6NWRg6DhUuY",
        "colab": {
          "base_uri": "https://localhost:8080/",
          "height": 85
        },
        "outputId": "03b07a08-6d5f-4c1b-d055-0d805a438765"
      },
      "source": [
        "num_int = 123\n",
        "num_flo = 1.23\n",
        "\n",
        "num_new = num_int + num_flo\n",
        "\n",
        "print(\"datatype of num_int:\",type(num_int))\n",
        "print(\"datatype of num_flo:\",type(num_flo))\n",
        "\n",
        "print(\"Value of num_new:\",num_new)\n",
        "print(\"datatype of num_new:\",type(num_new))"
      ],
      "execution_count": null,
      "outputs": [
        {
          "output_type": "stream",
          "text": [
            "datatype of num_int: <class 'int'>\n",
            "datatype of num_flo: <class 'float'>\n",
            "Value of num_new: 124.23\n",
            "datatype of num_new: <class 'float'>\n"
          ],
          "name": "stdout"
        }
      ]
    },
    {
      "cell_type": "markdown",
      "metadata": {
        "id": "A8ccEBDrhoHP"
      },
      "source": [
        "In the above program,\n",
        "\n",
        "We add two variables num_int and num_flo, storing the value in num_new.\n",
        "We will look at the data type of all three objects respectively.\n",
        "\n",
        "In the output we can see the datatype of num_int is an integer, datatype of num_flo is a float.\n",
        "\n",
        "Also, we can see the num_new has float data type because Python always converts smaller data type to larger data type to avoid the loss of data."
      ]
    },
    {
      "cell_type": "markdown",
      "metadata": {
        "id": "NWCkQ4ojhtma"
      },
      "source": [
        "Now, let's try adding a string and an integer, and see how Python treats it.\n",
        "\n",
        "**Example 2: Addition of string(higher) data type and integer(lower) datatype**"
      ]
    },
    {
      "cell_type": "code",
      "metadata": {
        "id": "hVFopujDhwY3"
      },
      "source": [
        "num_int = 123\n",
        "num_str = \"456\"\n",
        "\n",
        "print(\"Data type of num_int:\",type(num_int))\n",
        "print(\"Data type of num_str:\",type(num_str))\n",
        "\n",
        "print(num_int+num_str)"
      ],
      "execution_count": null,
      "outputs": []
    },
    {
      "cell_type": "markdown",
      "metadata": {
        "id": "xVfocMsHkn0v"
      },
      "source": [
        "In the above program,\n",
        "\n",
        "We add two variable **num_int** and **num_str**.\n",
        "\n",
        "As we can see from the output, we got typeerror. Python is not able use Implicit Conversion in such condition.\n",
        "\n",
        "However Python has the solution for this type of situation which is know as Explicit Conversion."
      ]
    },
    {
      "cell_type": "markdown",
      "metadata": {
        "id": "msOU3xvNk1Ws"
      },
      "source": [
        "# **Explicit Type Conversion:**\n",
        "In Explicit Type Conversion, users convert the data type of an object to required data type. We use the predefined functions like **int**(), **float**(), **str**(), etc to perform explicit type conversion.\n",
        "\n",
        "This type conversion is also called typecasting because the user casts (change) the data type of the objects.\n",
        "\n",
        "Syntax :\n",
        "\n",
        "    (required_datatype)(expression)\n",
        "\n",
        "Typecasting can be done by assigning the required data type function to the expression."
      ]
    },
    {
      "cell_type": "markdown",
      "metadata": {
        "id": "Ixqu_ZDGlEgT"
      },
      "source": [
        "# **Example 3: Addition of string and integer using explicit conversion**\n"
      ]
    },
    {
      "cell_type": "code",
      "metadata": {
        "id": "ltJiHgU-lHl5",
        "colab": {
          "base_uri": "https://localhost:8080/",
          "height": 102
        },
        "outputId": "dcd1433e-bb2a-4c7f-fcec-b92ee73d8173"
      },
      "source": [
        "num_int = 123\n",
        "num_str = \"456\"\n",
        "\n",
        "print(\"Data type of num_int:\",type(num_int))\n",
        "print(\"Data type of num_str before Type Casting:\",type(num_str))\n",
        "\n",
        "num_str = int(num_str)\n",
        "print(\"Data type of num_str after Type Casting:\",type(num_str))\n",
        "\n",
        "num_sum = num_int + num_str\n",
        "\n",
        "print(\"Sum of num_int and num_str:\",num_sum)\n",
        "print(\"Data type of the sum:\",type(num_sum))"
      ],
      "execution_count": null,
      "outputs": [
        {
          "output_type": "stream",
          "text": [
            "Data type of num_int: <class 'int'>\n",
            "Data type of num_str before Type Casting: <class 'str'>\n",
            "Data type of num_str after Type Casting: <class 'int'>\n",
            "Sum of num_int and num_str: 579\n",
            "Data type of the sum: <class 'int'>\n"
          ],
          "name": "stdout"
        }
      ]
    },
    {
      "cell_type": "markdown",
      "metadata": {
        "id": "l-Ya7vNwlT9l"
      },
      "source": [
        "In above program,\n",
        "\n",
        "We add num_str and num_int variable.\n",
        "\n",
        "We converted **num_str** from **string**(higher) to **integer**(lower) type using **int**() function to perform the addition.\n",
        "\n",
        "After converting num_str to a integer value Python is able to add these two variable.\n",
        "\n",
        "We got the num_sum value and data type to be integer."
      ]
    },
    {
      "cell_type": "markdown",
      "metadata": {
        "id": "n36sfiwOlh9L"
      },
      "source": [
        "# **Key Points to Remember:**\n",
        "\n",
        "1) Type Conversion is the conversion of object from one data type to another data type.\n",
        "\n",
        "2) Implicit Type Conversion is automatically performed by the Python interpreter.\n",
        "\n",
        "3) Python avoids the loss of data in Implicit Type Conversion.\n",
        "\n",
        "4) Explicit Type Conversion is also called Type Casting, the data types of object are converted using predefined function by user.\n",
        "\n",
        "5) In Type Casting loss of data may occur as we enforce the object to specific data type."
      ]
    },
    {
      "cell_type": "code",
      "metadata": {
        "id": "WciljAHnczBj"
      },
      "source": [],
      "execution_count": null,
      "outputs": []
    }
  ]
}