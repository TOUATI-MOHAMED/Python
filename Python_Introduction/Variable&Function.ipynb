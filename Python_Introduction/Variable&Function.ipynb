{
  "nbformat": 4,
  "nbformat_minor": 0,
  "metadata": {
    "colab": {
      "provenance": [],
      "authorship_tag": "ABX9TyPzOWmvzkTL3KRss/ODnwJX",
      "include_colab_link": true
    },
    "kernelspec": {
      "name": "python3",
      "display_name": "Python 3"
    }
  },
  "cells": [
    {
      "cell_type": "markdown",
      "metadata": {
        "id": "view-in-github",
        "colab_type": "text"
      },
      "source": [
        "<a href=\"https://colab.research.google.com/github/TOUATI-MOHAMED/Python/blob/master/Python_Introduction/Variable%26Function.ipynb\" target=\"_parent\"><img src=\"https://colab.research.google.com/assets/colab-badge.svg\" alt=\"Open In Colab\"/></a>"
      ]
    },
    {
      "cell_type": "markdown",
      "metadata": {
        "id": "qLbPYqI_rcal"
      },
      "source": [
        "# **Program to Swap Two Variables**\n",
        "In this example, you will learn to swap two variables by using a temporary variable and, without using temporary variable\n",
        "\n"
      ]
    },
    {
      "cell_type": "code",
      "metadata": {
        "id": "JHidvmO8uSR8",
        "colab": {
          "base_uri": "https://localhost:8080/",
          "height": 51
        },
        "outputId": "b8945727-9156-442e-da45-6ca1f8fa28ff"
      },
      "source": [
        "#Using a temporary variable\n",
        "# Python program to swap two variables\n",
        "x = 5\n",
        "y = 10\n",
        "# To take inputs from the user\n",
        "#x = input('Enter value of x: ')\n",
        "#y = input('Enter value of y: ')\n",
        "# create a temporary variable and swap the values\n",
        "temp = x\n",
        "x = y\n",
        "y = temp\n",
        "print('The value of x after swapping: {}'.format(x))\n",
        "print('The value of y after swapping: {}'.format(y))"
      ],
      "execution_count": null,
      "outputs": [
        {
          "output_type": "stream",
          "text": [
            "The value of x after swapping: 10\n",
            "The value of y after swapping: 5\n"
          ],
          "name": "stdout"
        }
      ]
    },
    {
      "cell_type": "markdown",
      "metadata": {
        "id": "4EGV_1iosJgM"
      },
      "source": [
        "# Without Using Temporary Variable\n",
        "In Python, there is a simple construct to swap variables. The following code does the same as above but without the use of any temporary variable.\n"
      ]
    },
    {
      "cell_type": "code",
      "metadata": {
        "id": "-BP55tj3sCUH"
      },
      "source": [
        "x = 5\n",
        "y = 10\n",
        "x, y = y, x\n",
        "print(\"x =\", x)\n",
        "print(\"y =\", y)"
      ],
      "execution_count": null,
      "outputs": []
    },
    {
      "cell_type": "code",
      "metadata": {
        "id": "IDMG9pXesWCj"
      },
      "source": [
        "#Addition and Subtraction\n",
        "\n",
        "x = x + y\n",
        "y = x - y\n",
        "x = x - y"
      ],
      "execution_count": null,
      "outputs": []
    },
    {
      "cell_type": "code",
      "metadata": {
        "id": "WMplcnq5sdcF"
      },
      "source": [
        "#Multiplication and Division\n",
        "\n",
        "x = x * y\n",
        "y = x / y\n",
        "x = x / y"
      ],
      "execution_count": null,
      "outputs": []
    },
    {
      "cell_type": "code",
      "metadata": {
        "id": "ycsjjUPtsijQ"
      },
      "source": [
        "#XOR swap\n",
        "\n",
        "#This algorithm works for integers only\n",
        "\n",
        "x = x ^ y\n",
        "y = x ^ y\n",
        "x = x ^ y"
      ],
      "execution_count": null,
      "outputs": []
    },
    {
      "cell_type": "markdown",
      "metadata": {
        "id": "pVi5xapXte7d"
      },
      "source": [
        "# **Python Functions**\n",
        "What is a function in Python?\n",
        "In Python, function is a group of related statements that perform a specific task.\n",
        "\n",
        "Functions help break our program into smaller and modular chunks. As our program grows larger and larger, functions make it more organized and manageable.\n",
        "\n",
        "Furthermore, it avoids repetition and makes code reusable.\n",
        "\n",
        "**Syntax of Function**\n",
        "\n",
        "def function_name(parameters):\n",
        "\n",
        "           \"\"\"docstring\"\"\n",
        "            statement(s) \n",
        "\n",
        "         \n",
        "Above shown is a function definition which consists of following components.\n",
        "\n",
        "1)Keyword def marks the start of function header.\n",
        "\n",
        "2)A function name to uniquely identify it. Function naming follows the same rules of writing identifiers in Python.\n",
        "\n",
        "3)Parameters (arguments) through which we pass values to a function. They are optional.\n",
        "\n",
        "4)A colon (:) to mark the end of function header.\n",
        "\n",
        "5)Optional documentation string (docstring) to describe what the function does.\n",
        "\n",
        "6)One or more valid python statements that make up the function body. Statements must have same indentation level (usually 4 spaces).\n",
        "\n",
        "7)An optional return statement to return a value from the function.\n",
        "\n",
        "**Example of a function**\n",
        "\n",
        "\t"
      ]
    },
    {
      "cell_type": "code",
      "metadata": {
        "id": "dYjicHe_vq89"
      },
      "source": [
        "def greet(name):\n",
        "\t\"\"\"This function greets to\n",
        "\tthe person passed in as\n",
        "\tparameter\"\"\"\n",
        "\tprint(\"Hello, \" + name + \". Good morning!\")"
      ],
      "execution_count": null,
      "outputs": []
    },
    {
      "cell_type": "markdown",
      "metadata": {
        "id": "8Bramfqbv7-W"
      },
      "source": [
        "#How to call a function in python?\n",
        "Once we have defined a function, we can call it from another function, program or even the Python prompt. To call a function we simply type the function name with appropriate parameters."
      ]
    },
    {
      "cell_type": "code",
      "metadata": {
        "id": "W29sdkyRwDf3"
      },
      "source": [
        "#  >>> greet('Paul') for the shell \n",
        ">>> greet('Paul')\n",
        "\n"
      ],
      "execution_count": null,
      "outputs": []
    },
    {
      "cell_type": "markdown",
      "metadata": {
        "id": "68SHXY2dwhNq"
      },
      "source": [
        "#**How Function works in Python?**\n",
        "\n",
        "\n",
        "![image.png](data:image/png;base64,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)\n",
        "\n",
        "\n",
        "\n",
        "#**Scope and Lifetime of variables**\n",
        "Scope of a variable is the portion of a program where the variable is recognized. Parameters and variables defined inside a function is not visible from outside. Hence, they have a local scope.\n",
        "\n",
        "Lifetime of a variable is the period throughout which the variable exits in the memory. The lifetime of variables inside a function is as long as the function executes.\n",
        "\n",
        "They are destroyed once we return from the function. Hence, a function does not remember the value of a variable from its previous calls.\n",
        "\n",
        "Here is an example to illustrate the scope of a variable inside a function."
      ]
    },
    {
      "cell_type": "code",
      "metadata": {
        "id": "XMd0rbn7xg9K"
      },
      "source": [
        "def my_func():\n",
        "\tx = 10\n",
        "\tprint(\"Value inside function:\",x)\n",
        "\n",
        "x = 20\n",
        "my_func()\n",
        "print(\"Value outside function:\",x)"
      ],
      "execution_count": null,
      "outputs": []
    },
    {
      "cell_type": "markdown",
      "metadata": {
        "id": "dCiKTLpAxk3e"
      },
      "source": [
        "Here, we can see that the value of x is 20 initially. Even though the function my_func() changed the value of x to 10, it did not effect the value outside the function.\n",
        "\n",
        "This is because the variable x inside the function is different (local to the function) from the one outside. Although they have same names, they are two different variables with different scope.\n",
        "\n",
        "On the other hand, variables outside of the function are visible from inside. They have a global scope.\n",
        "\n",
        "We can read these values from inside the function but cannot change (write) them. In order to modify the value of variables outside the function, they must be declared as global variables using the keyword global."
      ]
    },
    {
      "cell_type": "markdown",
      "metadata": {
        "id": "s6zFUkVbxuGy"
      },
      "source": [
        "# **Types of Functions**\n",
        "Basically, we can divide functions into the following two types:\n",
        "\n",
        "1)**Built-in functions** - Functions that are built into Python.\n",
        "\n",
        "2)**User-defined functions** - Functions defined by the users themselves."
      ]
    },
    {
      "cell_type": "code",
      "metadata": {
        "id": "nOToLAYunXYb",
        "outputId": "65955216-9be5-4a50-9b55-d903eb2a44f0",
        "colab": {
          "base_uri": "https://localhost:8080/",
          "height": 34
        }
      },
      "source": [
        "#for creation a mathematic function  we use lambda  \n",
        "f= lambda x: x**2\n",
        "print(f(3))"
      ],
      "execution_count": null,
      "outputs": [
        {
          "output_type": "stream",
          "text": [
            "9\n"
          ],
          "name": "stdout"
        }
      ]
    },
    {
      "cell_type": "code",
      "metadata": {
        "id": "_4_a1cn6oTb1"
      },
      "source": [
        "w= lambda x,y: (x**2)*x+y +12"
      ],
      "execution_count": null,
      "outputs": []
    },
    {
      "cell_type": "code",
      "metadata": {
        "id": "YNAwoLGDo1sF",
        "outputId": "be181fd5-6c27-4f7b-b254-d50492a4f325",
        "colab": {
          "base_uri": "https://localhost:8080/",
          "height": 34
        }
      },
      "source": [
        "print(w(10,1))"
      ],
      "execution_count": null,
      "outputs": [
        {
          "output_type": "stream",
          "text": [
            "1013\n"
          ],
          "name": "stdout"
        }
      ]
    },
    {
      "cell_type": "code",
      "metadata": {
        "id": "xDZsPfato91e"
      },
      "source": [
        "def potential_energy(m,h,g):  # m,h ,g : arguments for function \n",
        "  E=m*h*g\n",
        "  print(E,'joule')  \n"
      ],
      "execution_count": null,
      "outputs": []
    },
    {
      "cell_type": "code",
      "metadata": {
        "id": "wmGFEE-gqBD4",
        "outputId": "e9dedcc0-6fc7-4398-dcaf-bc16d45cc281",
        "colab": {
          "base_uri": "https://localhost:8080/",
          "height": 51
        }
      },
      "source": [
        "potential_energy(10,12,9.8)\n",
        "result= potential_energy(m=1,h=2,g=10) # m,h,g are the keywords for our arguments "
      ],
      "execution_count": null,
      "outputs": [
        {
          "output_type": "stream",
          "text": [
            "1176.0 joule\n",
            "20 joule\n"
          ],
          "name": "stdout"
        }
      ]
    },
    {
      "cell_type": "code",
      "metadata": {
        "id": "9Xo08oG4qLZe"
      },
      "source": [
        "def potential_energy(m,h,g):  # m,h ,g : arguments for function \n",
        "  E=m*h*g\n",
        "  print(E,'joule')  \n"
      ],
      "execution_count": null,
      "outputs": []
    },
    {
      "cell_type": "code",
      "metadata": {
        "id": "wgG0t2lJtSxE"
      },
      "source": [
        "def potential_energy(m,h, limit, g=10):  \n",
        "  E=m*h*g\n",
        "  print(E,'joule')  \n",
        "  return E<= limit"
      ],
      "execution_count": null,
      "outputs": []
    },
    {
      "cell_type": "code",
      "metadata": {
        "id": "h3MlNT9jtZ4n",
        "outputId": "7cdd1008-953b-47ff-f297-e4b0806101dd",
        "colab": {
          "base_uri": "https://localhost:8080/",
          "height": 51
        }
      },
      "source": [
        "potential_energy(10,10,1001)"
      ],
      "execution_count": null,
      "outputs": [
        {
          "output_type": "stream",
          "text": [
            "1000 joule\n"
          ],
          "name": "stdout"
        },
        {
          "output_type": "execute_result",
          "data": {
            "text/plain": [
              "True"
            ]
          },
          "metadata": {
            "tags": []
          },
          "execution_count": 42
        }
      ]
    }
  ]
}