{
  "nbformat": 4,
  "nbformat_minor": 0,
  "metadata": {
    "colab": {
      "name": "Strings.ipynb",
      "provenance": [],
      "collapsed_sections": [],
      "authorship_tag": "ABX9TyMTJgjxUQa+5yNub1Zi3kv4",
      "include_colab_link": true
    },
    "kernelspec": {
      "name": "python3",
      "display_name": "Python 3"
    },
    "accelerator": "GPU"
  },
  "cells": [
    {
      "cell_type": "markdown",
      "metadata": {
        "id": "view-in-github",
        "colab_type": "text"
      },
      "source": [
        "<a href=\"https://colab.research.google.com/github/TOUATIMOHAnitMED/String-/blob/master/Strings.ipynb\" target=\"_parent\"><img src=\"https://colab.research.google.com/assets/colab-badge.svg\" alt=\"Open In Colab\"/></a>"
      ]
    },
    {
      "cell_type": "markdown",
      "metadata": {
        "id": "iORtsdVvwEmi",
        "colab_type": "text"
      },
      "source": [
        "# **Calculare the sum of the digits of random three-digit number**"
      ]
    },
    {
      "cell_type": "code",
      "metadata": {
        "id": "hAexMF1ZwRgV",
        "colab_type": "code",
        "outputId": "707096bf-a0f5-4e76-ba92-fbc93705b11e",
        "colab": {
          "base_uri": "https://localhost:8080/",
          "height": 51
        }
      },
      "source": [
        "from random import random\n",
        "n = random() * 900 + 100\n",
        "n = int(n)\n",
        "print(n)\n",
        "\n",
        "s = str(n)\n",
        "\n",
        "a = int(s[0])\n",
        "b = int(s[1])\n",
        "c = int(s[2])\n",
        "\n",
        "print(a+b+c)"
      ],
      "execution_count": 0,
      "outputs": [
        {
          "output_type": "stream",
          "text": [
            "820\n",
            "10\n"
          ],
          "name": "stdout"
        }
      ]
    },
    {
      "cell_type": "markdown",
      "metadata": {
        "id": "lLJGLX_UwwuM",
        "colab_type": "text"
      },
      "source": [
        "# **Replace substrings in a string**"
      ]
    },
    {
      "cell_type": "code",
      "metadata": {
        "id": "YUYsSBRgw139",
        "colab_type": "code",
        "outputId": "6c2daaa2-91f8-4892-ac10-fb8628e5ac7b",
        "colab": {
          "base_uri": "https://localhost:8080/",
          "height": 187
        }
      },
      "source": [
        "things = \"tree, box, chair, lamp, \\n\" \\\n",
        "         \"desk, cat, dog, grass, \\n\" \\\n",
        "         \"pig, box, lamp, shelf\"\n",
        "print(things)\n",
        "print()\n",
        "\n",
        "old_item = input(\"Old item: \")\n",
        "new_item = input(\"New item: \")\n",
        "len_old_item = len(old_item)\n",
        "\n",
        "i = things.find(old_item)\n",
        "while i > 0:\n",
        "    before = things[:i]\n",
        "    after = things[i+len_old_item:]\n",
        "    things = before + new_item + after\n",
        "    i = things.find(old_item)\n",
        "\n",
        "print()\n",
        "print(things)"
      ],
      "execution_count": 0,
      "outputs": [
        {
          "output_type": "stream",
          "text": [
            "tree, box, chair, lamp, \n",
            "desk, cat, dog, grass, \n",
            "pig, box, lamp, shelf\n",
            "\n",
            "Old item: box\n",
            "New item: cube\n",
            "\n",
            "tree, cube, chair, lamp, \n",
            "desk, cat, dog, grass, \n",
            "pig, cube, lamp, shelf\n"
          ],
          "name": "stdout"
        }
      ]
    },
    {
      "cell_type": "markdown",
      "metadata": {
        "id": "tbkrc7mmx4CF",
        "colab_type": "text"
      },
      "source": [
        "# **Select integers from a string**"
      ]
    },
    {
      "cell_type": "code",
      "metadata": {
        "id": "1K4BfKeIx4uV",
        "colab_type": "code",
        "colab": {}
      },
      "source": [
        "s = input()\n",
        "l = len(s)\n",
        "\n",
        "i = 0\n",
        "while i < l:\n",
        "    num = ''\n",
        "    symbol = s[i]\n",
        "    while symbol.isdigit():\n",
        "        num += symbol\n",
        "        i += 1\n",
        "        if i < l:\n",
        "            symbol = s[i]\n",
        "        else:\n",
        "            break\n",
        "    if num != '':\n",
        "        print(num)\n",
        "    i += 1"
      ],
      "execution_count": 0,
      "outputs": []
    },
    {
      "cell_type": "markdown",
      "metadata": {
        "id": "eQ76uRSOyaFd",
        "colab_type": "text"
      },
      "source": [
        "# **Find the maximum digit of a float number**"
      ]
    },
    {
      "cell_type": "code",
      "metadata": {
        "id": "rwCh4pq6wdhN",
        "colab_type": "code",
        "outputId": "e8405782-cdb5-4eb3-ac41-53429b912d39",
        "colab": {
          "base_uri": "https://localhost:8080/",
          "height": 51
        }
      },
      "source": [
        "\n",
        "from random import random\n",
        "\n",
        "num = round(random() * 1000, 3)\n",
        "print(num)\n",
        "\n",
        "strNum = str(num)\n",
        "\n",
        "maxDigit = -1\n",
        "\n",
        "for i in range(len(strNum)):\n",
        "    if strNum[i] == '.':\n",
        "        continue\n",
        "    elif maxDigit < int(strNum[i]):\n",
        "        maxDigit = int(strNum[i])\n",
        "\n",
        "print(maxDigit)"
      ],
      "execution_count": 0,
      "outputs": [
        {
          "output_type": "stream",
          "text": [
            "274.349\n",
            "9\n"
          ],
          "name": "stdout"
        }
      ]
    },
    {
      "cell_type": "markdown",
      "metadata": {
        "id": "xKafThNmy1Qq",
        "colab_type": "text"
      },
      "source": [
        "# **Determine the percentage of lowercase and uppercase letters in a string**"
      ]
    },
    {
      "cell_type": "code",
      "metadata": {
        "id": "rx6zCckMyuBP",
        "colab_type": "code",
        "colab": {}
      },
      "source": [
        "string = input()\n",
        "\n",
        "length = len(string)\n",
        "\n",
        "lower = upper = 0\n",
        "\n",
        "for i in string:\n",
        "    if i.islower():\n",
        "        lower += 1\n",
        "    elif i.isupper():\n",
        "        upper += 1\n",
        "\n",
        "per_lower = lower / length * 100\n",
        "per_upper = upper / length * 100\n",
        "print(\"Lower: %.2f%%\" % per_lower)\n",
        "print(\"Upper: %.2f%%\" % per_upper)"
      ],
      "execution_count": 0,
      "outputs": []
    },
    {
      "cell_type": "markdown",
      "metadata": {
        "id": "SiJnzvcI0yxO",
        "colab_type": "text"
      },
      "source": [
        "# **Is a String a palidrome?**"
      ]
    },
    {
      "cell_type": "code",
      "metadata": {
        "id": "ENTjszDF05lN",
        "colab_type": "code",
        "outputId": "e3bf88d3-f781-43f2-fb57-2db43309855e",
        "colab": {
          "base_uri": "https://localhost:8080/",
          "height": 102
        }
      },
      "source": [
        "s = input()\n",
        "\n",
        "l = len(s)\n",
        "\n",
        "for i in range(l//2):\n",
        "    if s[i] != s[-1-i]:\n",
        "        print(\"It's not palindrome\")\n",
        "        quit()\n",
        "\n",
        "print(\"It's palindrome\")"
      ],
      "execution_count": 0,
      "outputs": [
        {
          "output_type": "stream",
          "text": [
            "danup \n",
            "It's not palindrome\n",
            "It's not palindrome\n",
            "It's not palindrome\n",
            "It's palindrome\n"
          ],
          "name": "stdout"
        }
      ]
    },
    {
      "cell_type": "code",
      "metadata": {
        "id": "erCogS4ly-_N",
        "colab_type": "code",
        "colab": {}
      },
      "source": [
        ""
      ],
      "execution_count": 0,
      "outputs": []
    }
  ]
}