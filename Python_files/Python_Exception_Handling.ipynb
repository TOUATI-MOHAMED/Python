{
  "nbformat": 4,
  "nbformat_minor": 0,
  "metadata": {
    "colab": {
      "provenance": [],
      "authorship_tag": "ABX9TyP5I8smF16gocijTGZLbb80",
      "include_colab_link": true
    },
    "kernelspec": {
      "name": "python3",
      "display_name": "Python 3"
    }
  },
  "cells": [
    {
      "cell_type": "markdown",
      "metadata": {
        "id": "view-in-github",
        "colab_type": "text"
      },
      "source": [
        "<a href=\"https://colab.research.google.com/github/TOUATI-MOHAMED/Python/blob/master/Python_files/Python_Exception_Handling.ipynb\" target=\"_parent\"><img src=\"https://colab.research.google.com/assets/colab-badge.svg\" alt=\"Open In Colab\"/></a>"
      ]
    },
    {
      "cell_type": "markdown",
      "metadata": {
        "id": "JmoAOsVuuqJu"
      },
      "source": [
        "# **Python Exception Handling - Try, Except and Finally**\n",
        "In this article, you'll learn how to handle exceptions in your Python program using try, except and finally statements. This will motivate you to write clean, readable and efficient code in Python.\n",
        "\n",
        "## **What are exceptions in Python?**\n",
        "Python has many built-in exceptions which forces your program to output an error when something in it goes wrong.\n",
        "\n",
        "When these exceptions occur, it causes the current process to stop and passes it to the calling process until it is handled. If not handled, our program will crash.\n",
        "\n",
        "For example, if function A calls function B which in turn calls function C and an exception occurs in function C. If it is not handled in C, the exception passes to B and then to A.\n",
        "\n",
        "If never handled, an error message is spit out and our program come to a sudden, unexpected halt.\n",
        "\n",
        "## **Catching Exceptions in Python**\n",
        "In Python, exceptions can be handled using a try statement.\n",
        "\n",
        "A critical operation which can raise exception is placed inside the try clause and the code that handles exception is written in except clause.\n",
        "\n",
        "It is up to us, what operations we perform once we have caught the exception. Here is a simple example."
      ]
    },
    {
      "cell_type": "code",
      "metadata": {
        "id": "LTZP0OzmmZsq",
        "colab": {
          "base_uri": "https://localhost:8080/",
          "height": 187
        },
        "outputId": "b9b50997-35e2-4493-cb8c-20da529b969a"
      },
      "source": [
        "# import module sys to get the type of exception\n",
        "import sys\n",
        "\n",
        "randomList = ['a', 0, 2]\n",
        "\n",
        "for entry in randomList:\n",
        "    try:\n",
        "        print(\"The entry is\", entry)\n",
        "        r = 1/int(entry)\n",
        "        break\n",
        "    except:\n",
        "        print(\"Oops!\",sys.exc_info()[0],\"occured.\")\n",
        "        print(\"Next entry.\")\n",
        "        print()\n",
        "print(\"The reciprocal of\",entry,\"is\",r)"
      ],
      "execution_count": null,
      "outputs": [
        {
          "output_type": "stream",
          "text": [
            "The entry is a\n",
            "Oops! <class 'ValueError'> occured.\n",
            "Next entry.\n",
            "\n",
            "The entry is 0\n",
            "Oops! <class 'ZeroDivisionError'> occured.\n",
            "Next entry.\n",
            "\n",
            "The entry is 2\n",
            "The reciprocal of 2 is 0.5\n"
          ],
          "name": "stdout"
        }
      ]
    },
    {
      "cell_type": "markdown",
      "metadata": {
        "id": "wBOlcUBKvZA3"
      },
      "source": [
        "In this program, we loop until the user enters an integer that has a valid reciprocal. The portion that can cause exception is placed inside try block.\n",
        "\n",
        "If no exception occurs, except block is skipped and normal flow continues. But if any exception occurs, it is caught by the except block.\n",
        "\n",
        "Here, we print the name of the exception using ex_info() function inside sys module and ask the user to try again. We can see that the values **'a'** and **'1.3'**  causes **ValueError** and **'0'** causes **ZeroDivisionError**."
      ]
    },
    {
      "cell_type": "markdown",
      "metadata": {
        "id": "jhmNd2KQv2i_"
      },
      "source": [
        "## **Catching Specific Exceptions in Python**\n",
        "\n",
        "In the above example, we did not mention any exception in the except clause.\n",
        "\n",
        "This is not a good programming practice as it will catch all exceptions and handle every case in the same way. We can specify which exceptions an except clause will catch.\n",
        "\n",
        "A try clause can have any number of except clause to handle them differently but only one will be executed in case an exception occurs.\n",
        "\n",
        "We can use a tuple of values to specify multiple exceptions in an except clause. Here is an example pseudo code.\n",
        "\n",
        "            "
      ]
    },
    {
      "cell_type": "code",
      "metadata": {
        "id": "108aIHZRu94P"
      },
      "source": [
        "try:\n",
        "   # do something\n",
        "   pass\n",
        "\n",
        "except ValueError:\n",
        "   # handle ValueError exception\n",
        "   pass\n",
        "\n",
        "except (TypeError, ZeroDivisionError):\n",
        "   # handle multiple exceptions\n",
        "   # TypeError and ZeroDivisionError\n",
        "   pass\n",
        "\n",
        "except:\n",
        "   # handle all other exceptions\n",
        "   pass"
      ],
      "execution_count": null,
      "outputs": []
    },
    {
      "cell_type": "markdown",
      "metadata": {
        "id": "llSlNELCwKh9"
      },
      "source": [
        "## **Raising Exceptions**\n",
        "\n",
        "In Python programming, exceptions are raised when corresponding errors occur at run time, but we can forcefully raise it using the keyword raise.\n",
        "\n",
        "We can also optionally pass in value to the exception to clarify why that exception was raised."
      ]
    },
    {
      "cell_type": "markdown",
      "metadata": {
        "id": "mFzc7_9ewQi0"
      },
      "source": [
        "        >>> raise KeyboardInterrupt\n",
        "        Traceback (most recent call last):\n",
        "        ...\n",
        "        KeyboardInterrupt\n",
        "\n",
        "        >>> raise MemoryError(\"This is an argument\")\n",
        "        Traceback (most recent call last):\n",
        "        ...\n",
        "        MemoryError: This is an argument\n",
        "\n",
        "        >>> try:\n",
        "        ...     a = int(input(\"Enter a positive integer: \"))\n",
        "        ...     if a <= 0:\n",
        "        ...         raise ValueError(\"That is not a positive number!\")\n",
        "        ... except ValueError as ve:\n",
        "        ...     print(ve)\n",
        "        ...    \n",
        "        Enter a positive integer: -2\n",
        "        That is not a positive number!"
      ]
    },
    {
      "cell_type": "markdown",
      "metadata": {
        "id": "6PtxvAKgwPid"
      },
      "source": [
        "## **try...finally**\n",
        "The try statement in Python can have an optional finally clause. This clause is executed no matter what, and is generally used to release external resources.\n",
        "\n",
        "For example, we may be connected to a remote data center through the network or working with a file or working with a Graphical User Interface (GUI).\n",
        "\n",
        "In all these circumstances, we must clean up the resource once used, whether it was successful or not. These actions (closing a file, GUI or disconnecting from network) are performed in the finally clause to guarantee execution.\n",
        "\n",
        "Here is an example of file operations to illustrate this."
      ]
    },
    {
      "cell_type": "code",
      "metadata": {
        "id": "e3Q4hITUwd_b"
      },
      "source": [
        "try:\n",
        "   f = open(\"test.txt\",encoding = 'utf-8')\n",
        "   # perform file operations\n",
        "finally:\n",
        "   f.close()"
      ],
      "execution_count": null,
      "outputs": []
    },
    {
      "cell_type": "markdown",
      "metadata": {
        "id": "r81DI_jRwg67"
      },
      "source": [
        "This type of construct makes sure the file is closed even if an exception occurs.\n",
        "\n"
      ]
    }
  ]
}