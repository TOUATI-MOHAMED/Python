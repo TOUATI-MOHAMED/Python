{
  "nbformat": 4,
  "nbformat_minor": 0,
  "metadata": {
    "colab": {
      "provenance": [],
      "authorship_tag": "ABX9TyOB35v42qYBlgEGcM5B7LAl",
      "include_colab_link": true
    },
    "kernelspec": {
      "name": "python3",
      "display_name": "Python 3"
    }
  },
  "cells": [
    {
      "cell_type": "markdown",
      "metadata": {
        "id": "view-in-github",
        "colab_type": "text"
      },
      "source": [
        "<a href=\"https://colab.research.google.com/github/TOUATI-MOHAMED/Python/blob/master/Python_files/Python_Custom_Exceptions.ipynb\" target=\"_parent\"><img src=\"https://colab.research.google.com/assets/colab-badge.svg\" alt=\"Open In Colab\"/></a>"
      ]
    },
    {
      "cell_type": "markdown",
      "metadata": {
        "id": "WEsdNKYJ-h9l"
      },
      "source": [
        "## **Python Custom Exceptions**\n"
      ]
    },
    {
      "cell_type": "markdown",
      "metadata": {
        "id": "gv7KrSna-wjX"
      },
      "source": [
        "# **Python Custom Exceptions**\n",
        "\n",
        "In this article, you will learn to define custom exceptions depending upon your requirements.\n",
        "\n",
        "Python has many built-in exceptions which forces your program to output an error when something in it goes wrong.\n",
        "\n",
        "However, sometimes you may need to create custom exceptions that serves your purpose.\n",
        "\n",
        "In Python, users can define such exceptions by creating a new class. This exception class has to be derived, either directly or indirectly, from Exception class. Most of the built-in exceptions are also derived form this class.\n",
        "\n",
        "                >>> class CustomError(Exception):\n",
        "                ...     pass\n",
        "                ...\n",
        "\n",
        "                >>> raise CustomError\n",
        "                Traceback (most recent call last):\n",
        "                ...\n",
        "                __main__.CustomError\n",
        "\n",
        "                >>> raise CustomError(\"An error occurred\")\n",
        "                Traceback (most recent call last):\n",
        "                ...\n",
        "                __main__.CustomError: An error occurred\n",
        "Here, we have created a user-defined exception called CustomError which is derived from the Exception class. This new exception can be raised, like other exceptions, using the raise statement with an optional error message.\n",
        "\n",
        "When we are developing a large Python program, it is a good practice to place all the user-defined exceptions that our program raises in a separate file. Many standard modules do this. They define their exceptions separately as exceptions.py or errors.py (generally but not always).\n",
        "\n",
        "User-defined exception class can implement everything a normal class can do, but we generally make them simple and concise. Most implementations declare a custom base class and derive others exception classes from this base class. This concept is made clearer in the following example.\n",
        "\n",
        "##**Example: User-Defined Exception in Python**\n",
        "\n",
        "In this example, we will illustrate how user-defined exceptions can be used in a program to raise and catch errors.\n",
        "\n",
        "This program will ask the user to enter a number until they guess a stored number correctly. To help them figure it out, hint is provided whether their guess is greater than or less than the stored number."
      ]
    },
    {
      "cell_type": "code",
      "metadata": {
        "id": "8brOqdIt_NRm"
      },
      "source": [
        "# define Python user-defined exceptions\n",
        "class Error(Exception):\n",
        "   \"\"\"Base class for other exceptions\"\"\"\n",
        "   pass\n",
        "\n",
        "class ValueTooSmallError(Error):\n",
        "   \"\"\"Raised when the input value is too small\"\"\"\n",
        "   pass\n",
        "\n",
        "class ValueTooLargeError(Error):\n",
        "   \"\"\"Raised when the input value is too large\"\"\"\n",
        "   pass\n",
        "\n",
        "# our main program\n",
        "# user guesses a number until he/she gets it right\n",
        "\n",
        "# you need to guess this number\n",
        "number = 10\n",
        "\n",
        "while True:\n",
        "   try:\n",
        "       i_num = int(input(\"Enter a number: \"))\n",
        "       if i_num < number:\n",
        "           raise ValueTooSmallError\n",
        "       elif i_num > number:\n",
        "           raise ValueTooLargeError\n",
        "       break\n",
        "   except ValueTooSmallError:\n",
        "       print(\"This value is too small, try again!\")\n",
        "       print()\n",
        "   except ValueTooLargeError:\n",
        "       print(\"This value is too large, try again!\")\n",
        "       print()\n",
        "\n",
        "print(\"Congratulations! You guessed it correctly.\")"
      ],
      "execution_count": null,
      "outputs": []
    },
    {
      "cell_type": "markdown",
      "metadata": {
        "id": "DvAZZ2di_aC4"
      },
      "source": [
        "        Here is a sample run of this program.\n",
        "\n",
        "        Enter a number: 12\n",
        "        This value is too large, try again!\n",
        "\n",
        "        Enter a number: 0\n",
        "        This value is too small, try again!\n",
        "\n",
        "        Enter a number: 8\n",
        "        This value is too small, try again!\n",
        "\n",
        "        Enter a number: 10\n",
        "        Congratulations! You guessed it correctly.\n",
        "        \n",
        "Here, we have defined a base class called Error.\n",
        "\n",
        "The other two exceptions (ValueTooSmallError and ValueTooLargeError) that are actually raised by our program are derived from this class. This is the standard way to define user-defined exceptions in Python programming, but you are not limited to this"
      ]
    },
    {
      "cell_type": "code",
      "metadata": {
        "id": "GamRYwmSwpeY"
      },
      "source": [],
      "execution_count": null,
      "outputs": []
    }
  ]
}