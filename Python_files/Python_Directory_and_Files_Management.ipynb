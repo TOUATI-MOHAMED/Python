{
  "nbformat": 4,
  "nbformat_minor": 0,
  "metadata": {
    "colab": {
      "provenance": [],
      "authorship_tag": "ABX9TyM8iiily7CzfTY9ES59YeMx",
      "include_colab_link": true
    },
    "kernelspec": {
      "name": "python3",
      "display_name": "Python 3"
    }
  },
  "cells": [
    {
      "cell_type": "markdown",
      "metadata": {
        "id": "view-in-github",
        "colab_type": "text"
      },
      "source": [
        "<a href=\"https://colab.research.google.com/github/TOUATI-MOHAMED/Python/blob/master/Python_files/Python_Directory_and_Files_Management.ipynb\" target=\"_parent\"><img src=\"https://colab.research.google.com/assets/colab-badge.svg\" alt=\"Open In Colab\"/></a>"
      ]
    },
    {
      "cell_type": "markdown",
      "metadata": {
        "id": "yFIL16olJMbm"
      },
      "source": [
        "#**Python Directory and Files Management**\n",
        "In this article, you'll learn about file and directory management in Python, i.e. creating a directory, renaming it, listing all directories and working with them.\n",
        "\n",
        "### **What is Directory in Python?**\n",
        "\n",
        "If there are a large number of files to handle in your Python program, you can arrange your code within different directories to make things more manageable.\n",
        "\n",
        "A directory or folder is a collection of files and sub directories. Python has the os module, which provides us with many useful methods to work with directories (and files as well).\n",
        "\n",
        "Get Current Directory\n",
        "We can get the present working directory using the getcwd() method.\n",
        "\n",
        "This method returns the current working directory in the form of a string. We can also use the **getcwdb**() method to get it as bytes object."
      ]
    },
    {
      "cell_type": "markdown",
      "metadata": {
        "id": "DdB9aKBnMwvn"
      },
      "source": [
        "        >>> import os\n",
        "\n",
        "        >>> os.getcwd()\n",
        "        'C:\\\\Program Files\\\\PyScripter'\n",
        "\n",
        "        >>> os.getcwdb()\n",
        "        b'C:\\\\Program Files\\\\PyScripter'"
      ]
    },
    {
      "cell_type": "markdown",
      "metadata": {
        "id": "hu9HWZJcM0IC"
      },
      "source": [
        "The extra backslash implies escape sequence. The print() function will render this properly."
      ]
    },
    {
      "cell_type": "markdown",
      "metadata": {
        "id": "UX2sFBMwM4k4"
      },
      "source": [
        "        >>> print(os.getcwd())\n",
        "        C:\\Program Files\\PyScripter"
      ]
    },
    {
      "cell_type": "markdown",
      "metadata": {
        "id": "vhc4eUAzM9Ny"
      },
      "source": [
        "## **Changing Directory**\n",
        "We can change the current working directory using the chdir() method.\n",
        "\n",
        "The new path that we want to change to must be supplied as a string to this method. We can use both forward slash (/) or the backward slash (\\) to separate path elements.\n",
        "\n",
        "It is safer to use escape sequence when using the backward slash."
      ]
    },
    {
      "cell_type": "markdown",
      "metadata": {
        "id": "olJPVQ_KNBKK"
      },
      "source": [
        "        >>> os.chdir('C:\\\\Python33')\n",
        "\n",
        "        >>> print(os.getcwd())\n",
        "        C:\\Python33"
      ]
    },
    {
      "cell_type": "markdown",
      "metadata": {
        "id": "cuvVC3-GNGnB"
      },
      "source": [
        "## **List Directories and Files**\n",
        "All files and sub directories inside a directory can be known using the **listdir**() method.\n",
        "\n",
        "\n",
        "This method takes in a path and returns a list of sub directories and files in that path. If no path is specified, it returns from the current working directory."
      ]
    },
    {
      "cell_type": "markdown",
      "metadata": {
        "id": "zfTCo3CcNQMo"
      },
      "source": [
        "        >>> print(os.getcwd())\n",
        "        C:\\Python33\n",
        "\n",
        "        >>> os.listdir()\n",
        "        ['DLLs',\n",
        "        'Doc',\n",
        "        'include',\n",
        "        'Lib',\n",
        "        'libs',\n",
        "        'LICENSE.txt',\n",
        "        'NEWS.txt',\n",
        "        'python.exe',\n",
        "        'pythonw.exe',\n",
        "        'README.txt',\n",
        "        'Scripts',\n",
        "        'tcl',\n",
        "        'Tools']\n",
        "\n",
        "        >>> os.listdir('G:\\\\')\n",
        "        ['$RECYCLE.BIN',\n",
        "        'Movies',\n",
        "        'Music',\n",
        "        'Photos',\n",
        "        'Series',\n",
        "        'System Volume Information']"
      ]
    },
    {
      "cell_type": "markdown",
      "metadata": {
        "id": "jxDiwjUeNUeu"
      },
      "source": [
        "Making a New Directory\n",
        "We can make a new directory using the mkdir() method.\n",
        "\n",
        "This method takes in the path of the new directory. If the full path is not specified, the new directory is created in the current working directory.\n",
        "\n",
        "        >>> os.mkdir('test')\n",
        "\n",
        "        >>> os.listdir()\n",
        "        ['test']"
      ]
    },
    {
      "cell_type": "markdown",
      "metadata": {
        "id": "KVIlSufONaQC"
      },
      "source": [
        "## **Renaming a Directory or a File**\n",
        "The rename() method can rename a directory or a file.\n",
        "\n",
        "The first argument is the old name and the new name must be supplies as the second argument.\n",
        "\n",
        "        >>> os.listdir()\n",
        "        ['test']\n",
        "\n",
        "        >>> os.rename('test','new_one')\n",
        "\n",
        "        >>> os.listdir()\n",
        "        ['new_one']"
      ]
    },
    {
      "cell_type": "markdown",
      "metadata": {
        "id": "BYEGKhQeNglz"
      },
      "source": [
        "## **Removing Directory or File**\n",
        "A file can be removed (deleted) using the remove() method.\n",
        "\n",
        "Similarly, the rmdir() method removes an empty directory.\n",
        "\n",
        "        >>> os.listdir()\n",
        "        ['new_one', 'old.txt']\n",
        "\n",
        "        >>> os.remove('old.txt')\n",
        "        >>> os.listdir()\n",
        "        ['new_one']\n",
        "\n",
        "        >>> os.rmdir('new_one')\n",
        "        >>> os.listdir()\n",
        "        []\n",
        "However, note that rmdir() method can only remove empty directories.\n",
        "\n",
        "In order to remove a non-empty directory we can use the rmtree() method inside the shutil module.\n",
        "\n",
        "        >>> os.listdir()\n",
        "        ['test']\n",
        "\n",
        "        >>> os.rmdir('test')\n",
        "        Traceback (most recent call last):\n",
        "        ...\n",
        "        OSError: [WinError 145] The directory is not empty: 'test'\n",
        "\n",
        "        >>> import shutil\n",
        "\n",
        "        >>> shutil.rmtree('test')\n",
        "        >>> os.listdir()\n",
        "[]"
      ]
    },
    {
      "cell_type": "code",
      "metadata": {
        "id": "jhAef-XaM0sR"
      },
      "source": [],
      "execution_count": null,
      "outputs": []
    },
    {
      "cell_type": "code",
      "metadata": {
        "id": "fB7y08A7I4Wy"
      },
      "source": [],
      "execution_count": null,
      "outputs": []
    }
  ]
}