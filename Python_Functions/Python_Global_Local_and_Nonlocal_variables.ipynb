{
  "nbformat": 4,
  "nbformat_minor": 0,
  "metadata": {
    "colab": {
      "provenance": [],
      "authorship_tag": "ABX9TyNbjkqsgy7IUJ3//52P6E1t",
      "include_colab_link": true
    },
    "kernelspec": {
      "name": "python3",
      "display_name": "Python 3"
    },
    "accelerator": "GPU"
  },
  "cells": [
    {
      "cell_type": "markdown",
      "metadata": {
        "id": "view-in-github",
        "colab_type": "text"
      },
      "source": [
        "<a href=\"https://colab.research.google.com/github/TOUATI-MOHAMED/Python/blob/master/Python_Functions/Python_Global_Local_and_Nonlocal_variables.ipynb\" target=\"_parent\"><img src=\"https://colab.research.google.com/assets/colab-badge.svg\" alt=\"Open In Colab\"/></a>"
      ]
    },
    {
      "cell_type": "markdown",
      "metadata": {
        "id": "ieapTl9m0K7K"
      },
      "source": [
        "# **Python Global, Local and Nonlocal variables**\n",
        "Here!, you’ll learn about Python Global Variable, Local Variable, Nonlocal Variable and where to use them.\n",
        "\n",
        "# **Global Variables**\n",
        "In Python, a variable declared outside of the function or in global scope is known as global variable. This means, global variable can be accessed inside or outside of the function.\n",
        "\n",
        "Let's see an example on how a global variable is created in Python.\n",
        "\n",
        "**Example 1: Create a Global Variable**"
      ]
    },
    {
      "cell_type": "code",
      "metadata": {
        "id": "Wgy1mN1w0X96",
        "colab": {
          "base_uri": "https://localhost:8080/",
          "height": 51
        },
        "outputId": "afc1cac2-9e0a-4fac-e8d0-b6d5bbfe353d"
      },
      "source": [
        "x = \"global\"\n",
        "\n",
        "def foo():\n",
        "    print(\"x inside :\", x)\n",
        "\n",
        "foo()\n",
        "print(\"x outside:\", x)"
      ],
      "execution_count": null,
      "outputs": [
        {
          "output_type": "stream",
          "text": [
            "x inside : global\n",
            "x outside: global\n"
          ],
          "name": "stdout"
        }
      ]
    },
    {
      "cell_type": "markdown",
      "metadata": {
        "id": "PY5FLzFY0klj"
      },
      "source": [
        "In above code, we created x as a global variable and defined a **foo**() to print the global variable x. Finally, we call the foo() which will print the value of x.\n",
        "\n",
        "What if you want to change value of x inside a function?"
      ]
    },
    {
      "cell_type": "code",
      "metadata": {
        "id": "mfq3KifK0yWb",
        "colab": {
          "base_uri": "https://localhost:8080/",
          "height": 316
        },
        "outputId": "d929db1f-f64e-4e4b-de85-789f5a8dd512"
      },
      "source": [
        "x = \"global\"\n",
        "\n",
        "def foo():\n",
        "    x = x * 2\n",
        "    print(x)\n",
        "foo()"
      ],
      "execution_count": null,
      "outputs": [
        {
          "output_type": "error",
          "ename": "UnboundLocalError",
          "evalue": "ignored",
          "traceback": [
            "\u001b[0;31m---------------------------------------------------------------------------\u001b[0m",
            "\u001b[0;31mUnboundLocalError\u001b[0m                         Traceback (most recent call last)",
            "\u001b[0;32m<ipython-input-2-c2736b3017fc>\u001b[0m in \u001b[0;36m<module>\u001b[0;34m()\u001b[0m\n\u001b[1;32m      4\u001b[0m     \u001b[0mx\u001b[0m \u001b[0;34m=\u001b[0m \u001b[0mx\u001b[0m \u001b[0;34m*\u001b[0m \u001b[0;36m2\u001b[0m\u001b[0;34m\u001b[0m\u001b[0;34m\u001b[0m\u001b[0m\n\u001b[1;32m      5\u001b[0m     \u001b[0mprint\u001b[0m\u001b[0;34m(\u001b[0m\u001b[0mx\u001b[0m\u001b[0;34m)\u001b[0m\u001b[0;34m\u001b[0m\u001b[0;34m\u001b[0m\u001b[0m\n\u001b[0;32m----> 6\u001b[0;31m \u001b[0mfoo\u001b[0m\u001b[0;34m(\u001b[0m\u001b[0;34m)\u001b[0m\u001b[0;34m\u001b[0m\u001b[0;34m\u001b[0m\u001b[0m\n\u001b[0m",
            "\u001b[0;32m<ipython-input-2-c2736b3017fc>\u001b[0m in \u001b[0;36mfoo\u001b[0;34m()\u001b[0m\n\u001b[1;32m      2\u001b[0m \u001b[0;34m\u001b[0m\u001b[0m\n\u001b[1;32m      3\u001b[0m \u001b[0;32mdef\u001b[0m \u001b[0mfoo\u001b[0m\u001b[0;34m(\u001b[0m\u001b[0;34m)\u001b[0m\u001b[0;34m:\u001b[0m\u001b[0;34m\u001b[0m\u001b[0;34m\u001b[0m\u001b[0m\n\u001b[0;32m----> 4\u001b[0;31m     \u001b[0mx\u001b[0m \u001b[0;34m=\u001b[0m \u001b[0mx\u001b[0m \u001b[0;34m*\u001b[0m \u001b[0;36m2\u001b[0m\u001b[0;34m\u001b[0m\u001b[0;34m\u001b[0m\u001b[0m\n\u001b[0m\u001b[1;32m      5\u001b[0m     \u001b[0mprint\u001b[0m\u001b[0;34m(\u001b[0m\u001b[0mx\u001b[0m\u001b[0;34m)\u001b[0m\u001b[0;34m\u001b[0m\u001b[0;34m\u001b[0m\u001b[0m\n\u001b[1;32m      6\u001b[0m \u001b[0mfoo\u001b[0m\u001b[0;34m(\u001b[0m\u001b[0;34m)\u001b[0m\u001b[0;34m\u001b[0m\u001b[0;34m\u001b[0m\u001b[0m\n",
            "\u001b[0;31mUnboundLocalError\u001b[0m: local variable 'x' referenced before assignment"
          ]
        }
      ]
    },
    {
      "cell_type": "code",
      "metadata": {
        "id": "qfTkkyND0Yjy"
      },
      "source": [],
      "execution_count": null,
      "outputs": []
    },
    {
      "cell_type": "markdown",
      "metadata": {
        "id": "B0_u5chi08zm"
      },
      "source": [
        "#**Local Variables**\n",
        "A variable declared inside the function's body or in the local scope is known as local variable.\n",
        "\n",
        "**Example 2: Accessing local variable outside the scope**"
      ]
    },
    {
      "cell_type": "code",
      "metadata": {
        "id": "u-D8Z-2s1E1N",
        "colab": {
          "base_uri": "https://localhost:8080/",
          "height": 197
        },
        "outputId": "5d66c9a7-e8a5-476e-c611-561b6bf2a40c"
      },
      "source": [
        "def foo():\n",
        "    y = \"local\"\n",
        "\n",
        "foo()\n",
        "print(y)"
      ],
      "execution_count": null,
      "outputs": [
        {
          "output_type": "error",
          "ename": "NameError",
          "evalue": "ignored",
          "traceback": [
            "\u001b[0;31m---------------------------------------------------------------------------\u001b[0m",
            "\u001b[0;31mNameError\u001b[0m                                 Traceback (most recent call last)",
            "\u001b[0;32m<ipython-input-3-92f817b0ade3>\u001b[0m in \u001b[0;36m<module>\u001b[0;34m()\u001b[0m\n\u001b[1;32m      3\u001b[0m \u001b[0;34m\u001b[0m\u001b[0m\n\u001b[1;32m      4\u001b[0m \u001b[0mfoo\u001b[0m\u001b[0;34m(\u001b[0m\u001b[0;34m)\u001b[0m\u001b[0;34m\u001b[0m\u001b[0;34m\u001b[0m\u001b[0m\n\u001b[0;32m----> 5\u001b[0;31m \u001b[0mprint\u001b[0m\u001b[0;34m(\u001b[0m\u001b[0my\u001b[0m\u001b[0;34m)\u001b[0m\u001b[0;34m\u001b[0m\u001b[0;34m\u001b[0m\u001b[0m\n\u001b[0m",
            "\u001b[0;31mNameError\u001b[0m: name 'y' is not defined"
          ]
        }
      ]
    },
    {
      "cell_type": "code",
      "metadata": {
        "id": "UvaCALl41GQk"
      },
      "source": [],
      "execution_count": null,
      "outputs": []
    },
    {
      "cell_type": "markdown",
      "metadata": {
        "id": "FuLj3x4_1Pk2"
      },
      "source": [
        "The output shows an error, because we are trying to access a local variable y in a global scope whereas the local variable only works inside foo() or local scope.\n",
        "\n",
        "Let's see an example on how a local variable is created in Python.\n",
        "\n",
        "**Example 3: Create a Local Variable**\n",
        "\n",
        "Normally, we declare a variable inside the function to create a local variable."
      ]
    },
    {
      "cell_type": "code",
      "metadata": {
        "id": "BchQMPxp1TJQ",
        "colab": {
          "base_uri": "https://localhost:8080/",
          "height": 34
        },
        "outputId": "3ff71439-ec29-465c-d273-22d935a88bfe"
      },
      "source": [
        "def foo():\n",
        "    y = \"local\"\n",
        "    print(y)\n",
        "\n",
        "foo()"
      ],
      "execution_count": null,
      "outputs": [
        {
          "output_type": "stream",
          "text": [
            "local\n"
          ],
          "name": "stdout"
        }
      ]
    },
    {
      "cell_type": "markdown",
      "metadata": {
        "id": "whSg20u81ZHo"
      },
      "source": [
        "When we run the code, it will output:\n",
        "\n",
        "local\n",
        "\n",
        "Let's take a look to the earlier problem where x was a global variable and we wanted to modify x inside foo().\n",
        "\n"
      ]
    },
    {
      "cell_type": "markdown",
      "metadata": {
        "id": "MopXLkx71chq"
      },
      "source": [
        "Global and local variables\n",
        "\n",
        "Here, we will show how to use global variables and local variables in the same code.\n",
        "\n",
        "**Example 4: Using Global and Local variables in same code**"
      ]
    },
    {
      "cell_type": "code",
      "metadata": {
        "id": "PzvY2Gos1g1w",
        "colab": {
          "base_uri": "https://localhost:8080/",
          "height": 51
        },
        "outputId": "ed4cc4f8-7a45-47d2-93cc-0c1b3c52ac4e"
      },
      "source": [
        "x = \"global\"\n",
        "\n",
        "def foo():\n",
        "    global x\n",
        "    y = \"local\"\n",
        "    x = x * 2\n",
        "    print(x)\n",
        "    print(y)\n",
        "    \n",
        "foo()"
      ],
      "execution_count": null,
      "outputs": [
        {
          "output_type": "stream",
          "text": [
            "globalglobal\n",
            "local\n"
          ],
          "name": "stdout"
        }
      ]
    },
    {
      "cell_type": "markdown",
      "metadata": {
        "id": "tQAyzxeU1lUC"
      },
      "source": [
        "In the above code, we declare x as a global and y as a local variable in the foo(). Then, we use multiplication operator * to modify the global variable x and we print both x and y.\n",
        "\n",
        "After calling the foo(), the value of x becomes global global because we used the x * 2 to print two times global. After that, we print the value of local variable y i.e local.\n",
        "\n",
        "**Example 5: Global variable and Local variable with same name**"
      ]
    },
    {
      "cell_type": "code",
      "metadata": {
        "id": "LeHY91M-1Ujw"
      },
      "source": [
        "x = 5\n",
        "\n",
        "def foo():\n",
        "    x = 10\n",
        "    print(\"local x:\", x)\n",
        "\n",
        "foo()\n",
        "print(\"global x:\", x)"
      ],
      "execution_count": null,
      "outputs": []
    },
    {
      "cell_type": "markdown",
      "metadata": {
        "id": "nz-v9-YK1uqP"
      },
      "source": [
        "In above code, we used same name x for both global variable and local variable. We get different result when we print same variable because the variable is declared in both scopes, i.e. the local scope inside foo() and global scope outside foo().\n",
        "\n",
        "When we print the variable inside the foo() it outputs local x: 10, this is called local scope of variable.\n",
        "\n",
        "Similarly, when we print the variable outside the foo(), it outputs global x: 5, this is called global scope of variable.\n",
        "\n",
        "#**Nonlocal Variables**\n",
        "Nonlocal variable are used in nested function whose local scope is not defined. This means, the variable can be neither in the local nor the global scope.\n",
        "\n",
        "Let's see an example on how a global variable is created in Python.\n",
        "\n",
        "We use nonlocal keyword to create nonlocal variable.\n",
        "\n",
        "**Example 6: Create a nonlocal variable**"
      ]
    },
    {
      "cell_type": "code",
      "metadata": {
        "id": "Ta5aqNRn13I-",
        "colab": {
          "base_uri": "https://localhost:8080/",
          "height": 51
        },
        "outputId": "477a1346-7daf-4f24-b58e-c4a17cd10aaf"
      },
      "source": [
        "def outer():\n",
        "    x = \"local\"\n",
        "    \n",
        "    def inner():\n",
        "        nonlocal x\n",
        "        x = \"nonlocal\"\n",
        "        print(\"inner:\", x)\n",
        "    \n",
        "    inner()\n",
        "    print(\"outer:\", x)\n",
        "\n",
        "outer()"
      ],
      "execution_count": null,
      "outputs": [
        {
          "output_type": "stream",
          "text": [
            "inner: nonlocal\n",
            "outer: nonlocal\n"
          ],
          "name": "stdout"
        }
      ]
    },
    {
      "cell_type": "markdown",
      "metadata": {
        "id": "JB6k-aC918WX"
      },
      "source": [
        "In the above code there is a nested function inner(). We use nonlocal keyword to create nonlocal variable. The inner() function is defined in the scope of another function outer().\n",
        "\n",
        "Note : If we change value of nonlocal variable, the changes appears in the local variable."
      ]
    },
    {
      "cell_type": "code",
      "metadata": {
        "id": "HR5UsPO813zg"
      },
      "source": [],
      "execution_count": null,
      "outputs": []
    }
  ]
}