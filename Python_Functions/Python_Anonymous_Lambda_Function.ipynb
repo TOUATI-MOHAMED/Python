{
  "nbformat": 4,
  "nbformat_minor": 0,
  "metadata": {
    "colab": {
      "provenance": [],
      "authorship_tag": "ABX9TyPC48+8gZUdhP5sVDMVN0eY",
      "include_colab_link": true
    },
    "kernelspec": {
      "name": "python3",
      "display_name": "Python 3"
    },
    "accelerator": "GPU"
  },
  "cells": [
    {
      "cell_type": "markdown",
      "metadata": {
        "id": "view-in-github",
        "colab_type": "text"
      },
      "source": [
        "<a href=\"https://colab.research.google.com/github/TOUATI-MOHAMED/Python/blob/master/Python_Functions/Python_Anonymous_Lambda_Function.ipynb\" target=\"_parent\"><img src=\"https://colab.research.google.com/assets/colab-badge.svg\" alt=\"Open In Colab\"/></a>"
      ]
    },
    {
      "cell_type": "markdown",
      "metadata": {
        "id": "CY8_I5zxybRa"
      },
      "source": [
        "# **Python Anonymous/Lambda Function**\n",
        "In this article, you'll learn about the anonymous function, also known as lambda functions. You'll learn what is it, its syntax and how to use it (with examples).\n",
        "\n",
        "# **What are lambda functions in Python?**\n",
        "In Python, anonymous function is a function that is defined without a name.\n",
        "\n",
        "While normal functions are defined using the def keyword, in Python anonymous functions are defined using the lambda keyword.\n",
        "\n",
        "Hence, anonymous functions are also called lambda functions.\n",
        "\n",
        "# **How to use lambda Functions in Python?**\n",
        "A lambda function in python has the following syntax.\n",
        "\n",
        "**Syntax of Lambda Function in python**\n",
        "\n",
        "        lambda arguments: expression\n",
        "\n",
        "\n",
        "Lambda functions can have any number of arguments but only one expression. The expression is evaluated and returned. Lambda functions can be used wherever function objects are required.\n",
        "\n",
        "**Example of Lambda Function in python**\n",
        "\n",
        "Here is an example of lambda function that doubles the input value."
      ]
    },
    {
      "cell_type": "code",
      "metadata": {
        "id": "Ye2XChLJy9Qo"
      },
      "source": [
        "# Program to show the use of lambda functions\n",
        "\n",
        "double = lambda x: x * 2\n",
        "\n",
        "# Output: 10\n",
        "print(double(5))"
      ],
      "execution_count": null,
      "outputs": []
    },
    {
      "cell_type": "markdown",
      "metadata": {
        "id": "1O6u4pzLzBVL"
      },
      "source": [
        "In the above program, lambda x: x * 2 is the lambda function. Here x is the argument and x * 2 is the expression that gets evaluated and returned.\n",
        "\n",
        "This function has no name. It returns a function object which is assigned to the identifier double. We can now call it as a normal function. The statement"
      ]
    },
    {
      "cell_type": "code",
      "metadata": {
        "id": "pAuIl2fozCAU"
      },
      "source": [
        "double = lambda x: x * 2\n"
      ],
      "execution_count": null,
      "outputs": []
    },
    {
      "cell_type": "markdown",
      "metadata": {
        "id": "dac8xS_tzMuL"
      },
      "source": [
        "is nearly the same as\n",
        "\n"
      ]
    },
    {
      "cell_type": "code",
      "metadata": {
        "id": "AT1FdFV5zNae"
      },
      "source": [
        "def double(x):\n",
        "   return x * 2"
      ],
      "execution_count": null,
      "outputs": []
    },
    {
      "cell_type": "markdown",
      "metadata": {
        "id": "Gri0N2duzTQJ"
      },
      "source": [
        "# **Use of Lambda Function in python**\n",
        "We use lambda functions when we require a nameless function for a short period of time.\n",
        "\n",
        "In Python, we generally use it as an argument to a higher-order function (a function that takes in other functions as arguments). Lambda functions are used along with built-in functions like **filter**(), **map**() etc.\n",
        "\n",
        "Example use with **filter**()\n",
        "\n",
        "The **filter**() function in Python takes in a function and a list as arguments.\n",
        "\n",
        "The function is called with all the items in the list and a new list is returned which contains items for which the function evaluats to True.\n",
        "\n",
        "Here is an example use of **filter**() function to filter out only even numbers from a list."
      ]
    },
    {
      "cell_type": "code",
      "metadata": {
        "id": "hpUs5iFLziNj",
        "colab": {
          "base_uri": "https://localhost:8080/",
          "height": 34
        },
        "outputId": "84ca4857-1f40-4159-f4bf-2dacc00e332a"
      },
      "source": [
        "# Program to filter out only the even items from a list\n",
        "\n",
        "my_list = [1, 5, 4, 6, 8, 11, 3, 12]\n",
        "\n",
        "new_list = list(filter(lambda x: (x%2 == 0) , my_list))\n",
        "\n",
        "# Output: [4, 6, 8, 12]\n",
        "print(new_list)"
      ],
      "execution_count": null,
      "outputs": [
        {
          "output_type": "stream",
          "text": [
            "[4, 6, 8, 12]\n"
          ],
          "name": "stdout"
        }
      ]
    },
    {
      "cell_type": "markdown",
      "metadata": {
        "id": "TP6Cyjjzzrcl"
      },
      "source": [
        "# **Example use with map()**\n",
        "The **map**() function in Python takes in a function and a list.\n",
        "\n",
        "The function is called with all the items in the list and a new list is returned which contains items returned by that function for each item.\n",
        "\n",
        "Here is an example use of map() function to double all the items in a list."
      ]
    },
    {
      "cell_type": "code",
      "metadata": {
        "id": "4m84W3WDz2BT",
        "colab": {
          "base_uri": "https://localhost:8080/",
          "height": 34
        },
        "outputId": "fc04a843-0787-4ab4-8774-36dbba60da38"
      },
      "source": [
        "# Program to double each item in a list using map()\n",
        "\n",
        "my_list = [1, 5, 4, 6, 8, 11, 3, 12]\n",
        "\n",
        "new_list = list(map(lambda x: x * 2 , my_list))\n",
        "\n",
        "# Output: [2, 10, 8, 12, 16, 22, 6, 24]\n",
        "print(new_list)"
      ],
      "execution_count": null,
      "outputs": [
        {
          "output_type": "stream",
          "text": [
            "[2, 10, 8, 12, 16, 22, 6, 24]\n"
          ],
          "name": "stdout"
        }
      ]
    },
    {
      "cell_type": "code",
      "metadata": {
        "id": "ONYjVVHHyWja"
      },
      "source": [],
      "execution_count": null,
      "outputs": []
    }
  ]
}