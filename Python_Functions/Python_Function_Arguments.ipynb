{
  "nbformat": 4,
  "nbformat_minor": 0,
  "metadata": {
    "colab": {
      "provenance": [],
      "authorship_tag": "ABX9TyMlkofgDdTiZIiG9k9VPb2Q",
      "include_colab_link": true
    },
    "kernelspec": {
      "name": "python3",
      "display_name": "Python 3"
    },
    "accelerator": "GPU"
  },
  "cells": [
    {
      "cell_type": "markdown",
      "metadata": {
        "id": "view-in-github",
        "colab_type": "text"
      },
      "source": [
        "<a href=\"https://colab.research.google.com/github/TOUATI-MOHAMED/Python/blob/master/Python_Functions/Python_Function_Arguments.ipynb\" target=\"_parent\"><img src=\"https://colab.research.google.com/assets/colab-badge.svg\" alt=\"Open In Colab\"/></a>"
      ]
    },
    {
      "cell_type": "markdown",
      "metadata": {
        "id": "_fdSgRAVt3tM"
      },
      "source": [
        "# **Python Function Arguments**\n",
        "\n",
        "In Python, you can define a function that takes variable number of arguments. You will learn to define such functions using default, keyword and arbitrary arguments in this article.\n",
        "\n",
        "# **Arguments**\n",
        "In user-defined function topic, we learned about defining a function and calling it. Otherwise, the function call will result into an error. Here is an example."
      ]
    },
    {
      "cell_type": "code",
      "metadata": {
        "id": "V9scWycSuCMJ",
        "colab": {
          "base_uri": "https://localhost:8080/",
          "height": 34
        },
        "outputId": "c7bad3aa-6ed2-4152-ae0c-cd0b5b46ae33"
      },
      "source": [
        "def greet(name,msg):\n",
        "   \"\"\"This function greets to\n",
        "   the person with the provided message\"\"\"\n",
        "   print(\"Hello\",name + ', ' + msg)\n",
        "\n",
        "greet(\"Monica\",\"Good morning!\")\n"
      ],
      "execution_count": null,
      "outputs": [
        {
          "output_type": "stream",
          "text": [
            "Hello Monica, Good morning!\n"
          ],
          "name": "stdout"
        }
      ]
    },
    {
      "cell_type": "markdown",
      "metadata": {
        "id": "r-c000kouUh4"
      },
      "source": [
        "Here, the function greet() has two parameters.\n",
        "\n",
        "Since, we have called this function with two arguments, it runs smoothly and we do not get any error.\n",
        "\n",
        "If we call it with different number of arguments, the interpreter will complain. Below is a call to this function with one and no arguments along with their respective error messages.\n"
      ]
    },
    {
      "cell_type": "code",
      "metadata": {
        "id": "_f2iJAuJuZhJ",
        "colab": {
          "base_uri": "https://localhost:8080/",
          "height": 163
        },
        "outputId": "91b4287a-c09f-4877-ad17-d9bee40ffed4"
      },
      "source": [
        "greet(\"Monica\")    # only one argument\n"
      ],
      "execution_count": null,
      "outputs": [
        {
          "output_type": "error",
          "ename": "TypeError",
          "evalue": "ignored",
          "traceback": [
            "\u001b[0;31m---------------------------------------------------------------------------\u001b[0m",
            "\u001b[0;31mTypeError\u001b[0m                                 Traceback (most recent call last)",
            "\u001b[0;32m<ipython-input-3-c4428734d52c>\u001b[0m in \u001b[0;36m<module>\u001b[0;34m()\u001b[0m\n\u001b[0;32m----> 1\u001b[0;31m \u001b[0mgreet\u001b[0m\u001b[0;34m(\u001b[0m\u001b[0;34m\"Monica\"\u001b[0m\u001b[0;34m)\u001b[0m    \u001b[0;31m# only one argument\u001b[0m\u001b[0;34m\u001b[0m\u001b[0;34m\u001b[0m\u001b[0m\n\u001b[0m",
            "\u001b[0;31mTypeError\u001b[0m: greet() missing 1 required positional argument: 'msg'"
          ]
        }
      ]
    },
    {
      "cell_type": "code",
      "metadata": {
        "id": "MevpHf2Puj5j",
        "colab": {
          "base_uri": "https://localhost:8080/",
          "height": 163
        },
        "outputId": "d55a0f77-c022-42d9-891e-862f3d183c6d"
      },
      "source": [
        "greet()    # no arguments\n"
      ],
      "execution_count": null,
      "outputs": [
        {
          "output_type": "error",
          "ename": "TypeError",
          "evalue": "ignored",
          "traceback": [
            "\u001b[0;31m---------------------------------------------------------------------------\u001b[0m",
            "\u001b[0;31mTypeError\u001b[0m                                 Traceback (most recent call last)",
            "\u001b[0;32m<ipython-input-7-76bf7a927991>\u001b[0m in \u001b[0;36m<module>\u001b[0;34m()\u001b[0m\n\u001b[0;32m----> 1\u001b[0;31m \u001b[0mgreet\u001b[0m\u001b[0;34m(\u001b[0m\u001b[0;34m)\u001b[0m    \u001b[0;31m# no arguments\u001b[0m\u001b[0;34m\u001b[0m\u001b[0;34m\u001b[0m\u001b[0m\n\u001b[0m",
            "\u001b[0;31mTypeError\u001b[0m: greet() missing 2 required positional arguments: 'name' and 'msg'"
          ]
        }
      ]
    },
    {
      "cell_type": "markdown",
      "metadata": {
        "id": "loPPvwM9uu7m"
      },
      "source": [
        "# **Variable Function Arguments**\n",
        "Up until now functions had fixed number of arguments. In Python there are other ways to define a function which can take variable number of arguments.\n",
        "\n",
        "Three different forms of this type are described below.\n",
        "\n",
        "Python Default Arguments\n",
        "Function arguments can have default values in Python.\n",
        "\n",
        "We can provide a default value to an argument by using the assignment operator (=). \n",
        "**Here is an example** "
      ]
    },
    {
      "cell_type": "code",
      "metadata": {
        "id": "N0ThuySTu3Sh",
        "colab": {
          "base_uri": "https://localhost:8080/",
          "height": 51
        },
        "outputId": "d57bb46f-5631-4123-9928-e87a33f5bc3b"
      },
      "source": [
        "def greet(name, msg = \"Good morning!\"):\n",
        "   \"\"\"\n",
        "   This function greets to\n",
        "   the person with the\n",
        "   provided message.\n",
        "\n",
        "   If message is not provided,\n",
        "   it defaults to \"Good\n",
        "   morning!\"\n",
        "   \"\"\"\n",
        "\n",
        "   print(\"Hello\",name + ', ' + msg)\n",
        "\n",
        "greet(\"Kate\")\n",
        "greet(\"Bruce\",\"How do you do?\")"
      ],
      "execution_count": null,
      "outputs": [
        {
          "output_type": "stream",
          "text": [
            "Hello Kate, Good morning!\n",
            "Hello Bruce, How do you do?\n"
          ],
          "name": "stdout"
        }
      ]
    },
    {
      "cell_type": "markdown",
      "metadata": {
        "id": "V47pL928vA13"
      },
      "source": [
        "In this function, the parameter name does not have a default value and is required (mandatory) during a call.\n",
        "\n",
        "On the other hand, the parameter msg has a default value of \"Good morning!\". So, it is optional during a call. If a value is provided, it will overwrite the default value.\n",
        "\n",
        "Any number of arguments in a function can have a default value. But once we have a default argument, all the arguments to its right must also have default values.\n",
        "\n",
        "This means to say, non-default arguments cannot follow default arguments. For example, if we had defined the function header above as:\n",
        "\n",
        "\n",
        "def greet(msg = \"Good morning!\", name):\n",
        "\n",
        "We would get an error as:\n",
        "\n",
        "SyntaxError: non-default argument follows default argument"
      ]
    },
    {
      "cell_type": "markdown",
      "metadata": {
        "id": "HPvlRoBavYu2"
      },
      "source": [
        "# **Python Keyword Arguments**\n",
        "\n",
        "When we call a function with some values, these values get assigned to the arguments according to their position.\n",
        "\n",
        "For example, in the above function greet(), when we called it as greet(\"Bruce\",\"How do you do?\"), the value \"Bruce\" gets assigned to the argument name and similarly \"How do you do?\" to msg.\n",
        "\n",
        "Python allows functions to be called using keyword arguments. When we call functions in this way, the order (position) of the arguments can be changed. Following calls to the above function are all valid and produce the same result."
      ]
    },
    {
      "cell_type": "code",
      "metadata": {
        "id": "KaJFKV1vvfLn",
        "colab": {
          "base_uri": "https://localhost:8080/",
          "height": 34
        },
        "outputId": "bfdcd302-d006-4287-dc0e-eedd57f4ac42"
      },
      "source": [
        "# 2 keyword arguments\n",
        "greet(name = \"Bruce\",msg = \"How do you do?\")"
      ],
      "execution_count": null,
      "outputs": [
        {
          "output_type": "stream",
          "text": [
            "Hello Bruce, How do you do?\n"
          ],
          "name": "stdout"
        }
      ]
    },
    {
      "cell_type": "code",
      "metadata": {
        "id": "ucNVvk0WvoCI",
        "colab": {
          "base_uri": "https://localhost:8080/",
          "height": 34
        },
        "outputId": "78dec7dc-85cd-481f-c5ab-6e83b98001df"
      },
      "source": [
        "# 2 keyword arguments (out of order)\n",
        "greet(msg = \"How do you do?\",name = \"Bruce\") "
      ],
      "execution_count": null,
      "outputs": [
        {
          "output_type": "stream",
          "text": [
            "Hello Bruce, How do you do?\n"
          ],
          "name": "stdout"
        }
      ]
    },
    {
      "cell_type": "code",
      "metadata": {
        "id": "rlhLCD26vqDv",
        "colab": {
          "base_uri": "https://localhost:8080/",
          "height": 34
        },
        "outputId": "d7f366c2-36f3-4efe-a732-90d6c1f62501"
      },
      "source": [
        "# 1 positional, 1 keyword argument\n",
        "greet(\"Bruce\",msg = \"How do you do?\") "
      ],
      "execution_count": null,
      "outputs": [
        {
          "output_type": "stream",
          "text": [
            "Hello Bruce, How do you do?\n"
          ],
          "name": "stdout"
        }
      ]
    },
    {
      "cell_type": "code",
      "metadata": {
        "id": "gV7j3g5UuDLh"
      },
      "source": [],
      "execution_count": null,
      "outputs": []
    },
    {
      "cell_type": "markdown",
      "metadata": {
        "id": "hIJid13IvxEH"
      },
      "source": [
        "As we can see, we can mix positional arguments with keyword arguments during a function call. But we must keep in mind that keyword arguments must follow positional arguments.\n",
        "\n",
        "Having a positional argument after keyword arguments will result into errors. For example the function call as follows:"
      ]
    },
    {
      "cell_type": "code",
      "metadata": {
        "id": "6Kv78qgWvzSO",
        "colab": {
          "base_uri": "https://localhost:8080/",
          "height": 129
        },
        "outputId": "a25a7b36-9189-454c-b2db-c22eef3d9e87"
      },
      "source": [
        "greet(name=\"Bruce\",\"How do you do?\")\n"
      ],
      "execution_count": null,
      "outputs": [
        {
          "output_type": "error",
          "ename": "SyntaxError",
          "evalue": "ignored",
          "traceback": [
            "\u001b[0;36m  File \u001b[0;32m\"<ipython-input-12-088a7395114b>\"\u001b[0;36m, line \u001b[0;32m1\u001b[0m\n\u001b[0;31m    greet(name=\"Bruce\",\"How do you do?\")\u001b[0m\n\u001b[0m                      ^\u001b[0m\n\u001b[0;31mSyntaxError\u001b[0m\u001b[0;31m:\u001b[0m positional argument follows keyword argument\n"
          ]
        }
      ]
    },
    {
      "cell_type": "markdown",
      "metadata": {
        "id": "Ngqm89rYwCl9"
      },
      "source": [
        "# **Python Arbitrary Arguments**\n",
        "Sometimes, we do not know in advance the number of arguments that will be passed into a function.Python allows us to handle this kind of situation through function calls with arbitrary number of arguments.\n",
        "\n",
        "In the function definition we use an asterisk (*) before the parameter name to denote this kind of argument. Here is an example.\n",
        "\n"
      ]
    },
    {
      "cell_type": "code",
      "metadata": {
        "id": "CI6XJdwuwIaP",
        "colab": {
          "base_uri": "https://localhost:8080/",
          "height": 85
        },
        "outputId": "e8b7a641-6050-4e01-9163-2cfb802a7297"
      },
      "source": [
        "def greet(*names):\n",
        "   \"\"\"This function greets all\n",
        "   the person in the names tuple.\"\"\"\n",
        "\n",
        "   # names is a tuple with arguments\n",
        "   for name in names:\n",
        "       print(\"Hello\",name)\n",
        "\n",
        "greet(\"Monica\",\"Luke\",\"Steve\",\"John\")"
      ],
      "execution_count": null,
      "outputs": [
        {
          "output_type": "stream",
          "text": [
            "Hello Monica\n",
            "Hello Luke\n",
            "Hello Steve\n",
            "Hello John\n"
          ],
          "name": "stdout"
        }
      ]
    },
    {
      "cell_type": "markdown",
      "metadata": {
        "id": "JLF8lhgewQv4"
      },
      "source": [
        "Here, we have called the function with multiple arguments. These arguments get wrapped up into a tuple before being passed into the function. Inside the function, we use a for loop to retrieve all the arguments back."
      ]
    }
  ]
}