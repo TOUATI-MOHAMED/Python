{
  "nbformat": 4,
  "nbformat_minor": 0,
  "metadata": {
    "colab": {
      "provenance": [],
      "authorship_tag": "ABX9TyNR1PI5WVxpv9X10hLERWXN",
      "include_colab_link": true
    },
    "kernelspec": {
      "name": "python3",
      "display_name": "Python 3"
    },
    "accelerator": "GPU"
  },
  "cells": [
    {
      "cell_type": "markdown",
      "metadata": {
        "id": "view-in-github",
        "colab_type": "text"
      },
      "source": [
        "<a href=\"https://colab.research.google.com/github/TOUATI-MOHAMED/Python/blob/master/Python_Functions/Python_Function.ipynb\" target=\"_parent\"><img src=\"https://colab.research.google.com/assets/colab-badge.svg\" alt=\"Open In Colab\"/></a>"
      ]
    },
    {
      "cell_type": "markdown",
      "metadata": {
        "id": "bAUlYG8JaBsJ"
      },
      "source": [
        "# **Python Functions**\n",
        "In this article, you'll learn about functions; what is a function, the syntax, components and types of a function. Also, you'll learn to create a function in Python.\n",
        "\n",
        "# **What is a function in Python?**\n",
        "In Python, function is a group of related statements that perform a specific task.\n",
        "\n",
        "Functions help break our program into smaller and modular chunks. As our program grows larger and larger, functions make it more organized and manageable.\n",
        "\n",
        "Furthermore, it avoids repetition and makes code reusable.\n",
        "\n",
        "**Syntax of Function**"
      ]
    },
    {
      "cell_type": "code",
      "metadata": {
        "id": "8VMUPBleaTfF"
      },
      "source": [
        "def function_name(parameters):\n",
        "\t\"\"\"docstring\"\"\"\n",
        "\tstatement(s)"
      ],
      "execution_count": null,
      "outputs": []
    },
    {
      "cell_type": "markdown",
      "metadata": {
        "id": "D3YA-KEyaWta"
      },
      "source": [
        "Above shown is a function definition which consists of following components.\n",
        "\n",
        "1. Keyword def marks the start of function header.\n",
        "\n",
        "2. A function name to uniquely identify it. Function naming follows the same rules of writing identifiers in Python.\n",
        "\n",
        "3. Parameters (arguments) through which we pass values to a function. They are optional.\n",
        "\n",
        "4. A colon (:) to mark the end of function header.\n",
        "\n",
        "5. Optional documentation string (docstring) to describe what the function does.\n",
        "\n",
        "6. One or more valid python statements that make up the function body. Statements must have same indentation level (usually 4 spaces).\n",
        "\n",
        "A7. n optional return statement to return a value from the function.\n"
      ]
    },
    {
      "cell_type": "markdown",
      "metadata": {
        "id": "VTfu2qVfaocz"
      },
      "source": [
        "# **Example of a function**\n"
      ]
    },
    {
      "cell_type": "code",
      "metadata": {
        "id": "Cvn4QkNoasjI"
      },
      "source": [
        "def greet(name):\n",
        "\t\"\"\"This function greets to\n",
        "\tthe person passed in as\n",
        "\tparameter\"\"\"\n",
        "\tprint(\"Hello, \" + name + \". Good morning!\")"
      ],
      "execution_count": null,
      "outputs": []
    },
    {
      "cell_type": "markdown",
      "metadata": {
        "id": "WNcKYMtTbsaF"
      },
      "source": [
        "How to call a function in python?\n",
        "\n",
        "Once we have defined a function, we can call it from another function, program or even the Python prompt. To call a function we simply type the function name with appropriate parameters."
      ]
    },
    {
      "cell_type": "code",
      "metadata": {
        "id": "iu__lji9a9Ft",
        "colab": {
          "base_uri": "https://localhost:8080/",
          "height": 34
        },
        "outputId": "58723a98-b4fa-43a8-926d-6a2f524bf27a"
      },
      "source": [
        "greet(\"mohamed\")"
      ],
      "execution_count": null,
      "outputs": [
        {
          "output_type": "stream",
          "text": [
            "Hello, mohamed. Good morning!\n"
          ],
          "name": "stdout"
        }
      ]
    },
    {
      "cell_type": "markdown",
      "metadata": {
        "id": "1W_BRL0eb1DX"
      },
      "source": [
        "Docstring\n",
        "The first string after the function header is called the docstring and is short for documentation string. It is used to explain in brief, what a function does.\n",
        "\n",
        "Although optional, documentation is a good programming practice. Unless you can remember what you had for dinner last week, always document your code.\n",
        "\n",
        "In the above example, we have a docstring immediately below the function header. We generally use triple quotes so that docstring can extend up to multiple lines. This string is available to us as ___  doc__ __ attribute of the function.\n",
        "\n",
        "**For example:**\n"
      ]
    },
    {
      "cell_type": "code",
      "metadata": {
        "id": "yfa1fj7XcfjD",
        "colab": {
          "base_uri": "https://localhost:8080/",
          "height": 68
        },
        "outputId": "fb4978b2-3b30-444d-dc35-df085b05ed79"
      },
      "source": [
        " print(greet.__doc__)"
      ],
      "execution_count": null,
      "outputs": [
        {
          "output_type": "stream",
          "text": [
            "This function greets to\n",
            "\tthe person passed in as\n",
            "\tparameter\n"
          ],
          "name": "stdout"
        }
      ]
    },
    {
      "cell_type": "markdown",
      "metadata": {
        "id": "UEAL3J5QcvK2"
      },
      "source": [
        "# **The return statement**\n",
        "\n",
        "The return statement is used to exit a function and go back to the place from where it was called.\n",
        "\n",
        "Syntax of return\n",
        "\n",
        "return [expression_list]\n",
        "\n",
        "This statement can contain expression which gets evaluated and the value is returned. If there is no expression in the statement or the return statement itself is not present inside a function, then the function will return the None object.\n",
        "\n",
        "**For example:**"
      ]
    },
    {
      "cell_type": "code",
      "metadata": {
        "id": "CSCjLdp4c6TC",
        "colab": {
          "base_uri": "https://localhost:8080/",
          "height": 51
        },
        "outputId": "14f33a64-4e89-4613-ad05-21bcfea1e865"
      },
      "source": [
        "print(greet(\"May\"))"
      ],
      "execution_count": null,
      "outputs": [
        {
          "output_type": "stream",
          "text": [
            "Hello, May. Good morning!\n",
            "None\n"
          ],
          "name": "stdout"
        }
      ]
    },
    {
      "cell_type": "markdown",
      "metadata": {
        "id": "rLnrKOxHdBUT"
      },
      "source": [
        "Here, None is the returned value."
      ]
    },
    {
      "cell_type": "markdown",
      "metadata": {
        "id": "U_HRLJZ0dB41"
      },
      "source": [
        "# **Example of return**\n"
      ]
    },
    {
      "cell_type": "code",
      "metadata": {
        "id": "uBO75zOjdHGw",
        "colab": {
          "base_uri": "https://localhost:8080/",
          "height": 51
        },
        "outputId": "ccc391af-343d-46ca-fbfe-d276eae68657"
      },
      "source": [
        "def absolute_value(num):\n",
        "\t\"\"\"This function returns the absolute\n",
        "\tvalue of the entered number\"\"\"\n",
        "\n",
        "\tif num >= 0:\n",
        "\t\treturn num\n",
        "\telse:\n",
        "\t\treturn -num\n",
        "\n",
        "# Output: 2\n",
        "print(absolute_value(2))\n",
        "\n",
        "# Output: 4\n",
        "print(absolute_value(-4))"
      ],
      "execution_count": null,
      "outputs": [
        {
          "output_type": "stream",
          "text": [
            "2\n",
            "4\n"
          ],
          "name": "stdout"
        }
      ]
    },
    {
      "cell_type": "markdown",
      "metadata": {
        "id": "xMRtbRk_dPeQ"
      },
      "source": [
        "# **How Function works in Python?**"
      ]
    },
    {
      "cell_type": "markdown",
      "metadata": {
        "id": "AlH52334dVU0"
      },
      "source": [
        "![image.png](data:image/png;base64,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)"
      ]
    },
    {
      "cell_type": "markdown",
      "metadata": {
        "id": "mTlIREtAdX2k"
      },
      "source": [
        "#**Scope and Lifetime of variables**\n",
        "Scope of a variable is the portion of a program where the variable is recognized. Parameters and variables defined inside a function is not visible from outside. Hence, they have a local scope.\n",
        "\n",
        "Lifetime of a variable is the period throughout which the variable exits in the memory. The lifetime of variables inside a function is as long as the function executes.\n",
        "\n",
        "They are destroyed once we return from the function. Hence, a function does not remember the value of a variable from its previous calls.\n",
        "\n",
        "*/Here is an example to illustrate the scope of a variable inside a function.**"
      ]
    },
    {
      "cell_type": "code",
      "metadata": {
        "id": "ZmX7IIOfdhjR",
        "colab": {
          "base_uri": "https://localhost:8080/",
          "height": 51
        },
        "outputId": "d7f2ed2c-3596-41b8-fbf4-376dc00aefff"
      },
      "source": [
        "def my_func():\n",
        "\tx = 10\n",
        "\tprint(\"Value inside function:\",x)\n",
        "\n",
        "x = 20\n",
        "my_func()\n",
        "print(\"Value outside function:\",x)"
      ],
      "execution_count": null,
      "outputs": [
        {
          "output_type": "stream",
          "text": [
            "Value inside function: 10\n",
            "Value outside function: 20\n"
          ],
          "name": "stdout"
        }
      ]
    },
    {
      "cell_type": "markdown",
      "metadata": {
        "id": "eOQaVybrdrx3"
      },
      "source": [
        "Here, we can see that the value of x is 20 initially. Even though the function **my_func**() changed the value of x to 10, it did not effect the value outside the function.\n",
        "\n",
        "This is because the variable x inside the function is different (local to the function) from the one outside. Although they have same names, they are two different variables with different scope.\n",
        "\n",
        "On the other hand, variables outside of the function are visible from inside. They have a global scope.\n",
        "\n",
        "We can read these values from inside the function but cannot change (write) them. In order to modify the value of variables outside the function, they must be declared as global variables using the keyword global.\n",
        "\n",
        "**Types  of Functions**\n",
        "\n",
        "***Basically, we can divide functions into the following two types:***\n",
        "\n",
        "1. Built-in functions - Functions that are built into Python.\n",
        "2. User-defined functions - Functions defined by the users themselves."
      ]
    },
    {
      "cell_type": "code",
      "metadata": {
        "id": "obCwq1k-bj4W"
      },
      "source": [],
      "execution_count": null,
      "outputs": []
    }
  ]
}