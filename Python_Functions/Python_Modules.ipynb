{
  "nbformat": 4,
  "nbformat_minor": 0,
  "metadata": {
    "colab": {
      "provenance": [],
      "authorship_tag": "ABX9TyPM+wI1nTzdlyIIEINX/HX8",
      "include_colab_link": true
    },
    "kernelspec": {
      "name": "python3",
      "display_name": "Python 3"
    }
  },
  "cells": [
    {
      "cell_type": "markdown",
      "metadata": {
        "id": "view-in-github",
        "colab_type": "text"
      },
      "source": [
        "<a href=\"https://colab.research.google.com/github/TOUATI-MOHAMED/Python/blob/master/Python_Functions/Python_Modules.ipynb\" target=\"_parent\"><img src=\"https://colab.research.google.com/assets/colab-badge.svg\" alt=\"Open In Colab\"/></a>"
      ]
    },
    {
      "cell_type": "markdown",
      "metadata": {
        "id": "3osOsffI4hgw"
      },
      "source": [
        "# **Python Modules**\n",
        "In this article, you will learn to create and import custom modules in Python. Also, you will find different techniques to import and use custom and built-in modules in Python.\n",
        "\n",
        "# **What are modules in Python?**\n",
        "Modules refer to a file containing Python statements and definitions.\n",
        "\n",
        "A file containing Python code, for e.g.: example.py, is called a module and its module name would be example.\n",
        "\n",
        "We use modules to break down large programs into small manageable and organized files. Furthermore, modules provide reusability of code.\n",
        "\n",
        "We can define our most used functions in a module and import it, instead of copying their definitions into different programs.\n",
        "\n",
        "**Let us create a module. Type the following and save it as example.py.**"
      ]
    },
    {
      "cell_type": "code",
      "metadata": {
        "id": "SIJ7OOta4r-5"
      },
      "source": [
        "# Python Module example\n",
        "def add(a, b):\n",
        "   \"\"\"This program adds two\n",
        "   numbers and return the result\"\"\"\n",
        "   result = a + b\n",
        "   return result"
      ],
      "execution_count": null,
      "outputs": []
    },
    {
      "cell_type": "markdown",
      "metadata": {
        "id": "7B-x91vk4zsJ"
      },
      "source": [
        "Here, we have defined a function add() inside a module named example. The function takes in two numbers and returns their sum.\n",
        "# **How to import modules in Python?**\n",
        "We can import the definitions inside a module to another module or the interactive interpreter in Python.\n",
        "\n",
        "We use the import keyword to do this. To import our previously defined module example we type the following in the Python prompt."
      ]
    },
    {
      "cell_type": "code",
      "metadata": {
        "id": "RgiiEnZS4-e9",
        "colab": {
          "base_uri": "https://localhost:8080/",
          "height": 299
        },
        "outputId": "2445c0e5-af26-42bc-97c7-4c24a6e6e98d"
      },
      "source": [
        "import example"
      ],
      "execution_count": null,
      "outputs": [
        {
          "output_type": "error",
          "ename": "ModuleNotFoundError",
          "evalue": "ignored",
          "traceback": [
            "\u001b[0;31m---------------------------------------------------------------------------\u001b[0m",
            "\u001b[0;31mModuleNotFoundError\u001b[0m                       Traceback (most recent call last)",
            "\u001b[0;32m<ipython-input-2-621866f4e6d7>\u001b[0m in \u001b[0;36m<module>\u001b[0;34m()\u001b[0m\n\u001b[0;32m----> 1\u001b[0;31m \u001b[0;32mimport\u001b[0m \u001b[0mexample\u001b[0m\u001b[0;34m\u001b[0m\u001b[0;34m\u001b[0m\u001b[0m\n\u001b[0m",
            "\u001b[0;31mModuleNotFoundError\u001b[0m: No module named 'example'",
            "",
            "\u001b[0;31m---------------------------------------------------------------------------\u001b[0;32m\nNOTE: If your import is failing due to a missing package, you can\nmanually install dependencies using either !pip or !apt.\n\nTo view examples of installing some common dependencies, click the\n\"Open Examples\" button below.\n\u001b[0;31m---------------------------------------------------------------------------\u001b[0m\n"
          ]
        }
      ]
    },
    {
      "cell_type": "markdown",
      "metadata": {
        "id": "hOInqUkx5GRc"
      },
      "source": [
        "This does not enter the names of the functions defined in example directly in the current symbol table. It only enters the module name example there.\n",
        "\n",
        "Using the module name we can access the function using the dot . operator. For **example:**\n"
      ]
    },
    {
      "cell_type": "code",
      "metadata": {
        "id": "1w71EJ2x5Kfd",
        "colab": {
          "base_uri": "https://localhost:8080/",
          "height": 163
        },
        "outputId": "03e62704-bea6-4e5b-808a-7f2507800d07"
      },
      "source": [
        "example.add(4,5.5)\n"
      ],
      "execution_count": null,
      "outputs": [
        {
          "output_type": "error",
          "ename": "NameError",
          "evalue": "ignored",
          "traceback": [
            "\u001b[0;31m---------------------------------------------------------------------------\u001b[0m",
            "\u001b[0;31mNameError\u001b[0m                                 Traceback (most recent call last)",
            "\u001b[0;32m<ipython-input-5-9edf5bd651c8>\u001b[0m in \u001b[0;36m<module>\u001b[0;34m()\u001b[0m\n\u001b[0;32m----> 1\u001b[0;31m \u001b[0mexample\u001b[0m\u001b[0;34m.\u001b[0m\u001b[0madd\u001b[0m\u001b[0;34m(\u001b[0m\u001b[0;36m4\u001b[0m\u001b[0;34m,\u001b[0m\u001b[0;36m5.5\u001b[0m\u001b[0;34m)\u001b[0m\u001b[0;34m\u001b[0m\u001b[0;34m\u001b[0m\u001b[0m\n\u001b[0m",
            "\u001b[0;31mNameError\u001b[0m: name 'example' is not defined"
          ]
        }
      ]
    },
    {
      "cell_type": "markdown",
      "metadata": {
        "id": "lCmTi9wz5z5o"
      },
      "source": [
        "# **Python has a ton of standard modules available.**\n",
        "\n",
        "You can check out the full list of Python standard modules and what they are for. These files are in the Lib directory inside the location where you installed Python.\n",
        "\n",
        "Standard modules can be imported the same way as we import our user-defined modules.\n",
        "\n",
        "There are various ways to import modules. They are listed as follows.\n",
        "\n",
        "**Python import statement** \n",
        "\n",
        "We can import a module using import statement and access the definitions inside it using the dot operator as described above. Here is an example.\n",
        "\n"
      ]
    },
    {
      "cell_type": "code",
      "metadata": {
        "id": "-E-d6bZT6C3f",
        "colab": {
          "base_uri": "https://localhost:8080/",
          "height": 34
        },
        "outputId": "53d90b40-59eb-4e72-aead-e788e7dff53d"
      },
      "source": [
        "# import statement example\n",
        "# to import standard module math\n",
        "\n",
        "import math\n",
        "print(\"The value of pi is\", math.pi)"
      ],
      "execution_count": null,
      "outputs": [
        {
          "output_type": "stream",
          "text": [
            "The value of pi is 3.141592653589793\n"
          ],
          "name": "stdout"
        }
      ]
    },
    {
      "cell_type": "markdown",
      "metadata": {
        "id": "vq2TjYby6QmD"
      },
      "source": [
        "#**Import with renaming**\n",
        "We can import a module by renaming it as follows.\n",
        "\n"
      ]
    },
    {
      "cell_type": "code",
      "metadata": {
        "id": "1DChfPri4-3t",
        "colab": {
          "base_uri": "https://localhost:8080/",
          "height": 34
        },
        "outputId": "3fd79a10-3ca1-49b8-975c-7470fc5674c5"
      },
      "source": [
        "# import module by renaming it\n",
        "\n",
        "import math as m\n",
        "print(\"The value of pi is\", m.pi)"
      ],
      "execution_count": null,
      "outputs": [
        {
          "output_type": "stream",
          "text": [
            "The value of pi is 3.141592653589793\n"
          ],
          "name": "stdout"
        }
      ]
    },
    {
      "cell_type": "markdown",
      "metadata": {
        "id": "rvyE53q06ZVO"
      },
      "source": [
        "We have renamed the math module as m. This can save us typing time in some cases.\n",
        "\n",
        "Note that the name math is not recognized in our scope. Hence, math.pi is invalid, m.pi is the correct implementation.\n",
        "\n",
        "#**Python from...import statement**\n",
        "We can import specific names from a module without importing the module as a whole. \n",
        "**Here is an example.**\n",
        "\n"
      ]
    },
    {
      "cell_type": "code",
      "metadata": {
        "id": "iDwMAJTf6ouD",
        "colab": {
          "base_uri": "https://localhost:8080/",
          "height": 34
        },
        "outputId": "b9d6e626-a6bb-4786-afdb-7230bdc345d2"
      },
      "source": [
        "# import only pi from math module\n",
        "\n",
        "from math import pi\n",
        "print(\"The value of pi is\", pi)"
      ],
      "execution_count": null,
      "outputs": [
        {
          "output_type": "stream",
          "text": [
            "The value of pi is 3.141592653589793\n"
          ],
          "name": "stdout"
        }
      ]
    },
    {
      "cell_type": "markdown",
      "metadata": {
        "id": "9U467Fie62AE"
      },
      "source": [
        "We imported only the attribute pi from the module.\n",
        "\n",
        "In such case we don't use the dot operator. We could have imported multiple attributes as follows."
      ]
    },
    {
      "cell_type": "code",
      "metadata": {
        "id": "Dd_0iipe66Ki",
        "colab": {
          "base_uri": "https://localhost:8080/",
          "height": 34
        },
        "outputId": "686aab0d-4844-4bf3-b289-22b184dcb2e6"
      },
      "source": [
        "from math import pi, \n",
        "pi\n"
      ],
      "execution_count": null,
      "outputs": [
        {
          "output_type": "execute_result",
          "data": {
            "text/plain": [
              "3.141592653589793"
            ]
          },
          "metadata": {
            "tags": []
          },
          "execution_count": 11
        }
      ]
    },
    {
      "cell_type": "code",
      "metadata": {
        "id": "J_OLmrrV7B1q",
        "colab": {
          "base_uri": "https://localhost:8080/",
          "height": 34
        },
        "outputId": "ee74ed66-8163-41d3-99a1-7428ba37670b"
      },
      "source": [
        "from math import e\n",
        "e"
      ],
      "execution_count": null,
      "outputs": [
        {
          "output_type": "execute_result",
          "data": {
            "text/plain": [
              "2.718281828459045"
            ]
          },
          "metadata": {
            "tags": []
          },
          "execution_count": 13
        }
      ]
    },
    {
      "cell_type": "markdown",
      "metadata": {
        "id": "Qj-nG0NE6j4X"
      },
      "source": [
        "# **Import all names**\n",
        "\n",
        "We can import all names(definitions) from a module using the following construct."
      ]
    },
    {
      "cell_type": "code",
      "metadata": {
        "id": "kTL7Mn_67VLf",
        "colab": {
          "base_uri": "https://localhost:8080/",
          "height": 34
        },
        "outputId": "6eb31aaf-bb19-41c7-c51a-b4e4ce98133e"
      },
      "source": [
        "# import all names from the standard module math\n",
        "\n",
        "from math import *\n",
        "print(\"The value of pi is\", pi)"
      ],
      "execution_count": null,
      "outputs": [
        {
          "output_type": "stream",
          "text": [
            "The value of pi is 3.141592653589793\n"
          ],
          "name": "stdout"
        }
      ]
    },
    {
      "cell_type": "code",
      "metadata": {
        "id": "TouDzNtE6V9s"
      },
      "source": [],
      "execution_count": null,
      "outputs": []
    },
    {
      "cell_type": "markdown",
      "metadata": {
        "id": "g4H16yTQ7YDn"
      },
      "source": [
        "We imported all the definitions from the math module. This makes all names except those beginnig with an underscore, visible in our scope.\n",
        "\n",
        "Importing everything with the asterisk (*) symbol is not a good programming practice. This can lead to duplicate definitions for an identifier. It also hampers the readability of our code.\n",
        "\n",
        "# **Python Module Search Path**\n",
        "While importing a module, Python looks at several places. Interpreter first looks for a built-in module then (if not found) into a list of directories defined in sys.path. The search is in this order.\n",
        "\n",
        "1. The current directory.\n",
        "2. PYTHONPATH (an environment variable with a list of directory).\n",
        "3. The installation-dependent default directory."
      ]
    },
    {
      "cell_type": "code",
      "metadata": {
        "id": "jd3-Yy2z7okP",
        "colab": {
          "base_uri": "https://localhost:8080/",
          "height": 170
        },
        "outputId": "69700cee-6551-44c3-e9fe-af60eea7d9ae"
      },
      "source": [
        "import sys\n",
        "sys.path"
      ],
      "execution_count": null,
      "outputs": [
        {
          "output_type": "execute_result",
          "data": {
            "text/plain": [
              "['',\n",
              " '/env/python',\n",
              " '/usr/lib/python36.zip',\n",
              " '/usr/lib/python3.6',\n",
              " '/usr/lib/python3.6/lib-dynload',\n",
              " '/usr/local/lib/python3.6/dist-packages',\n",
              " '/usr/lib/python3/dist-packages',\n",
              " '/usr/local/lib/python3.6/dist-packages/IPython/extensions',\n",
              " '/root/.ipython']"
            ]
          },
          "metadata": {
            "tags": []
          },
          "execution_count": 15
        }
      ]
    },
    {
      "cell_type": "markdown",
      "metadata": {
        "id": "JjPgP4pY7tUa"
      },
      "source": [
        "**We can add modify this list to add our own path.** \n",
        "\n"
      ]
    },
    {
      "cell_type": "markdown",
      "metadata": {
        "id": "snYqIbm07464"
      },
      "source": [
        "# **Reloading a module**\n",
        "The Python interpreter imports a module only once during a session. This makes things more efficient. Here is an example to show how this works.\n",
        "\n",
        "Suppose we have the following code in a module named **my_module**."
      ]
    },
    {
      "cell_type": "code",
      "metadata": {
        "id": "Sx2E5r2t7qDY"
      },
      "source": [
        "# This module shows the effect of\n",
        "#  multiple imports and reload\n",
        "print(\"This code got executed\")"
      ],
      "execution_count": null,
      "outputs": []
    },
    {
      "cell_type": "markdown",
      "metadata": {
        "id": "dc17c7JD8KLI"
      },
      "source": [
        "***Now we see the effect of multiple imports***"
      ]
    },
    {
      "cell_type": "code",
      "metadata": {
        "id": "kJN3Wsr78Qcc",
        "colab": {
          "base_uri": "https://localhost:8080/",
          "height": 299
        },
        "outputId": "24a2a881-c95d-49e3-dfb2-c114f4be47c9"
      },
      "source": [
        " import my_module"
      ],
      "execution_count": null,
      "outputs": [
        {
          "output_type": "error",
          "ename": "ModuleNotFoundError",
          "evalue": "ignored",
          "traceback": [
            "\u001b[0;31m---------------------------------------------------------------------------\u001b[0m",
            "\u001b[0;31mModuleNotFoundError\u001b[0m                       Traceback (most recent call last)",
            "\u001b[0;32m<ipython-input-16-6f1b7cfa21b3>\u001b[0m in \u001b[0;36m<module>\u001b[0;34m()\u001b[0m\n\u001b[0;32m----> 1\u001b[0;31m \u001b[0;32mimport\u001b[0m \u001b[0mmy_module\u001b[0m\u001b[0;34m\u001b[0m\u001b[0;34m\u001b[0m\u001b[0m\n\u001b[0m",
            "\u001b[0;31mModuleNotFoundError\u001b[0m: No module named 'my_module'",
            "",
            "\u001b[0;31m---------------------------------------------------------------------------\u001b[0;32m\nNOTE: If your import is failing due to a missing package, you can\nmanually install dependencies using either !pip or !apt.\n\nTo view examples of installing some common dependencies, click the\n\"Open Examples\" button below.\n\u001b[0;31m---------------------------------------------------------------------------\u001b[0m\n"
          ]
        }
      ]
    },
    {
      "cell_type": "code",
      "metadata": {
        "id": "mOE36Kuy8Q4S",
        "colab": {
          "base_uri": "https://localhost:8080/",
          "height": 299
        },
        "outputId": "94cb7900-5c5b-4074-ad01-d1eec5be9975"
      },
      "source": [
        "import my_module\n"
      ],
      "execution_count": null,
      "outputs": [
        {
          "output_type": "error",
          "ename": "ModuleNotFoundError",
          "evalue": "ignored",
          "traceback": [
            "\u001b[0;31m---------------------------------------------------------------------------\u001b[0m",
            "\u001b[0;31mModuleNotFoundError\u001b[0m                       Traceback (most recent call last)",
            "\u001b[0;32m<ipython-input-17-6f1b7cfa21b3>\u001b[0m in \u001b[0;36m<module>\u001b[0;34m()\u001b[0m\n\u001b[0;32m----> 1\u001b[0;31m \u001b[0;32mimport\u001b[0m \u001b[0mmy_module\u001b[0m\u001b[0;34m\u001b[0m\u001b[0;34m\u001b[0m\u001b[0m\n\u001b[0m",
            "\u001b[0;31mModuleNotFoundError\u001b[0m: No module named 'my_module'",
            "",
            "\u001b[0;31m---------------------------------------------------------------------------\u001b[0;32m\nNOTE: If your import is failing due to a missing package, you can\nmanually install dependencies using either !pip or !apt.\n\nTo view examples of installing some common dependencies, click the\n\"Open Examples\" button below.\n\u001b[0;31m---------------------------------------------------------------------------\u001b[0m\n"
          ]
        }
      ]
    },
    {
      "cell_type": "code",
      "metadata": {
        "id": "VyXL1Szm8V6N",
        "colab": {
          "base_uri": "https://localhost:8080/",
          "height": 299
        },
        "outputId": "f3c39d8c-ecca-40bb-d255-9afda0c1cc50"
      },
      "source": [
        "import my_module\n"
      ],
      "execution_count": null,
      "outputs": [
        {
          "output_type": "error",
          "ename": "ModuleNotFoundError",
          "evalue": "ignored",
          "traceback": [
            "\u001b[0;31m---------------------------------------------------------------------------\u001b[0m",
            "\u001b[0;31mModuleNotFoundError\u001b[0m                       Traceback (most recent call last)",
            "\u001b[0;32m<ipython-input-18-6f1b7cfa21b3>\u001b[0m in \u001b[0;36m<module>\u001b[0;34m()\u001b[0m\n\u001b[0;32m----> 1\u001b[0;31m \u001b[0;32mimport\u001b[0m \u001b[0mmy_module\u001b[0m\u001b[0;34m\u001b[0m\u001b[0;34m\u001b[0m\u001b[0m\n\u001b[0m",
            "\u001b[0;31mModuleNotFoundError\u001b[0m: No module named 'my_module'",
            "",
            "\u001b[0;31m---------------------------------------------------------------------------\u001b[0;32m\nNOTE: If your import is failing due to a missing package, you can\nmanually install dependencies using either !pip or !apt.\n\nTo view examples of installing some common dependencies, click the\n\"Open Examples\" button below.\n\u001b[0;31m---------------------------------------------------------------------------\u001b[0m\n"
          ]
        }
      ]
    },
    {
      "cell_type": "markdown",
      "metadata": {
        "id": "9tESjAR_8pVd"
      },
      "source": [
        "We can see that our code got executed only once. This goes to say that our module was imported only once.\n",
        "\n",
        "Now if our module changed during the course of the program, we would have to reload it.One way to do this is to restart the interpreter. But this does not help much.\n",
        "\n",
        "Python provides a neat way of doing this. We can use the reload() function inside the imp module to reload a module. This is how its done."
      ]
    },
    {
      "cell_type": "code",
      "metadata": {
        "id": "to_N8hXH8r5F",
        "colab": {
          "base_uri": "https://localhost:8080/",
          "height": 367
        },
        "outputId": "e61f559c-4850-4d88-8e1e-24d2eb724229"
      },
      "source": [
        "import imp\n",
        "import my_module\n",
        "import my_module\n",
        "imp.reload(my_module)\n",
        "\n",
        "\n"
      ],
      "execution_count": null,
      "outputs": [
        {
          "output_type": "error",
          "ename": "ModuleNotFoundError",
          "evalue": "ignored",
          "traceback": [
            "\u001b[0;31m---------------------------------------------------------------------------\u001b[0m",
            "\u001b[0;31mModuleNotFoundError\u001b[0m                       Traceback (most recent call last)",
            "\u001b[0;32m<ipython-input-20-dc1d0e93b9b4>\u001b[0m in \u001b[0;36m<module>\u001b[0;34m()\u001b[0m\n\u001b[1;32m      1\u001b[0m \u001b[0;32mimport\u001b[0m \u001b[0mimp\u001b[0m\u001b[0;34m\u001b[0m\u001b[0;34m\u001b[0m\u001b[0m\n\u001b[0;32m----> 2\u001b[0;31m \u001b[0;32mimport\u001b[0m \u001b[0mmy_module\u001b[0m\u001b[0;34m\u001b[0m\u001b[0;34m\u001b[0m\u001b[0m\n\u001b[0m\u001b[1;32m      3\u001b[0m \u001b[0;34m\u001b[0m\u001b[0m\n\u001b[1;32m      4\u001b[0m \u001b[0mimp\u001b[0m\u001b[0;34m.\u001b[0m\u001b[0mreload\u001b[0m\u001b[0;34m(\u001b[0m\u001b[0mmy_module\u001b[0m\u001b[0;34m)\u001b[0m\u001b[0;34m\u001b[0m\u001b[0;34m\u001b[0m\u001b[0m\n\u001b[1;32m      5\u001b[0m \u001b[0;34m\u001b[0m\u001b[0m\n",
            "\u001b[0;31mModuleNotFoundError\u001b[0m: No module named 'my_module'",
            "",
            "\u001b[0;31m---------------------------------------------------------------------------\u001b[0;32m\nNOTE: If your import is failing due to a missing package, you can\nmanually install dependencies using either !pip or !apt.\n\nTo view examples of installing some common dependencies, click the\n\"Open Examples\" button below.\n\u001b[0;31m---------------------------------------------------------------------------\u001b[0m\n"
          ]
        }
      ]
    },
    {
      "cell_type": "markdown",
      "metadata": {
        "id": "3fJWN8P28_4W"
      },
      "source": [
        "# **The dir() built-in function**\n",
        "We can use the dir() function to find out names that are defined inside a module.\n",
        "\n",
        "For example, we have defined a function add() in the module example that we had in the beginning."
      ]
    },
    {
      "cell_type": "code",
      "metadata": {
        "id": "FAIvWfou8Z7V",
        "colab": {
          "base_uri": "https://localhost:8080/",
          "height": 180
        },
        "outputId": "5daa3558-91ed-4419-a607-d934678ef370"
      },
      "source": [
        " dir(example)\n",
        " "
      ],
      "execution_count": null,
      "outputs": [
        {
          "output_type": "error",
          "ename": "NameError",
          "evalue": "ignored",
          "traceback": [
            "\u001b[0;31m---------------------------------------------------------------------------\u001b[0m",
            "\u001b[0;31mNameError\u001b[0m                                 Traceback (most recent call last)",
            "\u001b[0;32m<ipython-input-21-cbd368ec3579>\u001b[0m in \u001b[0;36m<module>\u001b[0;34m()\u001b[0m\n\u001b[0;32m----> 1\u001b[0;31m \u001b[0mdir\u001b[0m\u001b[0;34m(\u001b[0m\u001b[0mexample\u001b[0m\u001b[0;34m)\u001b[0m\u001b[0;34m\u001b[0m\u001b[0;34m\u001b[0m\u001b[0m\n\u001b[0m\u001b[1;32m      2\u001b[0m \u001b[0;34m\u001b[0m\u001b[0m\n",
            "\u001b[0;31mNameError\u001b[0m: name 'example' is not defined"
          ]
        }
      ]
    },
    {
      "cell_type": "markdown",
      "metadata": {
        "id": "nVFjVs4e9Mez"
      },
      "source": [
        "Here, we can see a sorted list of names (along with add). All other names that begin with an underscore are default Python attributes associated with the module (we did not define them ourself).\n",
        "\n",
        "For example, the __name__ attribute contains the name of the module.\n",
        "\n",
        "     >>> import example\n",
        "     >>> example.__name__\n",
        "'example'"
      ]
    },
    {
      "cell_type": "markdown",
      "metadata": {
        "id": "vrVzWi2Z9gYu"
      },
      "source": [
        "All the names defined in our current namespace can be found out using the dir() function without any arguments.\n",
        "\n",
        "    >>> a = 1\n",
        "    >>> b = \"hello\"\n",
        "    >>> import math\n",
        "    >>> dir()\n",
        "['__ builtins __ ', '__doc__', '__name__', 'a', 'b', 'math', 'pyscripter']"
      ]
    },
    {
      "cell_type": "code",
      "metadata": {
        "id": "_EzhZx7u9IBN"
      },
      "source": [],
      "execution_count": null,
      "outputs": []
    }
  ]
}