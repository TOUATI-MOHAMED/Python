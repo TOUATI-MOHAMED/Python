{
  "nbformat": 4,
  "nbformat_minor": 0,
  "metadata": {
    "colab": {
      "provenance": [],
      "authorship_tag": "ABX9TyPyqsHRfBeAzSDJfz+jBIav",
      "include_colab_link": true
    },
    "kernelspec": {
      "name": "python3",
      "display_name": "Python 3"
    },
    "accelerator": "GPU"
  },
  "cells": [
    {
      "cell_type": "markdown",
      "metadata": {
        "id": "view-in-github",
        "colab_type": "text"
      },
      "source": [
        "<a href=\"https://colab.research.google.com/github/TOUATI-MOHAMED/Python/blob/master/Python_Functions/Python_Recursion.ipynb\" target=\"_parent\"><img src=\"https://colab.research.google.com/assets/colab-badge.svg\" alt=\"Open In Colab\"/></a>"
      ]
    },
    {
      "cell_type": "markdown",
      "metadata": {
        "id": "-ciQr4tcxBnk"
      },
      "source": [
        "# **Python Recursion**\n",
        "In this part, you will learn to create a recursive function; a function that calls itself.\n",
        "\n",
        "# **What is recursion in Python?**\n",
        "Recursion is the process of defining something in terms of itself.\n",
        "\n",
        "A physical world example would be to place two parallel mirrors facing each other. Any object in between them would be reflected recursively.\n",
        "\n",
        "# **Python Recursive Function**\n",
        "We know that in Python, a function can call other functions. It is even possible for the function to call itself. These type of construct are termed as recursive functions.\n",
        "\n",
        "Following is an example of recursive function to find the factorial of an integer.\n",
        "\n",
        "Factorial of a number is the product of all the integers from 1 to that number. For example, the factorial of 6 (denoted as 6!) is 1* 2* 3* 4* 5* 6 = 720.\n",
        "\n",
        "**Example of recursive function**"
      ]
    },
    {
      "cell_type": "code",
      "metadata": {
        "id": "zN2F2RYfxTny"
      },
      "source": [
        "# An example of a recursive function to\n",
        "# find the factorial of a number\n",
        "\n",
        "def calc_factorial(x):\n",
        "    \"\"\"This is a recursive function\n",
        "    to find the factorial of an integer\"\"\"\n",
        "\n",
        "    if x == 1:\n",
        "        return 1\n",
        "    else:\n",
        "        return (x * calc_factorial(x-1))\n",
        "\n",
        "num = 4\n",
        "print(\"The factorial of\", num, \"is\", calc_factorial(num))\t\t"
      ],
      "execution_count": null,
      "outputs": []
    },
    {
      "cell_type": "markdown",
      "metadata": {
        "id": "Tmhdbp-JxbZ5"
      },
      "source": [
        "In the above example, **calc_factorial**() is a recursive functions as it calls itself.\n",
        "\n",
        "When we call this function with a positive integer, it will recursively call itself by decreasing the number.\n",
        "\n",
        "Each function call multiples the number with the factorial of number 1 until the number is equal to one. This recursive call can be explained in the following steps."
      ]
    },
    {
      "cell_type": "markdown",
      "metadata": {
        "id": "G3TdZqirxzdj"
      },
      "source": [
        "![image.png](data:image/png;base64,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)"
      ]
    },
    {
      "cell_type": "markdown",
      "metadata": {
        "id": "bbI-BG0kx2S3"
      },
      "source": [
        "Our recursion ends when the number reduces to 1. This is called the base condition.\n",
        "\n",
        "Every recursive function must have a base condition that stops the recursion or else the function calls itself infinitely.\n",
        "\n"
      ]
    },
    {
      "cell_type": "markdown",
      "metadata": {
        "id": "ZlXyRsbAx5Nn"
      },
      "source": [
        "# **Advantages of Recursion**\n",
        "1. Recursive functions make the code look clean and elegant.\n",
        "\n",
        "2. A complex task can be broken down into simpler sub-problems using recursion.\n",
        "\n",
        "3. Sequence generation is easier with recursion than using some nested iteration.\n"
      ]
    },
    {
      "cell_type": "markdown",
      "metadata": {
        "id": "xlIgh4U-yDz1"
      },
      "source": [
        "# **Disadvantages of Recursion**\n",
        "1. Sometimes the logic behind recursion is hard to follow through.\n",
        "2. Recursive calls are expensive (inefficient) as they take up a lot of memory and time.\n",
        "3. Recursive functions are hard to debug."
      ]
    },
    {
      "cell_type": "code",
      "metadata": {
        "id": "x8WiNjmixWiF"
      },
      "source": [],
      "execution_count": null,
      "outputs": []
    }
  ]
}