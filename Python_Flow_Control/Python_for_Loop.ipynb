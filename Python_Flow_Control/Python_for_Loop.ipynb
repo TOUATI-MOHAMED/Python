{
  "nbformat": 4,
  "nbformat_minor": 0,
  "metadata": {
    "colab": {
      "provenance": []
    },
    "kernelspec": {
      "name": "python3",
      "display_name": "Python 3"
    }
  },
  "cells": [
    {
      "cell_type": "markdown",
      "metadata": {
        "id": "ny2-S8JRRNCa"
      },
      "source": [
        "# **Python for Loop**\n",
        "In this article, you'll learn to iterate over a sequence of elements using the different variations of for loop.\n",
        "\n",
        "# **What is for loop in Python?**\n",
        "The for loop in Python is used to iterate over a sequence (list, tuple, string) or other iterable objects. Iterating over a sequence is called traversal.\n",
        "\n",
        "**Syntax of for Loop** \n"
      ]
    },
    {
      "cell_type": "code",
      "metadata": {
        "id": "TO2lMKkzRhPO"
      },
      "source": [
        "for val in sequence:\n",
        "\tBody of for"
      ],
      "execution_count": null,
      "outputs": []
    },
    {
      "cell_type": "markdown",
      "metadata": {
        "id": "8CODN_4xRl9l"
      },
      "source": [
        "Here, val is the variable that takes the value of the item inside the sequence on each iteration.\n",
        "\n",
        "Loop continues until we reach the last item in the sequence. The body of for loop is separated from the rest of the code using indentation.\n",
        "\n",
        "**Flowchart of for Loop** "
      ]
    },
    {
      "cell_type": "markdown",
      "metadata": {
        "id": "CymZKknGRtMd"
      },
      "source": [
        "![image.png](data:image/png;base64,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)"
      ]
    },
    {
      "cell_type": "markdown",
      "metadata": {
        "id": "eUhcp2ZZRvc4"
      },
      "source": [
        "**Example : Python for Loop**\n"
      ]
    },
    {
      "cell_type": "code",
      "metadata": {
        "id": "aK1UZFHURyGQ",
        "colab": {
          "base_uri": "https://localhost:8080/",
          "height": 34
        },
        "outputId": "a2550672-9529-4880-f035-f898f2e3194a"
      },
      "source": [
        "# Program to find the sum of all numbers stored in a list\n",
        "\n",
        "# List of numbers\n",
        "numbers = [6, 5, 3, 8, 4, 2, 5, 4, 11]\n",
        "\n",
        "# variable to store the sum\n",
        "sum = 0\n",
        "\n",
        "# iterate over the list\n",
        "for val in numbers:\n",
        "\tsum = sum+val\n",
        "\n",
        "# Output: The sum is 48\n",
        "print(\"The sum is\", sum)"
      ],
      "execution_count": null,
      "outputs": [
        {
          "output_type": "stream",
          "text": [
            "The sum is 48\n"
          ],
          "name": "stdout"
        }
      ]
    },
    {
      "cell_type": "markdown",
      "metadata": {
        "id": "1KXqg_luTfTG"
      },
      "source": [
        "# **The range() function**\n",
        "We can generate a sequence of numbers using range() function. range(10) will generate numbers from 0 to 9 (10 numbers).\n",
        "\n",
        "We can also define the start, stop and step size as range(start,stop,step size). step size defaults to 1 if not provided.\n",
        "\n",
        "This function does not store all the values in memory, it would be inefficient. So it remembers the start, stop, step size and generates the next number on the go.\n",
        "\n",
        "To force this function to output all the items, we can use the function list().\n",
        "\n",
        "The following example will clarify this."
      ]
    },
    {
      "cell_type": "code",
      "metadata": {
        "id": "KLdUSXIwTm_Q",
        "colab": {
          "base_uri": "https://localhost:8080/",
          "height": 85
        },
        "outputId": "1bd82bdb-b970-4fc1-830d-c6d2b71568bf"
      },
      "source": [
        "# Output: range(0, 10)\n",
        "print(range(10))\n",
        "\n",
        "# Output: [0, 1, 2, 3, 4, 5, 6, 7, 8, 9]\n",
        "print(list(range(10)))\n",
        "\n",
        "# Output: [2, 3, 4, 5, 6, 7]\n",
        "print(list(range(2, 8)))\n",
        "\n",
        "# Output: [2, 5, 8, 11, 14, 17]\n",
        "print(list(range(2, 20, 3)))\t"
      ],
      "execution_count": null,
      "outputs": [
        {
          "output_type": "stream",
          "text": [
            "range(0, 10)\n",
            "[0, 1, 2, 3, 4, 5, 6, 7, 8, 9]\n",
            "[2, 3, 4, 5, 6, 7]\n",
            "[2, 5, 8, 11, 14, 17]\n"
          ],
          "name": "stdout"
        }
      ]
    },
    {
      "cell_type": "markdown",
      "metadata": {
        "id": "VnruqxQCT4d2"
      },
      "source": [
        "We can use **the** range() function in for loops to iterate through a sequence of numbers. It can be combined with the **len**() function to iterate though a sequence using indexing. Here is an example."
      ]
    },
    {
      "cell_type": "code",
      "metadata": {
        "id": "XpfOt6gZT9-Q",
        "colab": {
          "base_uri": "https://localhost:8080/",
          "height": 68
        },
        "outputId": "abc2662c-fb12-4c3d-9446-cfaabf41d185"
      },
      "source": [
        "# Program to iterate through a list using indexing\n",
        "\n",
        "genre = ['pop', 'rock', 'jazz']\n",
        "\n",
        "# iterate over the list using index\n",
        "for i in range(len(genre)):\n",
        "\tprint(\"I like\", genre[i])"
      ],
      "execution_count": null,
      "outputs": [
        {
          "output_type": "stream",
          "text": [
            "I like pop\n",
            "I like rock\n",
            "I like jazz\n"
          ],
          "name": "stdout"
        }
      ]
    },
    {
      "cell_type": "markdown",
      "metadata": {
        "id": "qDzIcIb8UDwe"
      },
      "source": [
        "# **for loop with else** \n",
        "A for loop can have an optional else block as well. The else part is executed if the items in the sequence used in for loop exhausts.\n",
        "\n",
        "break statement can be used to stop a for loop. In such case, the else part is ignored.\n",
        "\n",
        "Hence, a for loop's else part runs if no break occurs.\n",
        "\n",
        "Here is an example to illustrate this."
      ]
    },
    {
      "cell_type": "code",
      "metadata": {
        "id": "EAP0ZYQyUNjS",
        "colab": {
          "base_uri": "https://localhost:8080/",
          "height": 85
        },
        "outputId": "2c9ce5e8-4e94-4ea3-d0df-005847b1a0ce"
      },
      "source": [
        "digits = [0, 1, 5]\n",
        "\n",
        "for i in digits:\n",
        "    print(i)\n",
        "else:\n",
        "    print(\"No items left.\")"
      ],
      "execution_count": null,
      "outputs": [
        {
          "output_type": "stream",
          "text": [
            "0\n",
            "1\n",
            "5\n",
            "No items left.\n"
          ],
          "name": "stdout"
        }
      ]
    },
    {
      "cell_type": "markdown",
      "metadata": {
        "id": "RA2arhiaUckf"
      },
      "source": [
        "Here, the for loop prints items of the list until the loop exhausts. When the for loop exhausts, it executes the block of code in the else and prints"
      ]
    }
  ]
}