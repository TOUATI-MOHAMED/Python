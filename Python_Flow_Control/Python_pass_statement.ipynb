{
  "nbformat": 4,
  "nbformat_minor": 0,
  "metadata": {
    "colab": {
      "provenance": []
    },
    "kernelspec": {
      "name": "python3",
      "display_name": "Python 3"
    }
  },
  "cells": [
    {
      "cell_type": "markdown",
      "metadata": {
        "id": "0jcQ1RpkYijK"
      },
      "source": [
        "# **Python pass statement**\n",
        "In this article, you'll learn about pass statement. It is used as a placeholder for future implementation of functions, loops, etc.\n",
        "\n",
        "# **What is pass statement in Python?**\n",
        "In Python programming, pass is a null statement. The difference between a comment and pass statement in Python is that, while the interpreter ignores a comment entirely, pass is not ignored.\n",
        "\n",
        "However, nothing happens when pass is executed. It results into no operation (NOP).\n",
        "\n",
        "**Syntax of pass** \n",
        "\n",
        "        pass\n",
        "\n",
        "We generally use it as a placeholder.\n",
        "\n",
        "Suppose we have a loop or a function that is not implemented yet, but we want to implement it in the future. They cannot have an empty body. The interpreter would complain. So, we use the pass statement to construct a body that does nothing.\n",
        "\n",
        "**Example: pass Statement**\n"
      ]
    },
    {
      "cell_type": "code",
      "metadata": {
        "id": "uC4evnpHYgmD"
      },
      "source": [
        "# pass is just a placeholder for\n",
        "# functionality to be added later.\n",
        "sequence = {'p', 'a', 's', 's'}\n",
        "for val in sequence:\n",
        "    pass"
      ],
      "execution_count": null,
      "outputs": []
    },
    {
      "cell_type": "markdown",
      "metadata": {
        "id": "2Fz-y8geZI1o"
      },
      "source": [
        "We can do the same thing in an empty function or class as well.\n"
      ]
    },
    {
      "cell_type": "code",
      "metadata": {
        "id": "Pt5nZPXqZFc6"
      },
      "source": [
        "\n",
        "def function(args):\n",
        "    pass\n",
        "class example:\n",
        "    pass"
      ],
      "execution_count": null,
      "outputs": []
    }
  ]
}