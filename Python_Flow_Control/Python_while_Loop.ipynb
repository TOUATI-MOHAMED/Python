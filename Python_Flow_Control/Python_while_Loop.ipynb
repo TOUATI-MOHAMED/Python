{
  "nbformat": 4,
  "nbformat_minor": 0,
  "metadata": {
    "colab": {
      "provenance": [],
      "authorship_tag": "ABX9TyOHj1qRJAtUGTovQuVrXGML",
      "include_colab_link": true
    },
    "kernelspec": {
      "name": "python3",
      "display_name": "Python 3"
    }
  },
  "cells": [
    {
      "cell_type": "markdown",
      "metadata": {
        "id": "view-in-github",
        "colab_type": "text"
      },
      "source": [
        "<a href=\"https://colab.research.google.com/github/TOUATI-MOHAMED/Python/blob/master/Python_Flow_Control/Python_while_Loop.ipynb\" target=\"_parent\"><img src=\"https://colab.research.google.com/assets/colab-badge.svg\" alt=\"Open In Colab\"/></a>"
      ]
    },
    {
      "cell_type": "markdown",
      "metadata": {
        "id": "yH85w4SqVDUD"
      },
      "source": [
        "# **Python while Loop**\n",
        "Loops are used in programming to repeat a specific block of code. In this article, you will learn to create a while loop in Python.\n",
        "\n",
        "# **What is while loop in Python?**\n",
        "The while loop in Python is used to iterate over a block of code as long as the test expression (condition) is true.\n",
        "\n",
        "We generally use this loop when we don't know beforehand, the number of times to iterate.\n",
        "\n",
        "**Syntax of while Loop in Python**"
      ]
    },
    {
      "cell_type": "code",
      "metadata": {
        "id": "FfU8v8mMVP5Q"
      },
      "source": [
        "while test_expression:\n",
        "    Body of while"
      ],
      "execution_count": null,
      "outputs": []
    },
    {
      "cell_type": "markdown",
      "metadata": {
        "id": "d99k22HjVQdt"
      },
      "source": [
        "In while loop, test expression is checked first. The body of the loop is entered only if the **test_expression** evaluates to True. After one iteration, the test expression is checked again. This process continues until the **test_expression** evaluates to False.\n",
        "\n",
        "In Python, the body of the while loop is determined through indentation.\n",
        "\n",
        "Body starts with indentation and the first unindented line marks the end.\n",
        "\n",
        "Python interprets any non-zero value as True. None and 0 are interpreted as False.\n",
        "\n",
        "***Flowchart of while Loop***"
      ]
    },
    {
      "cell_type": "markdown",
      "metadata": {
        "id": "C-erEnzSVjaT"
      },
      "source": [
        "![image.png](data:image/png;base64,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)"
      ]
    },
    {
      "cell_type": "markdown",
      "metadata": {
        "id": "jlamlW3uVlFZ"
      },
      "source": [
        "# **Example: Python while Loop**\n"
      ]
    },
    {
      "cell_type": "code",
      "metadata": {
        "id": "jbbnGW7EVsyG"
      },
      "source": [
        "# Program to add natural\n",
        "# numbers upto \n",
        "# sum = 1+2+3+...+n\n",
        "\n",
        "# To take input from the user,\n",
        "# n = int(input(\"Enter n: \"))\n",
        "\n",
        "n = 10\n",
        "\n",
        "# initialize sum and counter\n",
        "sum = 0\n",
        "i = 1\n",
        "\n",
        "while i <= n:\n",
        "    sum = sum + i\n",
        "    i = i+1    # update counter\n",
        "\n",
        "# print the sum\n",
        "print(\"The sum is\", sum)"
      ],
      "execution_count": null,
      "outputs": []
    },
    {
      "cell_type": "markdown",
      "metadata": {
        "id": "cTD-yOatVuoO"
      },
      "source": [
        "When you run the program, the output will be:\n",
        "\n"
      ]
    },
    {
      "cell_type": "code",
      "metadata": {
        "id": "L65_ZOPOV6bS"
      },
      "source": [
        "Enter n: 10\n",
        "The sum is 55"
      ],
      "execution_count": null,
      "outputs": []
    },
    {
      "cell_type": "markdown",
      "metadata": {
        "id": "q5FKKChmV9oj"
      },
      "source": [
        "In the above program, the test expression will be True as long as our counter variable i is less than or equal to n (10 in our program).\n",
        "\n",
        "We need to increase the value of counter variable in the body of the loop. This is very important (and mostly forgotten). Failing to do so will result in an infinite loop (never ending loop).\n",
        "\n",
        "Finally the result is displayed.\n",
        "\n",
        "# **while loop with else**\n",
        "Same as that of for loop, we can have an optional else block with while loop as well.\n",
        "\n",
        "The else part is executed if the condition in the while loop evaluates to False.\n",
        "\n",
        "The while loop can be terminated with a break statement. In such case, the else part is ignored. Hence, a while loop's else part runs if no break occurs and the condition is false.\n",
        "\n",
        "Here is an example to illustrate this.\n",
        "\n"
      ]
    },
    {
      "cell_type": "code",
      "metadata": {
        "id": "uBh2Cy61WC2H",
        "colab": {
          "base_uri": "https://localhost:8080/",
          "height": 85
        },
        "outputId": "a5d1ec91-5b2f-4e6e-dad9-a00de9ba5fc2"
      },
      "source": [
        "# Example to illustrate\n",
        "# the use of else statement\n",
        "# with the while loop\n",
        "\n",
        "counter = 0\n",
        "\n",
        "while counter < 3:\n",
        "    print(\"Inside loop\")\n",
        "    counter = counter + 1\n",
        "else:\n",
        "    print(\"Inside else\")"
      ],
      "execution_count": null,
      "outputs": [
        {
          "output_type": "stream",
          "text": [
            "Inside loop\n",
            "Inside loop\n",
            "Inside loop\n",
            "Inside else\n"
          ],
          "name": "stdout"
        }
      ]
    },
    {
      "cell_type": "markdown",
      "metadata": {
        "id": "aaKV241AWINj"
      },
      "source": [
        "Here, we use a counter variable to print the string Inside loop three times.\n",
        "\n",
        "On the forth iteration, the condition in while becomes False. Hence, the else part is executed."
      ]
    }
  ]
}